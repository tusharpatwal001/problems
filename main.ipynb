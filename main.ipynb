{
 "cells": [
  {
   "cell_type": "code",
   "execution_count": null,
   "id": "1d2dbc09",
   "metadata": {},
   "outputs": [],
   "source": [
    "import os\n",
    "from prompts import SYSTEM_PROMPT\n",
    "from langchain_google_genai import ChatGoogleGenerativeAI\n",
    "from tools import *\n",
    "from dotenv import load_dotenv\n",
    "from deepagents import create_deep_agent\n",
    "from sub_agents import presentation_maker_sub_agent\n",
    "\n",
    "load_dotenv()\n",
    "\n",
    "api_key = os.getenv(\"GEMINI_API_KEY\")"
   ]
  },
  {
   "cell_type": "code",
   "execution_count": 7,
   "id": "45fcc433",
   "metadata": {},
   "outputs": [],
   "source": [
    "# Create the deep agent\n",
    "def deep_agent_call(query: str):\n",
    "    agent = create_deep_agent(\n",
    "        model=ChatGoogleGenerativeAI(\n",
    "            model=\"gemini-2.5-flash\", google_api_key=api_key, temperature=0.2\n",
    "        ),\n",
    "        tools=[\n",
    "            internet_search,\n",
    "            arxiv_search,\n",
    "            create_markdown_file,\n",
    "            wikipedia_search,\n",
    "            create_word_file,\n",
    "        ],\n",
    "        system_prompt=SYSTEM_PROMPT,\n",
    "        subagents=[presentation_maker_sub_agent],\n",
    "    )\n",
    "\n",
    "    result = agent.invoke({\"messages\": [{\"role\": \"user\", \"content\": query}]})\n",
    "    # return result\n",
    "    return result[\"messages\"][-1].content"
   ]
  },
  {
   "cell_type": "code",
   "execution_count": 9,
   "id": "c27f484a",
   "metadata": {},
   "outputs": [
    {
     "data": {
      "text/plain": [
       "[{'type': 'text',\n",
       "  'text': 'I have successfully generated the report on the \"Use of LLM in day to day life\" and saved it as a Word file named `LLM_Daily_Life_Report.docx`.\\n\\nThe report includes the following sections:\\n\\n1.  **Executive Summary:** Summarizes key findings, insights, and recommendations.\\n2.  **Background & Context:** Provides an overview of LLMs, their evolution, and their importance in the current context.\\n3.  **Current State of Research / Evidence:** Details specific applications and use cases in personal assistance, education, entertainment, communication, and productivity, along with a critical evaluation of sources.\\n4.  **Analysis / Discussion:** Interprets the data, highlights key insights and trends, and discusses implications for various stakeholders.\\n5.  **Gaps, Uncertainties, and Challenges:** Identifies areas where evidence is limited, unresolved issues, and ethical considerations.\\n6.  **Recommendations / Next Steps:** Offers practical actions and strategic recommendations for developers, businesses, policymakers, and individual users.\\n7.  **Key Statistics / Data:** Provides quantitative findings and key metrics related to LLM adoption and market growth.\\n8.  **Conclusion:** Recaps major findings and emphasizes the significance of LLMs.\\n9.  **References / Bibliography:** Lists the sources used for the report.\\n\\nThis comprehensive report should provide a thorough understanding of LLMs\\' role in daily life.',\n",
       "  'extras': {'signature': 'CpICAdHtim8QKdh9FYZpt7FfRkHi+AYgzku4GGcRHiURkT1lPJaZ+T1QzoyLnwg3wG/qtUKlblbS9TtF9Lq1Fw8E0FAt9BGQ/1Gua1cuUq3uZilckEjRVylpdXQvuC9EJ4ZC6DTsjgXWslFwv2EvizazRUzZp6CZXYwY7Xk1yfUjr9dq/hg0XPtisyzOGRGj82+zG8WxXbMJbY+nxVmSCzOleNoC2C4rSOpl4crsd7zzIUQV1GXeTIwndqkGUtQJMkeKJpFnYrWZjNHWEtoapu2bgYP3WiM23tat5TpKm4F8XLIQOedvzpp3danSYqzKhxgjW5Hkb75LRh6GmtLm1I0XypaBdkMVb0Oi3MOagY0pi0gY5w=='}}]"
      ]
     },
     "execution_count": 9,
     "metadata": {},
     "output_type": "execute_result"
    }
   ],
   "source": [
    "deep_agent_call(\"Generate a report on Use of LLM in day to day life\")"
   ]
  },
  {
   "cell_type": "code",
   "execution_count": 11,
   "id": "3a646f2b",
   "metadata": {},
   "outputs": [
    {
     "name": "stdout",
     "output_type": "stream",
     "text": [
      "I have successfully generated the report on the \"Use of LLM in day to day life\" and saved it as a Word file named `LLM_Daily_Life_Report.docx`.\n",
      "\n",
      "The report includes the following sections:\n",
      "\n",
      "1.  **Executive Summary:** Summarizes key findings, insights, and recommendations.\n",
      "2.  **Background & Context:** Provides an overview of LLMs, their evolution, and their importance in the current context.\n",
      "3.  **Current State of Research / Evidence:** Details specific applications and use cases in personal assistance, education, entertainment, communication, and productivity, along with a critical evaluation of sources.\n",
      "4.  **Analysis / Discussion:** Interprets the data, highlights key insights and trends, and discusses implications for various stakeholders.\n",
      "5.  **Gaps, Uncertainties, and Challenges:** Identifies areas where evidence is limited, unresolved issues, and ethical considerations.\n",
      "6.  **Recommendations / Next Steps:** Offers practical actions and strategic recommendations for developers, businesses, policymakers, and individual users.\n",
      "7.  **Key Statistics / Data:** Provides quantitative findings and key metrics related to LLM adoption and market growth.\n",
      "8.  **Conclusion:** Recaps major findings and emphasizes the significance of LLMs.\n",
      "9.  **References / Bibliography:** Lists the sources used for the report.\n",
      "\n",
      "This comprehensive report should provide a thorough understanding of LLMs' role in daily life.\n"
     ]
    }
   ],
   "source": [
    "print('I have successfully generated the report on the \"Use of LLM in day to day life\" and saved it as a Word file named `LLM_Daily_Life_Report.docx`.\\n\\nThe report includes the following sections:\\n\\n1.  **Executive Summary:** Summarizes key findings, insights, and recommendations.\\n2.  **Background & Context:** Provides an overview of LLMs, their evolution, and their importance in the current context.\\n3.  **Current State of Research / Evidence:** Details specific applications and use cases in personal assistance, education, entertainment, communication, and productivity, along with a critical evaluation of sources.\\n4.  **Analysis / Discussion:** Interprets the data, highlights key insights and trends, and discusses implications for various stakeholders.\\n5.  **Gaps, Uncertainties, and Challenges:** Identifies areas where evidence is limited, unresolved issues, and ethical considerations.\\n6.  **Recommendations / Next Steps:** Offers practical actions and strategic recommendations for developers, businesses, policymakers, and individual users.\\n7.  **Key Statistics / Data:** Provides quantitative findings and key metrics related to LLM adoption and market growth.\\n8.  **Conclusion:** Recaps major findings and emphasizes the significance of LLMs.\\n9.  **References / Bibliography:** Lists the sources used for the report.\\n\\nThis comprehensive report should provide a thorough understanding of LLMs\\' role in daily life.')\n"
   ]
  },
  {
   "cell_type": "code",
   "execution_count": null,
   "id": "d51ecf27",
   "metadata": {},
   "outputs": [],
   "source": []
  },
  {
   "cell_type": "code",
   "execution_count": null,
   "id": "8587ef58",
   "metadata": {},
   "outputs": [],
   "source": []
  },
  {
   "cell_type": "code",
   "execution_count": null,
   "id": "90f5520a",
   "metadata": {},
   "outputs": [],
   "source": []
  },
  {
   "cell_type": "code",
   "execution_count": null,
   "id": "1a3b224a",
   "metadata": {},
   "outputs": [],
   "source": []
  }
 ],
 "metadata": {
  "kernelspec": {
   "display_name": "Deep Agent",
   "language": "python",
   "name": "python3"
  },
  "language_info": {
   "codemirror_mode": {
    "name": "ipython",
    "version": 3
   },
   "file_extension": ".py",
   "mimetype": "text/x-python",
   "name": "python",
   "nbconvert_exporter": "python",
   "pygments_lexer": "ipython3",
   "version": "3.11.9"
  }
 },
 "nbformat": 4,
 "nbformat_minor": 5
}
