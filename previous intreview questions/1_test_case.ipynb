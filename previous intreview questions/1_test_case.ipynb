{
 "cells": [
  {
   "cell_type": "code",
   "id": "initial_id",
   "metadata": {
    "collapsed": true,
    "ExecuteTime": {
     "end_time": "2025-10-13T13:32:58.396497Z",
     "start_time": "2025-10-13T13:32:58.364810Z"
    }
   },
   "source": [
    "# find factorial of n\n",
    "def factorial_n(n):\n",
    "    if n == 0:\n",
    "        return 1\n",
    "    else:\n",
    "        return n * factorial_n(n-1)\n",
    "\n",
    "factorial_n(7)"
   ],
   "outputs": [
    {
     "data": {
      "text/plain": [
       "5040"
      ]
     },
     "execution_count": 5,
     "metadata": {},
     "output_type": "execute_result"
    }
   ],
   "execution_count": 5
  },
  {
   "metadata": {
    "ExecuteTime": {
     "end_time": "2025-10-13T13:37:55.703878Z",
     "start_time": "2025-10-13T13:37:55.688262Z"
    }
   },
   "cell_type": "code",
   "source": [
    "# find palindrome\n",
    "def find_palindrome(word: str):\n",
    "    return word[::-1] == word\n",
    "\n",
    "find_palindrome(\"hello\")"
   ],
   "id": "f3e1a10acfb3c128",
   "outputs": [
    {
     "data": {
      "text/plain": [
       "False"
      ]
     },
     "execution_count": 23,
     "metadata": {},
     "output_type": "execute_result"
    }
   ],
   "execution_count": 23
  },
  {
   "metadata": {
    "ExecuteTime": {
     "end_time": "2025-10-13T13:37:07.859788Z",
     "start_time": "2025-10-13T13:37:07.844163Z"
    }
   },
   "cell_type": "code",
   "source": "",
   "id": "f827cf16ecbe5b47",
   "outputs": [],
   "execution_count": null
  },
  {
   "metadata": {},
   "cell_type": "code",
   "outputs": [],
   "execution_count": null,
   "source": "",
   "id": "93a318083fcf18da"
  }
 ],
 "metadata": {
  "kernelspec": {
   "display_name": "Python 3",
   "language": "python",
   "name": "python3"
  },
  "language_info": {
   "codemirror_mode": {
    "name": "ipython",
    "version": 2
   },
   "file_extension": ".py",
   "mimetype": "text/x-python",
   "name": "python",
   "nbconvert_exporter": "python",
   "pygments_lexer": "ipython2",
   "version": "2.7.6"
  }
 },
 "nbformat": 4,
 "nbformat_minor": 5
}
