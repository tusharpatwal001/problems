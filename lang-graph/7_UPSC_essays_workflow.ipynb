{
 "cells": [
  {
   "cell_type": "code",
   "execution_count": 25,
   "id": "b878ca59",
   "metadata": {},
   "outputs": [],
   "source": [
    "from langgraph.graph import StateGraph, START, END\n",
    "from langchain_ollama import ChatOllama\n",
    "from typing import TypedDict, Annotated\n",
    "from pydantic import BaseModel, Field\n",
    "import operator"
   ]
  },
  {
   "cell_type": "code",
   "execution_count": 26,
   "id": "9c8d72b3",
   "metadata": {},
   "outputs": [],
   "source": [
    "# model creation\n",
    "model = ChatOllama(model=\"gemma3:4b\")"
   ]
  },
  {
   "cell_type": "code",
   "execution_count": 27,
   "id": "ca5dd3da",
   "metadata": {},
   "outputs": [],
   "source": [
    "# output schema\n",
    "class EvaluateSchema(BaseModel):\n",
    "    feedback: str = Field(description=\"Detailed feedback for essay\")\n",
    "    score: int = Field(description=\"Score out of 10\", ge=0, le=10)"
   ]
  },
  {
   "cell_type": "code",
   "execution_count": 28,
   "id": "d394dfaa",
   "metadata": {},
   "outputs": [],
   "source": [
    "# example essay\n",
    "essay = \"\"\"\n",
    "THE \"Laptop Stickers\" COLLEGE ESSAY EXAMPLE\n",
    "My laptop is like a passport. It is plastered with stickers all over the outside, inside, and bottom. Each sticker is a stamp, representing a place I've been, a passion I've pursued, or community I've belonged to. These stickers make for an untraditional first impression at a meeting or presentation, but it's one I'm proud of. Let me take you on a quick tour:\n",
    "\n",
    "\"We < 3 Design,\" bottom left corner. Art has been a constant for me for as long as I can remember. Today my primary engagement with art is through design. I've spent entire weekends designing websites and social media graphics for my companies. Design means more to me than just branding and marketing; it gives me the opportunity to experiment with texture, perspective, and contrast, helping me refine my professional style.\n",
    "\n",
    "\"Common Threads,\" bottom right corner. A rectangular black and red sticker displaying the theme of the 2017 TEDxYouth@Austin event. For years I've been interested in the street artists and musicians in downtown Austin who are so unapologetically themselves. As a result, I've become more open-minded and appreciative of unconventional lifestyles. TED gives me the opportunity to help other youth understand new perspectives, by exposing them to the diversity of Austin where culture is created, not just consumed.\n",
    "\n",
    "Poop emoji, middle right. My 13-year-old brother often sends his messages with the poop emoji 'echo effect,' so whenever I open a new message from him, hundreds of poops elegantly cascade across my screen. He brings out my goofy side, but also helps me think rationally when I am overwhelmed. We don't have the typical \"I hate you, don't talk to me\" siblinghood (although occasionally it would be nice to get away from him); we're each other's best friends. Or at least he's mine.\n",
    "\n",
    "\"Lol ur not Harry Styles,\" upper left corner. Bought in seventh grade and transferred from my old laptop, this sticker is torn but persevering with layers of tape. Despite conveying my fangirl-y infatuation with Harry Styles' boyband, One Direction, for me Styles embodies an artist-activist who uses his privilege for the betterment of society. As a $42K donor to the Time's Up Legal Defense Fund, a hair donor to the Little Princess Trust, and promoter of LGBTQ+ equality, he has motivated me to be a more public activist instead of internalizing my beliefs.\n",
    "\n",
    "\"Catapult,\" middle right. This is the logo of a startup incubator where I launched my first company, Threading Twine. I learned that business can provide others access to fundamental human needs, such as economic empowerment of minorities and education. In my career, I hope to be a corporate advocate for the empowerment of women, creating large-scale impact and deconstructing institutional boundaries that obstruct women from working in high-level positions. Working as a women's rights activist will allow me to engage in creating lasting movements for equality, rather than contributing to a cycle that elevates the stances of wealthy individuals.\n",
    "\n",
    "\"Thank God it's Monday,\" sneakily nestled in the upper right corner. Although I attempt to love all my stickers equally (haha), this is one of my favorites. I always want my association with work to be positive.\n",
    "\n",
    "And there are many others, including the horizontal, yellow stripes of the Human Rights Campaign; \"The Team,\" a sticker from the Model G20 Economics Summit where I collaborated with youth from around the globe; and stickers from \"Kode with Klossy,\" a community of girls working to promote women's involvement in underrepresented fields.\n",
    "\n",
    "When my computer dies (hopefully not for another few years), it will be like my passport expiring. It'll be difficult leaving these moments and memories behind, but I probably won't want these stickers in my 20s anyways (except Harry Styles, that's never leaving). My next set of stickers will reveal my next set of aspirations. They hold the key to future paths I will navigate, knowledge I will gain, and connections I will make.\n",
    "\"\"\""
   ]
  },
  {
   "cell_type": "code",
   "execution_count": 29,
   "id": "6522478a",
   "metadata": {},
   "outputs": [],
   "source": [
    "# model + schema\n",
    "structured_model = model.with_structured_output(schema=EvaluateSchema)"
   ]
  },
  {
   "cell_type": "code",
   "execution_count": 30,
   "id": "ea740f2f",
   "metadata": {},
   "outputs": [],
   "source": [
    "prompt = f\"Evaluate the language quality of the following essay and assign a score out of 10 \\n {essay}\"\n",
    "output = structured_model.invoke(prompt)"
   ]
  },
  {
   "cell_type": "markdown",
   "id": "f5041f5d",
   "metadata": {},
   "source": [
    "### Outputs from the structured-model"
   ]
  },
  {
   "cell_type": "code",
   "execution_count": 31,
   "id": "ea4de23f",
   "metadata": {},
   "outputs": [
    {
     "data": {
      "text/plain": [
       "\"This is a fascinating and creative essay, but its language quality needs significant improvement to truly shine for a college application. Here's a breakdown and a score:\""
      ]
     },
     "execution_count": 31,
     "metadata": {},
     "output_type": "execute_result"
    }
   ],
   "source": [
    "output.feedback"
   ]
  },
  {
   "cell_type": "code",
   "execution_count": 32,
   "id": "aa600793",
   "metadata": {},
   "outputs": [
    {
     "data": {
      "text/plain": [
       "6"
      ]
     },
     "execution_count": 32,
     "metadata": {},
     "output_type": "execute_result"
    }
   ],
   "source": [
    "output.score"
   ]
  },
  {
   "cell_type": "code",
   "execution_count": 46,
   "id": "ba3dc6b0",
   "metadata": {},
   "outputs": [],
   "source": [
    "# create State\n",
    "class UPSCState(TypedDict):\n",
    "    essay: str\n",
    "    language_feedback: str\n",
    "    analysis_feedback: str\n",
    "    clarity_feedback: str\n",
    "    overall_feedback: str\n",
    "    individual_scores: Annotated[list[int], operator.add]\n",
    "    avg_score: float"
   ]
  },
  {
   "cell_type": "markdown",
   "id": "3b5963c1",
   "metadata": {},
   "source": [
    "### Defining Nodes"
   ]
  },
  {
   "cell_type": "code",
   "execution_count": 47,
   "id": "eec19932",
   "metadata": {},
   "outputs": [],
   "source": [
    "def evaluate_language(state: UPSCState) -> UPSCState:\n",
    "\n",
    "    prompt = f\"Evaluate the language quality of the following essay and assign a score out of 10 \\n {state['essay']}\"\n",
    "    output = structured_model.invoke(prompt)\n",
    "\n",
    "    return {\"language_feedback\": output.feedback, 'individual_scores': [output.score]}"
   ]
  },
  {
   "cell_type": "code",
   "execution_count": 48,
   "id": "00e6d171",
   "metadata": {},
   "outputs": [],
   "source": [
    "def evaluate_analysis(state: UPSCState) -> UPSCState:\n",
    "    prompt = f\"Evaluate the depth of the analysis of the following essay and assign a score out of 10 \\n {state['essay']}\"\n",
    "    output = structured_model.invoke(prompt)\n",
    "\n",
    "    return {\"analysis_feedback\": output.feedback, 'individual_scores': [output.score]}"
   ]
  },
  {
   "cell_type": "code",
   "execution_count": 49,
   "id": "17b71ba1",
   "metadata": {},
   "outputs": [],
   "source": [
    "def evaluate_thought(state: UPSCState) -> UPSCState:\n",
    "    prompt = f\"Evaluate the clarity of thought of the following essay and assign a score out of 10 \\n {state['essay']}\"\n",
    "    output = structured_model.invoke(prompt)\n",
    "\n",
    "    return {\"clarity_feedback\": output.feedback, 'individual_scores': [output.score]}"
   ]
  },
  {
   "cell_type": "code",
   "execution_count": 50,
   "id": "fac95498",
   "metadata": {},
   "outputs": [],
   "source": [
    "def final_evaluation(state: UPSCState) -> UPSCState:\n",
    "    \n",
    "    # summary feedback\n",
    "    prompt = f\"Based on the following feedbacks create a summarized feedback \\n language feedback - {state['language_feedback']} \\n depth of analysis feedback - {state['analysis_feedback']} \\n clarity of thought feedback - {state['clarity_feedback']}\"\n",
    "    overall_feedback = model.invoke(prompt).content\n",
    "\n",
    "    # average calculate\n",
    "    avg_score = sum(state['individual_scores'])/len(state['individual_scores'])\n",
    "\n",
    "    return {\"overall_feedback\": overall_feedback, \"avg_score\": avg_score}"
   ]
  },
  {
   "cell_type": "code",
   "execution_count": 51,
   "id": "55e750a9",
   "metadata": {},
   "outputs": [],
   "source": [
    "# creating graph\n",
    "graph = StateGraph(UPSCState)\n",
    "\n",
    "# nodes\n",
    "graph.add_node(\"evaluate_language\", evaluate_language)\n",
    "graph.add_node(\"evaluate_analysis\", evaluate_analysis)\n",
    "graph.add_node(\"evaluate_thought\", evaluate_thought)\n",
    "graph.add_node(\"final_evaluation\", final_evaluation)\n",
    "\n",
    "\n",
    "# edges\n",
    "graph.add_edge(START, \"evaluate_language\")\n",
    "graph.add_edge(START, \"evaluate_analysis\")\n",
    "graph.add_edge(START, \"evaluate_thought\")\n",
    "\n",
    "graph.add_edge(\"evaluate_language\", \"final_evaluation\")\n",
    "graph.add_edge(\"evaluate_analysis\", \"final_evaluation\")\n",
    "graph.add_edge(\"evaluate_thought\", \"final_evaluation\")\n",
    "\n",
    "graph.add_edge(\"final_evaluation\", END)\n",
    "\n",
    "\n",
    "# compile graph\n",
    "workflow = graph.compile()"
   ]
  },
  {
   "cell_type": "code",
   "execution_count": 52,
   "id": "a1b89d20",
   "metadata": {},
   "outputs": [
    {
     "name": "stdout",
     "output_type": "stream",
     "text": [
      "                                    +-----------+                                     \n",
      "                                   *| __start__ |**                                   \n",
      "                              ***** +-----------+  *****                              \n",
      "                        ******            *             ******                        \n",
      "                   *****                  *                   *****                   \n",
      "                ***                       *                        ***                \n",
      "+-------------------+           +-------------------+           +------------------+  \n",
      "| evaluate_analysis |           | evaluate_language |           | evaluate_thought |  \n",
      "+-------------------+***        +-------------------+         **+------------------+  \n",
      "                        ******            *             ******                        \n",
      "                              *****       *        *****                              \n",
      "                                   ***    *     ***                                   \n",
      "                                +------------------+                                  \n",
      "                                | final_evaluation |                                  \n",
      "                                +------------------+                                  \n",
      "                                          *                                           \n",
      "                                          *                                           \n",
      "                                          *                                           \n",
      "                                     +---------+                                      \n",
      "                                     | __end__ |                                      \n",
      "                                     +---------+                                      \n"
     ]
    }
   ],
   "source": [
    "# to see graph diagram\n",
    "workflow.get_graph().print_ascii()"
   ]
  },
  {
   "cell_type": "code",
   "execution_count": 53,
   "id": "210c119c",
   "metadata": {},
   "outputs": [],
   "source": [
    "initial_state = {\n",
    "    \"essay\": essay\n",
    "}\n",
    "final_state = workflow.invoke(initial_state)"
   ]
  },
  {
   "cell_type": "code",
   "execution_count": 54,
   "id": "3df92b46",
   "metadata": {},
   "outputs": [
    {
     "data": {
      "text/plain": [
       "{'essay': '\\nTHE \"Laptop Stickers\" COLLEGE ESSAY EXAMPLE\\nMy laptop is like a passport. It is plastered with stickers all over the outside, inside, and bottom. Each sticker is a stamp, representing a place I\\'ve been, a passion I\\'ve pursued, or community I\\'ve belonged to. These stickers make for an untraditional first impression at a meeting or presentation, but it\\'s one I\\'m proud of. Let me take you on a quick tour:\\n\\n\"We < 3 Design,\" bottom left corner. Art has been a constant for me for as long as I can remember. Today my primary engagement with art is through design. I\\'ve spent entire weekends designing websites and social media graphics for my companies. Design means more to me than just branding and marketing; it gives me the opportunity to experiment with texture, perspective, and contrast, helping me refine my professional style.\\n\\n\"Common Threads,\" bottom right corner. A rectangular black and red sticker displaying the theme of the 2017 TEDxYouth@Austin event. For years I\\'ve been interested in the street artists and musicians in downtown Austin who are so unapologetically themselves. As a result, I\\'ve become more open-minded and appreciative of unconventional lifestyles. TED gives me the opportunity to help other youth understand new perspectives, by exposing them to the diversity of Austin where culture is created, not just consumed.\\n\\nPoop emoji, middle right. My 13-year-old brother often sends his messages with the poop emoji \\'echo effect,\\' so whenever I open a new message from him, hundreds of poops elegantly cascade across my screen. He brings out my goofy side, but also helps me think rationally when I am overwhelmed. We don\\'t have the typical \"I hate you, don\\'t talk to me\" siblinghood (although occasionally it would be nice to get away from him); we\\'re each other\\'s best friends. Or at least he\\'s mine.\\n\\n\"Lol ur not Harry Styles,\" upper left corner. Bought in seventh grade and transferred from my old laptop, this sticker is torn but persevering with layers of tape. Despite conveying my fangirl-y infatuation with Harry Styles\\' boyband, One Direction, for me Styles embodies an artist-activist who uses his privilege for the betterment of society. As a $42K donor to the Time\\'s Up Legal Defense Fund, a hair donor to the Little Princess Trust, and promoter of LGBTQ+ equality, he has motivated me to be a more public activist instead of internalizing my beliefs.\\n\\n\"Catapult,\" middle right. This is the logo of a startup incubator where I launched my first company, Threading Twine. I learned that business can provide others access to fundamental human needs, such as economic empowerment of minorities and education. In my career, I hope to be a corporate advocate for the empowerment of women, creating large-scale impact and deconstructing institutional boundaries that obstruct women from working in high-level positions. Working as a women\\'s rights activist will allow me to engage in creating lasting movements for equality, rather than contributing to a cycle that elevates the stances of wealthy individuals.\\n\\n\"Thank God it\\'s Monday,\" sneakily nestled in the upper right corner. Although I attempt to love all my stickers equally (haha), this is one of my favorites. I always want my association with work to be positive.\\n\\nAnd there are many others, including the horizontal, yellow stripes of the Human Rights Campaign; \"The Team,\" a sticker from the Model G20 Economics Summit where I collaborated with youth from around the globe; and stickers from \"Kode with Klossy,\" a community of girls working to promote women\\'s involvement in underrepresented fields.\\n\\nWhen my computer dies (hopefully not for another few years), it will be like my passport expiring. It\\'ll be difficult leaving these moments and memories behind, but I probably won\\'t want these stickers in my 20s anyways (except Harry Styles, that\\'s never leaving). My next set of stickers will reveal my next set of aspirations. They hold the key to future paths I will navigate, knowledge I will gain, and connections I will make.\\n',\n",
       " 'language_feedback': \"This essay is a fascinating and creative piece, but its language quality is uneven and leans heavily towards informal, conversational, and at times, overly descriptive. Here's a breakdown of the score and specific feedback:\\n\\n**Overall Score: 6.5/10**\\n\\n**Strengths:**\\n*   **Unique Voice & Concept:** The core idea – using a laptop sticker collection as a metaphor for personal growth and values – is incredibly engaging and demonstrates a strong ability to self-reflect. It’s a very memorable and distinctive approach.\\n*   **Specific Examples:** The essay provides concrete examples of each sticker and its connection to the author's life and values. This makes the piece feel authentic and relatable.\\n*   **Passion & Enthusiasm:** The author’s excitement for their interests and experiences shines through.\\n\\n**Weaknesses:**\\n*   **Informal Language & Tone:** The essay is written in a very casual, conversational style, bordering on anecdotal. Phrases like “haha,” “Let me take you on a quick tour,” and the frequent use of emojis detract from the essay’s academic tone. It reads more like a personal journal entry than a polished college application essay.\\n*   **Over-Descriptive Language:** The descriptions of the stickers and their significance are often overly detailed (e.g., “hundreds of poops elegantly cascade across my screen”). While the detail is interesting, it slows down the flow of the essay.\\n*   **Lack of Analytical Depth:** While the essay describes *what* the stickers represent, it doesn't always analyze *why* those things are important to the author's development. There’s a missed opportunity to connect the stickers to broader themes of identity, values, and aspirations.\\n*   **Repetitive Sentence Structure:** The use of phrases like “I've been interested in…” repeats throughout the essay.\\n\\n**Recommendations for Improvement:**\\n*   **Shift Tone:** Aim for a more formal and analytical tone appropriate for a college application.  Consider removing the conversational elements.\\n*   **Focus on Analysis:** Dedicate more space to explaining *why* each sticker represents a significant moment or influence in the author's life. Explore the deeper meaning behind the connections.\\n*   **Conciseness:** Cut out unnecessary descriptive details and streamline sentences for better flow.\\n*   **Stronger Conclusion:** The ending feels a bit abrupt.  Consider a concluding statement that synthesizes the key themes of the essay and reinforces the author’s aspirations.\",\n",
       " 'analysis_feedback': 'This essay is a surprisingly thoughtful and well-structured reflection, but it leans heavily on anecdote and personal connection rather than demonstrating deep analytical skills. Here’s a breakdown of my assessment and a score:',\n",
       " 'clarity_feedback': \"This essay demonstrates a strong attempt at a unique and engaging personal statement. However, its clarity and effectiveness could be significantly improved. Here’s a breakdown of my assessment:\\n\\n**Clarity Score: 6.5/10**\\n\\n**Strengths:**\\n\\n*   **Creative Concept:** The core idea of using stickers as representations of experiences and aspirations is genuinely innovative and memorable. It immediately grabs the reader’s attention.\\n*   **Specific Examples:** The essay provides concrete examples (Harry Styles, the incubator, etc.) which adds depth and makes the writer seem thoughtful.\\n*   **Enthusiasm:** The writer clearly enjoys the topic and comes across as passionate.\\n\\n**Weaknesses:**\\n\\n*   **Over-Reliance on Description:** The essay is *too* descriptive. While detailing each sticker is initially engaging, it quickly becomes repetitive and slows down the pacing. The reader is constantly being told *what* the sticker represents, rather than *why* it’s significant to the writer.\\n*   **Lack of Analysis:** The biggest weakness is the absence of deeper analysis. Each sticker is presented as a fact, but the writer doesn't explore *how* these experiences have shaped their values, goals, or perspectives. Why is Harry Styles a role model? What did the incubator teach them?  The examples need to be woven into a narrative with clear connections.\\n*   **Informal Tone:** The conversational tone, while relatable, feels a bit too casual for a college application. Phrases like “haha” and “sneakily nestled” detract from the essay's seriousness.\\n*   **Redundancy:** The concluding paragraph essentially restates the initial idea – stickers represent future aspirations. It doesn’t offer a final, impactful thought.\\n\\n**Recommendations:**\\n\\n*   **Prioritize Narrative:** Structure the essay around a central theme or narrative. Instead of simply describing each sticker, use them as building blocks to tell a story about the writer's growth and development.\\n*   **Add Depth of Analysis:** For each example, delve deeper into *why* it matters. Ask “So what?” questions.\\n*   **Refine Tone:**  Adjust the tone to be more formal and reflective.  Focus on demonstrating thoughtful self-assessment.\\n*   **Stronger Conclusion:**  Craft a concluding paragraph that summarizes the writer’s key takeaways and leaves a lasting impression. \\n\\n**Overall:** This essay has potential, but it needs significant revisions to improve its clarity, depth, and impact. Focus on storytelling and analytical reflection to make it a truly compelling college application statement.\",\n",
       " 'overall_feedback': 'Okay, here’s a summarized feedback report incorporating all three pieces of feedback, aiming for a concise and actionable overview:\\n\\n**Overall Assessment: 6/10 – Requires Significant Revision**\\n\\n**Key Strengths:**\\n\\n*   **Unique Concept:** The core idea of using laptop stickers as a metaphor for personal growth is creative and memorable.\\n*   **Specific Examples:** The use of concrete examples (Harry Styles, the incubator, etc.) adds depth and relatability.\\n*   **Passion:** The writer demonstrates genuine enthusiasm for their interests.\\n\\n**Major Weaknesses & Recurring Themes:**\\n\\n*   **Tone & Formality:** The essay is overwhelmingly informal and conversational, bordering on anecdotal, which is inappropriate for a college application.  Phrases like \"haha\" and overly descriptive language detract from its seriousness.\\n*   **Lack of Analytical Depth:** The biggest issue is a failure to analyze *why* the experiences represented by the stickers are important to the writer\\'s development. It relies too heavily on description and “telling” rather than “showing” and analyzing. There\\'s a missed opportunity to connect the examples to broader themes of identity, values, and aspirations.\\n*   **Over-Descriptive Language & Redundancy:** The writing frequently delves into excessive detail about the stickers themselves, slowing down the flow and feeling repetitive. \\n\\n**Recommendations (Prioritized):**\\n\\n1.  **Shift Tone & Formality:**  Rewrite the essay with a more formal, analytical tone suitable for a college application.\\n2.  **Add Analytical Depth:**  For each example, ask \"So what?\" and explore *why* the experience is significant – how it shaped the author\\'s values, goals, or perspectives.\\n3.  **Streamline & Prioritize:**  Cut unnecessary descriptive details and focus on crafting a clear, engaging narrative.\\n4.  **Stronger Conclusion:** Develop a concluding paragraph that synthesizes the key themes and leaves a lasting impression.\\n\\n**In essence, this essay has a strong foundation but needs a fundamental shift in approach – moving from descriptive storytelling to analytical reflection.** \\n\\n---\\n\\nWould you like me to elaborate on any specific aspect of this summary, or perhaps generate a draft of a revised paragraph based on this feedback?',\n",
       " 'individual_scores': [7, 6, 6],\n",
       " 'avg_score': 6.333333333333333}"
      ]
     },
     "execution_count": 54,
     "metadata": {},
     "output_type": "execute_result"
    }
   ],
   "source": [
    "final_state"
   ]
  },
  {
   "cell_type": "code",
   "execution_count": null,
   "id": "3815d319",
   "metadata": {},
   "outputs": [],
   "source": []
  },
  {
   "cell_type": "code",
   "execution_count": null,
   "id": "a0753d80",
   "metadata": {},
   "outputs": [],
   "source": []
  }
 ],
 "metadata": {
  "kernelspec": {
   "display_name": "Python 3",
   "language": "python",
   "name": "python3"
  },
  "language_info": {
   "codemirror_mode": {
    "name": "ipython",
    "version": 3
   },
   "file_extension": ".py",
   "mimetype": "text/x-python",
   "name": "python",
   "nbconvert_exporter": "python",
   "pygments_lexer": "ipython3",
   "version": "3.11.13"
  }
 },
 "nbformat": 4,
 "nbformat_minor": 5
}
