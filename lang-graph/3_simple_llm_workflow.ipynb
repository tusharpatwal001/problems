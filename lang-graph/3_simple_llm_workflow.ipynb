{
 "cells": [
  {
   "cell_type": "code",
   "execution_count": 1,
   "id": "42004fd7",
   "metadata": {},
   "outputs": [],
   "source": [
    "from langgraph.graph import StateGraph, START, END\n",
    "from typing import TypedDict\n",
    "from langchain_ollama import ChatOllama"
   ]
  },
  {
   "cell_type": "code",
   "execution_count": 2,
   "id": "b46b494a",
   "metadata": {},
   "outputs": [],
   "source": [
    "# loading model\n",
    "model = ChatOllama(model='gemma3:4b')"
   ]
  },
  {
   "cell_type": "code",
   "execution_count": 3,
   "id": "d0c1cca0",
   "metadata": {},
   "outputs": [],
   "source": [
    "# define State\n",
    "class LLMState(TypedDict):\n",
    "    \n",
    "    question: str\n",
    "    answer: str"
   ]
  },
  {
   "cell_type": "code",
   "execution_count": 4,
   "id": "80a52846",
   "metadata": {},
   "outputs": [],
   "source": [
    "def llm_qa(state: LLMState) -> LLMState:\n",
    "    \n",
    "    # extract the question from state\n",
    "    question = state['question']\n",
    "    \n",
    "    # form a prompt\n",
    "    prompt = f\"Answer the following question {question}\"\n",
    "    \n",
    "    # ask that question to the LLM\n",
    "    answer = model.invoke(prompt).content\n",
    "    \n",
    "    # update the answer in the state\n",
    "    state['answer'] = answer\n",
    "    \n",
    "    return state"
   ]
  },
  {
   "cell_type": "code",
   "execution_count": 12,
   "id": "3b620927",
   "metadata": {},
   "outputs": [],
   "source": [
    "# define your graph\n",
    "graph = StateGraph(LLMState)\n",
    "\n",
    "# add nodes to your graph\n",
    "graph.add_node(\"llm_qa\", llm_qa)\n",
    "\n",
    "# add edged to your graph\n",
    "graph.add_edge(START, \"llm_qa\")\n",
    "graph.add_edge(\"llm_qa\", END)\n",
    "\n",
    "# compile the graph\n",
    "workflow = graph.compile()\n"
   ]
  },
  {
   "cell_type": "code",
   "execution_count": 13,
   "id": "ab08fc37",
   "metadata": {},
   "outputs": [
    {
     "data": {
      "image/png": "[encoded data removed]",
      "text/plain": [
       "<langgraph.graph.state.CompiledStateGraph object at 0x000002364F226850>"
      ]
     },
     "execution_count": 13,
     "metadata": {},
     "output_type": "execute_result"
    }
   ],
   "source": [
    "# model diagram\n",
    "workflow"
   ]
  },
  {
   "cell_type": "code",
   "execution_count": 9,
   "id": "bea0195b",
   "metadata": {},
   "outputs": [
    {
     "name": "stdout",
     "output_type": "stream",
     "text": [
      "{'question': 'How far is Moon from the Earth?', 'answer': \"That’s a fantastic question, and the answer is… it’s complicated! The distance between the Earth and the Moon isn’t a fixed number because the Moon’s orbit is an ellipse, not a perfect circle.\\n\\nHere's a breakdown:\\n\\n* **Average Distance:** Approximately **384,400 kilometers (238,855 miles)**. This is the number you’ll most often hear.\\n* **Perigee (Closest Point):** Around **363,104 kilometers (225,623 miles)**.\\n* **Apogee (Farthest Point):** Around **405,696 kilometers (252,088 miles)**.\\n\\n**Think of it like this:** The Moon is constantly moving around the Earth, and its distance changes throughout its orbit.\\n\\nDo you want to know more about why the orbit is elliptical, or about the Moon’s phases?\"}\n"
     ]
    }
   ],
   "source": [
    "# execute the graph\n",
    "initial_state = {\"question\": \"How far is Moon from the Earth?\"}\n",
    "\n",
    "final_state = workflow.invoke(initial_state)\n",
    "\n",
    "print(final_state)"
   ]
  },
  {
   "cell_type": "code",
   "execution_count": 10,
   "id": "a2a044b6",
   "metadata": {},
   "outputs": [
    {
     "data": {
      "text/plain": [
       "\"That’s a fantastic question, and the answer is… it’s complicated! The distance between the Earth and the Moon isn’t a fixed number because the Moon’s orbit is an ellipse, not a perfect circle.\\n\\nHere's a breakdown:\\n\\n* **Average Distance:** Approximately **384,400 kilometers (238,855 miles)**. This is the number you’ll most often hear.\\n* **Perigee (Closest Point):** Around **363,104 kilometers (225,623 miles)**.\\n* **Apogee (Farthest Point):** Around **405,696 kilometers (252,088 miles)**.\\n\\n**Think of it like this:** The Moon is constantly moving around the Earth, and its distance changes throughout its orbit.\\n\\nDo you want to know more about why the orbit is elliptical, or about the Moon’s phases?\""
      ]
     },
     "execution_count": 10,
     "metadata": {},
     "output_type": "execute_result"
    }
   ],
   "source": [
    "final_state['answer']"
   ]
  },
  {
   "cell_type": "code",
   "execution_count": 11,
   "id": "147f3f1d",
   "metadata": {},
   "outputs": [
    {
     "name": "stdout",
     "output_type": "stream",
     "text": [
      "+-----------+  \n",
      "| __start__ |  \n",
      "+-----------+  \n",
      "      *        \n",
      "      *        \n",
      "      *        \n",
      "  +--------+   \n",
      "  | llm_qa |   \n",
      "  +--------+   \n",
      "      *        \n",
      "      *        \n",
      "      *        \n",
      " +---------+   \n",
      " | __end__ |   \n",
      " +---------+   \n"
     ]
    }
   ],
   "source": [
    "# to see graph diagram\n",
    "workflow.get_graph().print_ascii()"
   ]
  },
  {
   "cell_type": "code",
   "execution_count": null,
   "id": "98ddd4d9",
   "metadata": {},
   "outputs": [],
   "source": []
  }
 ],
 "metadata": {
  "kernelspec": {
   "display_name": "Python 3",
   "language": "python",
   "name": "python3"
  },
  "language_info": {
   "codemirror_mode": {
    "name": "ipython",
    "version": 3
   },
   "file_extension": ".py",
   "mimetype": "text/x-python",
   "name": "python",
   "nbconvert_exporter": "python",
   "pygments_lexer": "ipython3",
   "version": "3.11.13"
  }
 },
 "nbformat": 4,
 "nbformat_minor": 5
}
