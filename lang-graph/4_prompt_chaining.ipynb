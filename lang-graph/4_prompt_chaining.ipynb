{
 "cells": [
  {
   "cell_type": "code",
   "execution_count": 1,
   "id": "37b488e8",
   "metadata": {},
   "outputs": [],
   "source": [
    "from langgraph.graph import StateGraph, START, END\n",
    "from typing import TypedDict\n",
    "from langchain_ollama import ChatOllama"
   ]
  },
  {
   "cell_type": "code",
   "execution_count": 2,
   "id": "0186ebaf",
   "metadata": {},
   "outputs": [],
   "source": [
    "model = ChatOllama(model=\"gemma3:4b\")"
   ]
  },
  {
   "cell_type": "code",
   "execution_count": 4,
   "id": "2a164ae2",
   "metadata": {},
   "outputs": [],
   "source": [
    "class BlogState(TypedDict):\n",
    "    \n",
    "    title: str\n",
    "    outline: str\n",
    "    content: str"
   ]
  },
  {
   "cell_type": "code",
   "execution_count": 5,
   "id": "1f42e446",
   "metadata": {},
   "outputs": [],
   "source": [
    "def create_outline(state: BlogState) -> BlogState:\n",
    "\n",
    "    # fetch title\n",
    "    title = state['title']\n",
    "\n",
    "    # call llm generate outline\n",
    "    prompt = f'Generate a detailed outline for a blog on the topic - {title}'\n",
    "    outline = model.invoke(prompt).content\n",
    "\n",
    "    # update state\n",
    "    state['outline'] = outline\n",
    "\n",
    "    return state"
   ]
  },
  {
   "cell_type": "code",
   "execution_count": 6,
   "id": "b42a5b8f",
   "metadata": {},
   "outputs": [],
   "source": [
    "def create_blog(state: BlogState) -> BlogState:\n",
    "    \n",
    "    # fetch title and outline\n",
    "    title = state['title']\n",
    "    outline = state['outline']\n",
    "    \n",
    "    # create a prompt\n",
    "    prompt = f\"Write a detailed blog on the title -{title} using the following outline \\n {outline}\"\n",
    "    content = model.invoke(prompt).content\n",
    "    \n",
    "    # update state\n",
    "    state['content'] = content\n",
    "    \n",
    "    return state"
   ]
  },
  {
   "cell_type": "code",
   "execution_count": 7,
   "id": "620565f5",
   "metadata": {},
   "outputs": [],
   "source": [
    "graph = StateGraph(BlogState)\n",
    "\n",
    "# nodes\n",
    "graph.add_node(\"create_outline\", create_outline)\n",
    "graph.add_node(\"create_blog\", create_blog)\n",
    "\n",
    "# edges\n",
    "graph.add_edge(START, \"create_outline\")\n",
    "graph.add_edge(\"create_outline\", \"create_blog\")\n",
    "graph.add_edge(\"create_blog\", END)\n",
    "\n",
    "# compile the graph\n",
    "workflow = graph.compile()"
   ]
  },
  {
   "cell_type": "code",
   "execution_count": 8,
   "id": "25a0244e",
   "metadata": {},
   "outputs": [
    {
     "data": {
      "image/png": "[encoded data removed]",
      "text/plain": [
       "<langgraph.graph.state.CompiledStateGraph object at 0x0000023F682EA210>"
      ]
     },
     "execution_count": 8,
     "metadata": {},
     "output_type": "execute_result"
    }
   ],
   "source": [
    "# graph digram\n",
    "workflow"
   ]
  },
  {
   "cell_type": "code",
   "execution_count": 9,
   "id": "c3cdcb11",
   "metadata": {},
   "outputs": [
    {
     "name": "stdout",
     "output_type": "stream",
     "text": [
      "{'title': 'Rise of AI in India', 'outline': 'Okay, here\\'s a detailed outline for a blog post on \"The Rise of AI in India,\" designed to be engaging, informative, and cover a good range of perspectives.  I\\'ve broken it down into sections with estimated word counts (adjust as needed for your target audience and blog style).\\n\\n**Blog Title Options:** (Choose one that fits your tone)\\n\\n* The AI Revolution is Here: India\\'s Rise\\n* India\\'s AI Boom: Opportunities, Challenges, and the Future\\n* Decoding India’s AI Surge: What You Need to Know\\n\\n**I. Introduction (150-200 words)**\\n\\n* **Hook:** Start with a compelling statistic or anecdote – e.g., “India is now one of the fastest-growing AI markets globally, driven by…”.  Or a short story about an AI application making a real-world difference in India.\\n* **Context:** Briefly define AI (avoid overly technical jargon) – Machine Learning, Deep Learning, and their relevance.\\n* **Thesis Statement:**  Clearly state the main point:  “India’s growing interest in and investment in AI is being fueled by [mention key drivers like data availability, government support, and economic opportunities], presenting both incredible potential and significant challenges.”\\n* **Blog Post Roadmap:**  Briefly outline what the post will cover.\\n\\n\\n**II. Drivers of India\\'s AI Rise (300-400 words)**\\n\\n* **A. Data Availability:**\\n    *  India\\'s massive population and increasing digital penetration create a huge pool of data.\\n    *  Specifically mention sources: UPI transactions, mobile usage, e-commerce activity, government schemes data.\\n    *  Discuss the challenges around data privacy and security within this context.\\n* **B. Government Support & Initiatives:**\\n    * **NITI Aayog’s National Strategy for Artificial Intelligence:** Summarize key elements – focus areas (healthcare, agriculture, education, etc.) and targets.\\n    * **AI India Strategy:** Highlight key policies and programs.\\n    * **Funding & Grants:** Mention government schemes and investment into AI startups.\\n* **C. Economic Opportunities:**\\n    * **Rise of Startups:**  Growth of AI startups – particularly in fintech, healthcare, agriculture, and logistics.  Give a few examples of successful Indian AI companies.\\n    * **Manufacturing & Automation:**  Potential for AI in manufacturing (predictive maintenance, quality control).\\n    * **Increased Efficiency:** Potential for AI to boost productivity across sectors.\\n\\n\\n\\n**III. AI Applications Across Key Sectors (400-500 words – Choose 2-3 to focus on deeply)**\\n\\n* **A. Healthcare:** (Detailed example)\\n    *  AI-powered diagnostics (image recognition for disease detection)\\n    *  Personalized medicine and drug discovery\\n    *  Telemedicine and remote patient monitoring.\\n* **B. Agriculture:** (Detailed example)\\n    *  Precision farming (crop monitoring, yield prediction)\\n    *  AI-powered irrigation systems\\n    *  Disease detection and pest control.\\n* **C. Fintech:** (Detailed example)\\n    *  Fraud detection\\n    *  Credit scoring and risk assessment\\n    *  Personalized financial advice.\\n* **D. Other Potential Sectors:** (Briefly mention) - Education, Retail, Transportation.\\n\\n\\n**IV. Challenges and Concerns (300-400 words)**\\n\\n* **A. Lack of Skilled Talent:**  The AI skills gap – need for training and education programs.\\n* **B. Data Privacy and Security:**  Increased concerns about data breaches and misuse of data. Discuss regulations and potential solutions.\\n* **C. Infrastructure Limitations:**  Connectivity issues, particularly in rural areas.\\n* **D. Ethical Considerations:** Bias in algorithms, job displacement, and responsible AI development.\\n* **E.  Digital Divide:** Ensure AI benefits are accessible to all segments of the population.\\n\\n\\n\\n**V. The Future of AI in India (200-300 words)**\\n\\n* **Predictions:** What do experts think will happen in the next 5-10 years?\\n* **Potential Growth Areas:**  Focus on emerging technologies like Generative AI and their potential impact.\\n* **Importance of Collaboration:** Highlight the need for collaboration between government, industry, and academia.\\n\\n**VI. Conclusion (100-150 words)**\\n\\n* **Recap:**  Briefly summarize the key points of the blog.\\n* **Call to Action:**  Encourage readers to learn more, share their thoughts in the comments, or explore relevant resources. (e.g., \"What are your thoughts on the future of AI in India? Share your ideas below!\")\\n\\n---\\n\\n**Important Notes & Resources for Research:**\\n\\n* **NITI Aayog Reports:**  These are crucial resources.\\n* **Industry Reports:**  Deloitte, PwC, McKinsey, and other consulting firms publish reports on AI in India.\\n* **Startups:** Research leading AI startups in India – Look at websites like YourStory, Inc42, and TechCrunch for information.\\n* **Academic Research:**  Search for research papers on AI in India from Indian universities.\\n* **Government Websites:**  Ministry of Electronics and Information Technology (MeitY).\\n\\nTo help me tailor this outline even further, could you tell me:\\n\\n*   **What is the intended audience for this blog post?** (e.g., general public, business professionals, tech enthusiasts)\\n*   **What is the desired tone of the blog?** (e.g., informative, optimistic, critical, analytical)', 'content': 'Okay, fantastic outline! This is incredibly detailed and gives me a really solid framework to work with. Let’s refine this and I\\'ll provide some specific details based on your questions.\\n\\n**1. Audience & Tone:**\\n\\n*   **Audience:**  Let’s target **business professionals and tech enthusiasts** – people who are interested in the economic and technological implications of AI, and who have a basic understanding of technology. We\\'re aiming for an intelligent, engaging read, not overly technical.\\n*   **Tone:** Let\\'s go for an **optimistic but realistic** tone. We\\'ll highlight the enormous potential of AI in India, but also acknowledge the challenges and the need for responsible development.  We want to instill confidence while maintaining a critical perspective.\\n\\n\\n**2. Blog Title Options (Selected & Justification):**\\n\\nI\\'d recommend **\"India’s AI Boom: Opportunities, Challenges, and the Future\"**. It’s broad enough to attract a wide audience but clearly communicates the core themes of the blog.\\n\\n**3. Expanded Content & Specific Examples (Based on Audience & Tone):**\\n\\nLet’s flesh out the key sections with some more concrete examples and details.\\n\\n**I. Introduction (180 words):**\\n\\n*   **Hook:** “India’s agricultural sector, responsible for nearly 20% of the national GDP, is facing unprecedented challenges. But a new wave of technology – powered by Artificial Intelligence – is offering solutions, predicting crop yields with remarkable accuracy and optimizing irrigation systems for maximum efficiency. This is just one example of the rapidly unfolding AI revolution in India.”\\n*   **Context:** “AI, in the context of India, largely refers to Machine Learning and Deep Learning – techniques that allow computers to learn from data without explicit programming. These are driving innovation across numerous sectors, transforming how businesses operate and impacting daily life.”\\n*   **Thesis:** “India’s growing interest in and investment in AI is being fueled by its massive data pool, government support, and the immense economic opportunities it presents, yet significant challenges around skills, data governance, and infrastructure remain. Successfully navigating these hurdles will determine India’s position as a global AI leader.”\\n\\n**II. Drivers of India\\'s AI Rise (380 words):**\\n\\n*   **A. Data Availability:**\\n    *   Expand on the specific data sources: “The sheer volume of data generated by UPI transactions (over 1 billion daily transactions), mobile usage (billions of active users), and e-commerce activity (trillions of rupees in annual sales) provides a rich foundation for AI development.  Furthermore, the government’s push for digitization, including schemes like ‘Digital India,’ has amplified this data flow. However, the risk of data breaches and misuse is a genuine concern – and a key focus of upcoming data privacy regulations.”\\n*   **B. Government Support & Initiatives:**\\n    *   **NITI Aayog’s National Strategy:** “The strategy’s focus on healthcare, agriculture, education, and smart cities, coupled with targets for AI adoption and skill development, demonstrates a concerted effort.  The emphasis on ‘AI for All’ highlights the government’s desire to ensure broader access to the benefits of AI.”\\n    *   **AI India Strategy:** \"The strategy’s emphasis on fostering a ‘AI ecosystem’ – encompassing startups, academia, and industry – is crucial for sustained growth.”\\n    *   **Funding & Grants:** \"The Government has allocated significant funds under initiatives like the Production Linked Incentive (PLI) scheme specifically targeting AI and deep tech, providing crucial support for startups.” (Include a few examples of successful startups like Fractal Analytics, SpinView, or Infy.ai)\\n*   **C. Economic Opportunities:** \"The Indian AI market is projected to reach $10 billion by 2025, driven by increasing adoption across industries.\"\\n\\n\\n\\n**III. AI Applications Across Key Sectors (480 words – Deep Focus on Agriculture & Fintech):**\\n\\n*   **A. Agriculture (Detailed Example - 200 words):** \"Precision farming is transforming the sector. Companies are deploying drones equipped with AI-powered computer vision to monitor crop health, identify pest infestations, and optimize irrigation. For example, Cropin uses satellite imagery and AI to provide early warning alerts for farmers, reducing crop losses. Furthermore, algorithms analyze soil data and weather patterns to recommend optimal fertilizer applications, minimizing waste and maximizing yields.\"\\n*   **B. Fintech (Detailed Example - 150 words):** \"Fraud detection is a major application. Banks and fintech companies are using AI to analyze transactions in real-time, flagging suspicious activity and preventing fraud. Credit scoring is also evolving, with AI algorithms incorporating alternative data sources (e.g., mobile usage patterns, social media activity) to assess creditworthiness, particularly for individuals with limited credit history.  Companies like Zeta are pioneering this.\"\\n*   **C. Healthcare (Briefly - 70 words):**  “AI-powered diagnostics, particularly in radiology, are showing promising results in detecting diseases like cancer at earlier stages.”\\n*   **D. Other Potential Sectors (Briefly):** “Retail (personalized recommendations), Education (AI tutors), and Transportation (autonomous vehicles – still largely in the research phase) represent further avenues for AI’s impact.”\\n\\n\\n\\n**IV. Challenges and Concerns (380 words):**\\n\\n*   **A. Lack of Skilled Talent:** \"The ‘AI skills gap’ is a major bottleneck.  There’s a shortage of data scientists, AI engineers, and machine learning specialists.  The government and industry are investing in training programs, but the pace of skill development needs to accelerate.\"\\n*   **B. Data Privacy and Security:** “Data breaches are a significant concern. India’s upcoming data protection law is a crucial step, but enforcement and awareness are key.”\\n*   **C. Infrastructure Limitations:**  “Connectivity issues, especially in rural areas, pose a challenge for deploying AI solutions.”\\n*   **D. Ethical Considerations:**  \"Algorithmic bias is a serious concern. Ensuring fairness and transparency in AI systems is paramount.”\\n*   **E. Digital Divide:**  \"Ensuring that the benefits of AI reach all segments of the population, including rural and marginalized communities, is essential.”\\n\\n\\n\\n**V. The Future of AI in India (250 words):**\\n\\n*   **Predictions:**  “Experts predict that generative AI – tools like ChatGPT – will have a profound impact, particularly in content creation, customer service, and software development.”\\n*   **Potential Growth Areas:** “The focus will likely shift towards ‘edge AI’ (processing data locally) and ‘federated learning’ (training models without sharing raw data).  There\\'s also immense potential in AI-powered robotics and automation.”\\n*   **Importance of Collaboration:** “Success will depend on close collaboration between government, industry, and academia – creating a robust ecosystem where innovation can flourish.”\\n\\n\\n\\n**VI. Conclusion (130 words):**\\n\\n*   **Recap:**  “India’s AI journey is still in its early stages, but its immense data potential, government support, and entrepreneurial spirit position it as a key player in the global AI landscape.”\\n*   **Call to Action:** “What are your thoughts on the biggest opportunities and challenges facing AI in India? Share your perspectives in the comments below!”\\n\\n---\\n\\nThis expanded outline, incorporating your feedback and aiming for a business/tech enthusiast audience, provides a much more robust foundation for creating a compelling and informative blog post.  Do you want me to delve deeper into a specific section, or perhaps generate some sample paragraphs for a particular section?'}\n"
     ]
    }
   ],
   "source": [
    "# testing\n",
    "initial_state = {\"title\":\"Rise of AI in India\"}\n",
    "\n",
    "final_state = workflow.invoke(initial_state)\n",
    "\n",
    "print(final_state)"
   ]
  },
  {
   "cell_type": "code",
   "execution_count": 12,
   "id": "84f11a65",
   "metadata": {},
   "outputs": [
    {
     "name": "stdout",
     "output_type": "stream",
     "text": [
      "Okay, here's a detailed outline for a blog post on \"The Rise of AI in India,\" designed to be engaging, informative, and cover a good range of perspectives.  I've broken it down into sections with estimated word counts (adjust as needed for your target audience and blog style).\n",
      "\n",
      "**Blog Title Options:** (Choose one that fits your tone)\n",
      "\n",
      "* The AI Revolution is Here: India's Rise\n",
      "* India's AI Boom: Opportunities, Challenges, and the Future\n",
      "* Decoding India’s AI Surge: What You Need to Know\n",
      "\n",
      "**I. Introduction (150-200 words)**\n",
      "\n",
      "* **Hook:** Start with a compelling statistic or anecdote – e.g., “India is now one of the fastest-growing AI markets globally, driven by…”.  Or a short story about an AI application making a real-world difference in India.\n",
      "* **Context:** Briefly define AI (avoid overly technical jargon) – Machine Learning, Deep Learning, and their relevance.\n",
      "* **Thesis Statement:**  Clearly state the main point:  “India’s growing interest in and investment in AI is being fueled by [mention key drivers like data availability, government support, and economic opportunities], presenting both incredible potential and significant challenges.”\n",
      "* **Blog Post Roadmap:**  Briefly outline what the post will cover.\n",
      "\n",
      "\n",
      "**II. Drivers of India's AI Rise (300-400 words)**\n",
      "\n",
      "* **A. Data Availability:**\n",
      "    *  India's massive population and increasing digital penetration create a huge pool of data.\n",
      "    *  Specifically mention sources: UPI transactions, mobile usage, e-commerce activity, government schemes data.\n",
      "    *  Discuss the challenges around data privacy and security within this context.\n",
      "* **B. Government Support & Initiatives:**\n",
      "    * **NITI Aayog’s National Strategy for Artificial Intelligence:** Summarize key elements – focus areas (healthcare, agriculture, education, etc.) and targets.\n",
      "    * **AI India Strategy:** Highlight key policies and programs.\n",
      "    * **Funding & Grants:** Mention government schemes and investment into AI startups.\n",
      "* **C. Economic Opportunities:**\n",
      "    * **Rise of Startups:**  Growth of AI startups – particularly in fintech, healthcare, agriculture, and logistics.  Give a few examples of successful Indian AI companies.\n",
      "    * **Manufacturing & Automation:**  Potential for AI in manufacturing (predictive maintenance, quality control).\n",
      "    * **Increased Efficiency:** Potential for AI to boost productivity across sectors.\n",
      "\n",
      "\n",
      "\n",
      "**III. AI Applications Across Key Sectors (400-500 words – Choose 2-3 to focus on deeply)**\n",
      "\n",
      "* **A. Healthcare:** (Detailed example)\n",
      "    *  AI-powered diagnostics (image recognition for disease detection)\n",
      "    *  Personalized medicine and drug discovery\n",
      "    *  Telemedicine and remote patient monitoring.\n",
      "* **B. Agriculture:** (Detailed example)\n",
      "    *  Precision farming (crop monitoring, yield prediction)\n",
      "    *  AI-powered irrigation systems\n",
      "    *  Disease detection and pest control.\n",
      "* **C. Fintech:** (Detailed example)\n",
      "    *  Fraud detection\n",
      "    *  Credit scoring and risk assessment\n",
      "    *  Personalized financial advice.\n",
      "* **D. Other Potential Sectors:** (Briefly mention) - Education, Retail, Transportation.\n",
      "\n",
      "\n",
      "**IV. Challenges and Concerns (300-400 words)**\n",
      "\n",
      "* **A. Lack of Skilled Talent:**  The AI skills gap – need for training and education programs.\n",
      "* **B. Data Privacy and Security:**  Increased concerns about data breaches and misuse of data. Discuss regulations and potential solutions.\n",
      "* **C. Infrastructure Limitations:**  Connectivity issues, particularly in rural areas.\n",
      "* **D. Ethical Considerations:** Bias in algorithms, job displacement, and responsible AI development.\n",
      "* **E.  Digital Divide:** Ensure AI benefits are accessible to all segments of the population.\n",
      "\n",
      "\n",
      "\n",
      "**V. The Future of AI in India (200-300 words)**\n",
      "\n",
      "* **Predictions:** What do experts think will happen in the next 5-10 years?\n",
      "* **Potential Growth Areas:**  Focus on emerging technologies like Generative AI and their potential impact.\n",
      "* **Importance of Collaboration:** Highlight the need for collaboration between government, industry, and academia.\n",
      "\n",
      "**VI. Conclusion (100-150 words)**\n",
      "\n",
      "* **Recap:**  Briefly summarize the key points of the blog.\n",
      "* **Call to Action:**  Encourage readers to learn more, share their thoughts in the comments, or explore relevant resources. (e.g., \"What are your thoughts on the future of AI in India? Share your ideas below!\")\n",
      "\n",
      "---\n",
      "\n",
      "**Important Notes & Resources for Research:**\n",
      "\n",
      "* **NITI Aayog Reports:**  These are crucial resources.\n",
      "* **Industry Reports:**  Deloitte, PwC, McKinsey, and other consulting firms publish reports on AI in India.\n",
      "* **Startups:** Research leading AI startups in India – Look at websites like YourStory, Inc42, and TechCrunch for information.\n",
      "* **Academic Research:**  Search for research papers on AI in India from Indian universities.\n",
      "* **Government Websites:**  Ministry of Electronics and Information Technology (MeitY).\n",
      "\n",
      "To help me tailor this outline even further, could you tell me:\n",
      "\n",
      "*   **What is the intended audience for this blog post?** (e.g., general public, business professionals, tech enthusiasts)\n",
      "*   **What is the desired tone of the blog?** (e.g., informative, optimistic, critical, analytical)\n"
     ]
    }
   ],
   "source": [
    "# outline of the blog\n",
    "print(final_state['outline'])"
   ]
  },
  {
   "cell_type": "code",
   "execution_count": 13,
   "id": "0ad3de2b",
   "metadata": {},
   "outputs": [
    {
     "name": "stdout",
     "output_type": "stream",
     "text": [
      "Okay, fantastic outline! This is incredibly detailed and gives me a really solid framework to work with. Let’s refine this and I'll provide some specific details based on your questions.\n",
      "\n",
      "**1. Audience & Tone:**\n",
      "\n",
      "*   **Audience:**  Let’s target **business professionals and tech enthusiasts** – people who are interested in the economic and technological implications of AI, and who have a basic understanding of technology. We're aiming for an intelligent, engaging read, not overly technical.\n",
      "*   **Tone:** Let's go for an **optimistic but realistic** tone. We'll highlight the enormous potential of AI in India, but also acknowledge the challenges and the need for responsible development.  We want to instill confidence while maintaining a critical perspective.\n",
      "\n",
      "\n",
      "**2. Blog Title Options (Selected & Justification):**\n",
      "\n",
      "I'd recommend **\"India’s AI Boom: Opportunities, Challenges, and the Future\"**. It’s broad enough to attract a wide audience but clearly communicates the core themes of the blog.\n",
      "\n",
      "**3. Expanded Content & Specific Examples (Based on Audience & Tone):**\n",
      "\n",
      "Let’s flesh out the key sections with some more concrete examples and details.\n",
      "\n",
      "**I. Introduction (180 words):**\n",
      "\n",
      "*   **Hook:** “India’s agricultural sector, responsible for nearly 20% of the national GDP, is facing unprecedented challenges. But a new wave of technology – powered by Artificial Intelligence – is offering solutions, predicting crop yields with remarkable accuracy and optimizing irrigation systems for maximum efficiency. This is just one example of the rapidly unfolding AI revolution in India.”\n",
      "*   **Context:** “AI, in the context of India, largely refers to Machine Learning and Deep Learning – techniques that allow computers to learn from data without explicit programming. These are driving innovation across numerous sectors, transforming how businesses operate and impacting daily life.”\n",
      "*   **Thesis:** “India’s growing interest in and investment in AI is being fueled by its massive data pool, government support, and the immense economic opportunities it presents, yet significant challenges around skills, data governance, and infrastructure remain. Successfully navigating these hurdles will determine India’s position as a global AI leader.”\n",
      "\n",
      "**II. Drivers of India's AI Rise (380 words):**\n",
      "\n",
      "*   **A. Data Availability:**\n",
      "    *   Expand on the specific data sources: “The sheer volume of data generated by UPI transactions (over 1 billion daily transactions), mobile usage (billions of active users), and e-commerce activity (trillions of rupees in annual sales) provides a rich foundation for AI development.  Furthermore, the government’s push for digitization, including schemes like ‘Digital India,’ has amplified this data flow. However, the risk of data breaches and misuse is a genuine concern – and a key focus of upcoming data privacy regulations.”\n",
      "*   **B. Government Support & Initiatives:**\n",
      "    *   **NITI Aayog’s National Strategy:** “The strategy’s focus on healthcare, agriculture, education, and smart cities, coupled with targets for AI adoption and skill development, demonstrates a concerted effort.  The emphasis on ‘AI for All’ highlights the government’s desire to ensure broader access to the benefits of AI.”\n",
      "    *   **AI India Strategy:** \"The strategy’s emphasis on fostering a ‘AI ecosystem’ – encompassing startups, academia, and industry – is crucial for sustained growth.”\n",
      "    *   **Funding & Grants:** \"The Government has allocated significant funds under initiatives like the Production Linked Incentive (PLI) scheme specifically targeting AI and deep tech, providing crucial support for startups.” (Include a few examples of successful startups like Fractal Analytics, SpinView, or Infy.ai)\n",
      "*   **C. Economic Opportunities:** \"The Indian AI market is projected to reach $10 billion by 2025, driven by increasing adoption across industries.\"\n",
      "\n",
      "\n",
      "\n",
      "**III. AI Applications Across Key Sectors (480 words – Deep Focus on Agriculture & Fintech):**\n",
      "\n",
      "*   **A. Agriculture (Detailed Example - 200 words):** \"Precision farming is transforming the sector. Companies are deploying drones equipped with AI-powered computer vision to monitor crop health, identify pest infestations, and optimize irrigation. For example, Cropin uses satellite imagery and AI to provide early warning alerts for farmers, reducing crop losses. Furthermore, algorithms analyze soil data and weather patterns to recommend optimal fertilizer applications, minimizing waste and maximizing yields.\"\n",
      "*   **B. Fintech (Detailed Example - 150 words):** \"Fraud detection is a major application. Banks and fintech companies are using AI to analyze transactions in real-time, flagging suspicious activity and preventing fraud. Credit scoring is also evolving, with AI algorithms incorporating alternative data sources (e.g., mobile usage patterns, social media activity) to assess creditworthiness, particularly for individuals with limited credit history.  Companies like Zeta are pioneering this.\"\n",
      "*   **C. Healthcare (Briefly - 70 words):**  “AI-powered diagnostics, particularly in radiology, are showing promising results in detecting diseases like cancer at earlier stages.”\n",
      "*   **D. Other Potential Sectors (Briefly):** “Retail (personalized recommendations), Education (AI tutors), and Transportation (autonomous vehicles – still largely in the research phase) represent further avenues for AI’s impact.”\n",
      "\n",
      "\n",
      "\n",
      "**IV. Challenges and Concerns (380 words):**\n",
      "\n",
      "*   **A. Lack of Skilled Talent:** \"The ‘AI skills gap’ is a major bottleneck.  There’s a shortage of data scientists, AI engineers, and machine learning specialists.  The government and industry are investing in training programs, but the pace of skill development needs to accelerate.\"\n",
      "*   **B. Data Privacy and Security:** “Data breaches are a significant concern. India’s upcoming data protection law is a crucial step, but enforcement and awareness are key.”\n",
      "*   **C. Infrastructure Limitations:**  “Connectivity issues, especially in rural areas, pose a challenge for deploying AI solutions.”\n",
      "*   **D. Ethical Considerations:**  \"Algorithmic bias is a serious concern. Ensuring fairness and transparency in AI systems is paramount.”\n",
      "*   **E. Digital Divide:**  \"Ensuring that the benefits of AI reach all segments of the population, including rural and marginalized communities, is essential.”\n",
      "\n",
      "\n",
      "\n",
      "**V. The Future of AI in India (250 words):**\n",
      "\n",
      "*   **Predictions:**  “Experts predict that generative AI – tools like ChatGPT – will have a profound impact, particularly in content creation, customer service, and software development.”\n",
      "*   **Potential Growth Areas:** “The focus will likely shift towards ‘edge AI’ (processing data locally) and ‘federated learning’ (training models without sharing raw data).  There's also immense potential in AI-powered robotics and automation.”\n",
      "*   **Importance of Collaboration:** “Success will depend on close collaboration between government, industry, and academia – creating a robust ecosystem where innovation can flourish.”\n",
      "\n",
      "\n",
      "\n",
      "**VI. Conclusion (130 words):**\n",
      "\n",
      "*   **Recap:**  “India’s AI journey is still in its early stages, but its immense data potential, government support, and entrepreneurial spirit position it as a key player in the global AI landscape.”\n",
      "*   **Call to Action:** “What are your thoughts on the biggest opportunities and challenges facing AI in India? Share your perspectives in the comments below!”\n",
      "\n",
      "---\n",
      "\n",
      "This expanded outline, incorporating your feedback and aiming for a business/tech enthusiast audience, provides a much more robust foundation for creating a compelling and informative blog post.  Do you want me to delve deeper into a specific section, or perhaps generate some sample paragraphs for a particular section?\n"
     ]
    }
   ],
   "source": [
    "# content of the blog\n",
    "print(final_state['content'])"
   ]
  },
  {
   "cell_type": "code",
   "execution_count": null,
   "id": "8e9b9da4",
   "metadata": {},
   "outputs": [],
   "source": []
  }
 ],
 "metadata": {
  "kernelspec": {
   "display_name": "Python 3",
   "language": "python",
   "name": "python3"
  },
  "language_info": {
   "codemirror_mode": {
    "name": "ipython",
    "version": 3
   },
   "file_extension": ".py",
   "mimetype": "text/x-python",
   "name": "python",
   "nbconvert_exporter": "python",
   "pygments_lexer": "ipython3",
   "version": "3.11.13"
  }
 },
 "nbformat": 4,
 "nbformat_minor": 5
}
