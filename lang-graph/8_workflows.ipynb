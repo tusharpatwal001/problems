{
 "cells": [
  {
   "cell_type": "code",
   "execution_count": 1,
   "id": "7a586e38",
   "metadata": {},
   "outputs": [],
   "source": [
    "from langgraph.graph import StateGraph, START, END\n",
    "from typing import TypedDict, Literal"
   ]
  },
  {
   "cell_type": "code",
   "execution_count": 5,
   "id": "0a0d34b3",
   "metadata": {},
   "outputs": [],
   "source": [
    "class QuadState(TypedDict):\n",
    "    a: int\n",
    "    b: int\n",
    "    c: int\n",
    "    \n",
    "    equation: str\n",
    "    discriminant: float\n",
    "    result: str"
   ]
  },
  {
   "cell_type": "code",
   "execution_count": 17,
   "id": "031abe8d",
   "metadata": {},
   "outputs": [],
   "source": [
    "def show_equation(state: QuadState):\n",
    "    equation = f\"{state['a']}x2{state['b']}x{state['c']}\"\n",
    "\n",
    "    return {\"equation\": equation}\n",
    "\n",
    "\n",
    "def calculate_discriminant(state: QuadState):\n",
    "    discriminant = state['b']**2 - (4*state['a']*state['c'])\n",
    "\n",
    "    return {\"discriminant\": discriminant}"
   ]
  },
  {
   "cell_type": "code",
   "execution_count": null,
   "id": "561deeb9",
   "metadata": {},
   "outputs": [],
   "source": [
    "graph = StateGraph(QuadState)\n",
    "\n",
    "# node\n",
    "graph.add_node(\"show_equation\", show_equation)\n",
    "graph.add_node(\"calculate_discriminant\", calculate_discriminant)\n",
    "graph.add_node(\"real_roots\", real_roots)\n",
    "graph.add_node(\"repeated_roots\", repeated_roots)\n",
    "graph.add_node(\"no_real_roots\", no_real_roots)\n",
    "\n",
    "# egde\n",
    "graph.add_edge(START, \"show_equation\")\n",
    "graph.add_edge(\"show_equation\", \"calculate_discriminant\")\n",
    "graph.add_edge(\"calculate_discriminant\", END)\n",
    "\n",
    "workflow = graph.compile()"
   ]
  },
  {
   "cell_type": "code",
   "execution_count": 19,
   "id": "ee92238b",
   "metadata": {},
   "outputs": [
    {
     "data": {
      "image/png": "[encoded data removed]",
      "text/plain": [
       "<langgraph.graph.state.CompiledStateGraph object at 0x0000021C5CF02FD0>"
      ]
     },
     "execution_count": 19,
     "metadata": {},
     "output_type": "execute_result"
    }
   ],
   "source": [
    "workflow"
   ]
  },
  {
   "cell_type": "code",
   "execution_count": 20,
   "id": "d0a85112",
   "metadata": {},
   "outputs": [
    {
     "data": {
      "text/plain": [
       "{'a': 4, 'b': -5, 'c': -10, 'equation': '4x2-5x-10', 'discriminant': 185}"
      ]
     },
     "execution_count": 20,
     "metadata": {},
     "output_type": "execute_result"
    }
   ],
   "source": [
    "initial_state = {\n",
    "    \"a\": 4,\n",
    "    \"b\": -5,\n",
    "    \"c\": -10\n",
    "}\n",
    "workflow.invoke(initial_state)"
   ]
  },
  {
   "cell_type": "code",
   "execution_count": null,
   "id": "a5bb4203",
   "metadata": {},
   "outputs": [],
   "source": []
  },
  {
   "cell_type": "code",
   "execution_count": null,
   "id": "b71e3846",
   "metadata": {},
   "outputs": [],
   "source": []
  },
  {
   "cell_type": "code",
   "execution_count": null,
   "id": "ba810348",
   "metadata": {},
   "outputs": [],
   "source": []
  }
 ],
 "metadata": {
  "kernelspec": {
   "display_name": "Python 3",
   "language": "python",
   "name": "python3"
  },
  "language_info": {
   "codemirror_mode": {
    "name": "ipython",
    "version": 3
   },
   "file_extension": ".py",
   "mimetype": "text/x-python",
   "name": "python",
   "nbconvert_exporter": "python",
   "pygments_lexer": "ipython3",
   "version": "3.11.13"
  }
 },
 "nbformat": 4,
 "nbformat_minor": 5
}
