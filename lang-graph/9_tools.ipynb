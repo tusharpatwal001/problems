{
 "cells": [
  {
   "cell_type": "code",
   "id": "initial_id",
   "metadata": {
    "collapsed": true,
    "ExecuteTime": {
     "end_time": "2025-10-14T17:24:09.398907Z",
     "start_time": "2025-10-14T17:24:09.380162Z"
    }
   },
   "source": [
    "from langgraph.graph import StateGraph, START, END\n",
    "from langgraph.graph.message import add_messages\n",
    "from langgraph.checkpoint.memory import InMemorySaver\n",
    "from langgraph.prebuilt import ToolNode, tools_condition\n",
    "from langchain_core.messages import BaseMessage, HumanMessage\n",
    "from langchain_core.tools import tool\n",
    "from langchain_community.tools import DuckDuckGoSearchRun\n",
    "from langchain_ollama import ChatOllama\n",
    "from typing import TypedDict, Annotated\n",
    "from dotenv import load_dotenv\n",
    "load_dotenv()"
   ],
   "outputs": [
    {
     "data": {
      "text/plain": [
       "True"
      ]
     },
     "execution_count": 50,
     "metadata": {},
     "output_type": "execute_result"
    }
   ],
   "execution_count": 50
  },
  {
   "metadata": {},
   "cell_type": "code",
   "outputs": [],
   "execution_count": null,
   "source": "",
   "id": "b6428a1a7b31150"
  },
  {
   "metadata": {
    "ExecuteTime": {
     "end_time": "2025-10-14T17:24:09.756998Z",
     "start_time": "2025-10-14T17:24:09.725715Z"
    }
   },
   "cell_type": "code",
   "source": [
    "# models\n",
    "llm = ChatOllama(model='qwen3:8b')"
   ],
   "id": "c048a07c6c6dcefb",
   "outputs": [],
   "execution_count": 51
  },
  {
   "metadata": {
    "ExecuteTime": {
     "end_time": "2025-10-14T17:24:10.074599Z",
     "start_time": "2025-10-14T17:24:10.043609Z"
    }
   },
   "cell_type": "code",
   "source": [
    "# tools\n",
    "search_tool = DuckDuckGoSearchRun()\n",
    "\n",
    "\n",
    "@tool\n",
    "def calculator(first_num: float, second_num: float, operation: str) -> dict:\n",
    "    \"\"\"\n",
    "    Perform a basic arithmetic calculation on two numbers.\n",
    "    Supported operations: add, sub, mul, div\n",
    "    \"\"\"\n",
    "    try:\n",
    "        if operation == \"add\":\n",
    "            result = first_num + second_num\n",
    "        elif operation == \"sub\":\n",
    "            result = first_num - second_num\n",
    "        elif operation == \"mul\":\n",
    "            result = first_num * second_num\n",
    "        elif operation == \"div\":\n",
    "            result = first_num / second_num\n",
    "        else:\n",
    "            return {\"error\": f\"Unsupported operation: {operation}\"}\n",
    "\n",
    "        return {\"first_num\": first_num, \"second_num\": second_num, \"operation\": operation, \"result\": result}\n",
    "    except Exception as e:\n",
    "        return {\"error\": str(e)}"
   ],
   "id": "2bf9dda11bc15cb0",
   "outputs": [],
   "execution_count": 52
  },
  {
   "metadata": {
    "ExecuteTime": {
     "end_time": "2025-10-14T17:24:10.310568Z",
     "start_time": "2025-10-14T17:24:10.294938Z"
    }
   },
   "cell_type": "code",
   "source": [
    "# list of tools\n",
    "tools = [search_tool, calculator]"
   ],
   "id": "59b60d267d7b0736",
   "outputs": [],
   "execution_count": 53
  },
  {
   "metadata": {
    "ExecuteTime": {
     "end_time": "2025-10-14T17:24:10.693616Z",
     "start_time": "2025-10-14T17:24:10.662740Z"
    }
   },
   "cell_type": "code",
   "source": [
    "# make the llm too-aware\n",
    "llm_with_tools = llm.bind_tools(tools)"
   ],
   "id": "cfc0c9e3da585cca",
   "outputs": [],
   "execution_count": 54
  },
  {
   "metadata": {
    "ExecuteTime": {
     "end_time": "2025-10-14T17:24:10.996201Z",
     "start_time": "2025-10-14T17:24:10.980530Z"
    }
   },
   "cell_type": "code",
   "source": [
    "# state\n",
    "class ChatState(TypedDict):\n",
    "    messages: Annotated[list[BaseMessage], add_messages]"
   ],
   "id": "2a0a8fb16f9e6b36",
   "outputs": [],
   "execution_count": 55
  },
  {
   "metadata": {
    "ExecuteTime": {
     "end_time": "2025-10-14T17:24:11.325922Z",
     "start_time": "2025-10-14T17:24:11.321628Z"
    }
   },
   "cell_type": "code",
   "source": [
    "def chat_node(state: ChatState):\n",
    "    messages = state['messages']\n",
    "    response = llm_with_tools.invoke(messages)\n",
    "    return {\"messages\": [response]}\n",
    "\n",
    "\n",
    "tools_node = ToolNode(tools)"
   ],
   "id": "ff53041de5321156",
   "outputs": [],
   "execution_count": 56
  },
  {
   "metadata": {
    "ExecuteTime": {
     "end_time": "2025-10-14T17:24:11.664619Z",
     "start_time": "2025-10-14T17:24:11.567163Z"
    }
   },
   "cell_type": "code",
   "source": [
    "graph = StateGraph(ChatState)\n",
    "# add nodes\n",
    "graph.add_node(\"chat_node\", chat_node)\n",
    "graph.add_node(\"tools\", tools_node)\n",
    "\n",
    "# add edge\n",
    "graph.add_edge(START, \"chat_node\")\n",
    "graph.add_conditional_edges(\"chat_node\", tools_condition)\n",
    "graph.add_edge(\"tools\", \"chat_node\")\n",
    "\n",
    "# graph compile\n",
    "chatbot = graph.compile()\n",
    "\n",
    "chatbot"
   ],
   "id": "6b8f34aad8483fbc",
   "outputs": [
    {
     "data": {
      "text/plain": [
       "<langgraph.graph.state.CompiledStateGraph object at 0x00000235978E7040>"
      ],
      "image/png": "[encoded data removed]"
     },
     "execution_count": 57,
     "metadata": {},
     "output_type": "execute_result"
    }
   ],
   "execution_count": 57
  },
  {
   "metadata": {
    "ExecuteTime": {
     "end_time": "2025-10-14T17:25:13.279085Z",
     "start_time": "2025-10-14T17:24:48.430960Z"
    }
   },
   "cell_type": "code",
   "source": "output = chatbot.invoke({'messages': [HumanMessage(content=\"what is 2 * 3\")]})",
   "id": "22bd0f19b18c31df",
   "outputs": [],
   "execution_count": 58
  },
  {
   "metadata": {
    "ExecuteTime": {
     "end_time": "2025-10-14T17:25:13.295559Z",
     "start_time": "2025-10-14T17:25:13.280187Z"
    }
   },
   "cell_type": "code",
   "source": "print(output['messages'][-1].content)",
   "id": "dc750e5ca56ac694",
   "outputs": [
    {
     "name": "stdout",
     "output_type": "stream",
     "text": [
      "The result of 2 multiplied by 3 is **6**.\n"
     ]
    }
   ],
   "execution_count": 59
  },
  {
   "metadata": {
    "ExecuteTime": {
     "end_time": "2025-10-14T17:25:13.326785Z",
     "start_time": "2025-10-14T17:25:13.311151Z"
    }
   },
   "cell_type": "code",
   "source": "",
   "id": "938bd374e07e6351",
   "outputs": [],
   "execution_count": null
  },
  {
   "metadata": {},
   "cell_type": "code",
   "outputs": [],
   "execution_count": null,
   "source": "",
   "id": "53b7f82db0f47d69"
  }
 ],
 "metadata": {
  "kernelspec": {
   "display_name": "Python 3",
   "language": "python",
   "name": "python3"
  },
  "language_info": {
   "codemirror_mode": {
    "name": "ipython",
    "version": 2
   },
   "file_extension": ".py",
   "mimetype": "text/x-python",
   "name": "python",
   "nbconvert_exporter": "python",
   "pygments_lexer": "ipython2",
   "version": "2.7.6"
  }
 },
 "nbformat": 4,
 "nbformat_minor": 5
}
