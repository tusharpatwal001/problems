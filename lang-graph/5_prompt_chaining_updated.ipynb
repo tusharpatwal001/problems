{
 "cells": [
  {
   "cell_type": "code",
   "execution_count": 1,
   "id": "37b488e8",
   "metadata": {},
   "outputs": [],
   "source": [
    "from langgraph.graph import StateGraph, START, END\n",
    "from typing import TypedDict\n",
    "from langchain_ollama import ChatOllama"
   ]
  },
  {
   "cell_type": "code",
   "execution_count": 2,
   "id": "0186ebaf",
   "metadata": {},
   "outputs": [],
   "source": [
    "model = ChatOllama(model=\"gemma3:4b\")"
   ]
  },
  {
   "cell_type": "code",
   "execution_count": 3,
   "id": "2a164ae2",
   "metadata": {},
   "outputs": [],
   "source": [
    "class BlogState(TypedDict):\n",
    "    \n",
    "    title: str\n",
    "    outline: str\n",
    "    content: str\n",
    "    evaluate: float"
   ]
  },
  {
   "cell_type": "code",
   "execution_count": 4,
   "id": "1f42e446",
   "metadata": {},
   "outputs": [],
   "source": [
    "def create_outline(state: BlogState) -> BlogState:\n",
    "\n",
    "    # fetch title\n",
    "    title = state['title']\n",
    "\n",
    "    # call llm generate outline\n",
    "    prompt = f'Generate a detailed outline for a blog on the topic - {title}'\n",
    "    outline = model.invoke(prompt).content\n",
    "\n",
    "    # update state\n",
    "    state['outline'] = outline\n",
    "\n",
    "    return state"
   ]
  },
  {
   "cell_type": "code",
   "execution_count": 5,
   "id": "b42a5b8f",
   "metadata": {},
   "outputs": [],
   "source": [
    "def create_blog(state: BlogState) -> BlogState:\n",
    "    \n",
    "    # fetch title and outline\n",
    "    title = state['title']\n",
    "    outline = state['outline']\n",
    "    \n",
    "    # create a prompt\n",
    "    prompt = f\"Write a detailed blog on the title -{title} using the following outline \\n {outline}\"\n",
    "    content = model.invoke(prompt).content\n",
    "    \n",
    "    # update state\n",
    "    state['content'] = content\n",
    "    \n",
    "    return state"
   ]
  },
  {
   "cell_type": "code",
   "execution_count": 6,
   "id": "745953bb",
   "metadata": {},
   "outputs": [],
   "source": [
    "def evaluate_blog(state: BlogState) -> BlogState:\n",
    "    \n",
    "    # fetch details\n",
    "    content = state['content']\n",
    "    outline = state['outline']\n",
    "    \n",
    "    # create a prompt\n",
    "    prompt = f\"Based on this \\n{outline} \\nRate my Blog \\n{content} \\n Give a Score between 1-10 strictly\"\n",
    "    evaluate = model.invoke(prompt).content\n",
    "    \n",
    "    # update state\n",
    "    state['evaluate'] = evaluate\n",
    "    \n",
    "    return state"
   ]
  },
  {
   "cell_type": "code",
   "execution_count": 10,
   "id": "620565f5",
   "metadata": {},
   "outputs": [],
   "source": [
    "graph = StateGraph(BlogState)\n",
    "\n",
    "# nodes\n",
    "graph.add_node(\"create_outline\", create_outline)\n",
    "graph.add_node(\"create_blog\", create_blog)\n",
    "graph.add_node(\"evaluate_blog\", evaluate_blog)\n",
    "\n",
    "# edges\n",
    "graph.add_edge(START, \"create_outline\")\n",
    "graph.add_edge(\"create_outline\", \"create_blog\")\n",
    "graph.add_edge(\"create_blog\", \"evaluate_blog\")\n",
    "graph.add_edge(\"evaluate_blog\", END)\n",
    "\n",
    "# compile the graph\n",
    "workflow = graph.compile()"
   ]
  },
  {
   "cell_type": "code",
   "execution_count": 13,
   "id": "25a0244e",
   "metadata": {},
   "outputs": [
    {
     "name": "stdout",
     "output_type": "stream",
     "text": [
      "  +-----------+    \n",
      "  | __start__ |    \n",
      "  +-----------+    \n",
      "         *         \n",
      "         *         \n",
      "         *         \n",
      "+----------------+ \n",
      "| create_outline | \n",
      "+----------------+ \n",
      "         *         \n",
      "         *         \n",
      "         *         \n",
      "  +-------------+  \n",
      "  | create_blog |  \n",
      "  +-------------+  \n",
      "         *         \n",
      "         *         \n",
      "         *         \n",
      "+---------------+  \n",
      "| evaluate_blog |  \n",
      "+---------------+  \n",
      "         *         \n",
      "         *         \n",
      "         *         \n",
      "    +---------+    \n",
      "    | __end__ |    \n",
      "    +---------+    \n"
     ]
    }
   ],
   "source": [
    "# graph digram\n",
    "workflow.get_graph().print_ascii()"
   ]
  },
  {
   "cell_type": "code",
   "execution_count": 15,
   "id": "c3cdcb11",
   "metadata": {},
   "outputs": [],
   "source": [
    "# testing\n",
    "initial_state = {\"title\":\"Rise of AI in India\"}\n",
    "\n",
    "final_state = workflow.invoke(initial_state)"
   ]
  },
  {
   "cell_type": "code",
   "execution_count": 17,
   "id": "84f11a65",
   "metadata": {},
   "outputs": [
    {
     "name": "stdout",
     "output_type": "stream",
     "text": [
      "Okay, here's a detailed outline for a blog post on \"The Rise of AI in India,\" designed to be comprehensive and engaging. It includes sections, sub-sections, potential data points, and calls to action.\n",
      "\n",
      "**Blog Post Title: The Rise of AI in India: Innovation, Opportunity, and the Road Ahead**\n",
      "\n",
      "**I. Introduction (Approx. 100-150 words)**\n",
      "\n",
      "*   **Hook:** Start with a compelling statistic or anecdote - e.g., \"India is on track to become the third-largest AI market globally by 2025, driven by a confluence of factors…” or a brief story about an AI application impacting a specific industry in India.\n",
      "*   **Briefly Define AI:** Explain what AI is in a way that’s accessible to a general audience – machine learning, deep learning, natural language processing, etc. Avoid overly technical jargon.\n",
      "*   **Thesis Statement:**  The rapid adoption of Artificial Intelligence in India is fueled by a growing tech talent pool, government initiatives, and increasing demand across key sectors, presenting immense opportunities but also requiring careful consideration of ethical and societal implications.\n",
      "\n",
      "\n",
      "**II. The Current Landscape of AI in India (Approx. 300-400 words)**\n",
      "\n",
      "*   **A. Key Drivers of Growth:**\n",
      "    *   **1.  Government Initiatives:**\n",
      "        *   **National Strategy for Artificial Intelligence:** Overview of the government’s AI strategy (emphasize its focus on research, development, and adoption).\n",
      "        *   **NITI Aayog’s Role:** Highlight NITI Aayog’s role in policy making, funding, and promoting AI.\n",
      "        *   **Digital India Program:**  How the Digital India initiative is enabling AI deployment.\n",
      "        *   **Specific Funding Programs:** Mention any targeted funding schemes (e.g., for startups, research).\n",
      "    *   **2.  A Booming Tech Talent Pool:**\n",
      "        *   Statistics on the number of STEM graduates.\n",
      "        *   Growth in computer science and data science programs in universities.\n",
      "        *   Rise of coding bootcamps and online learning platforms.\n",
      "    *   **3.  Increasing Investment:**\n",
      "        *   Venture capital investment in AI startups. (Cite specific figures and trends).\n",
      "        *   Corporate investment in AI R&D.\n",
      "*   **B. Key Sectors Leading the Charge:**\n",
      "    *   **1. Healthcare:** AI-powered diagnostics, personalized medicine, drug discovery. (Example: AI algorithms assisting in radiology analysis)\n",
      "    *   **2. Finance:** Fraud detection, risk assessment, algorithmic trading, customer service (chatbots).\n",
      "    *   **3. Agriculture:** Precision farming, crop monitoring, yield prediction.\n",
      "    *   **4. Manufacturing:** Predictive maintenance, quality control, robotics.\n",
      "    *   **5. Retail:** Personalized recommendations, inventory management.\n",
      "\n",
      "\n",
      "\n",
      "**III.  Notable AI Companies & Startups in India (Approx. 250-350 words)**\n",
      "\n",
      "*   **A.  Leading AI Startups:**\n",
      "    *   **Percepto:** (Focus: Healthcare Automation) – Briefly describe their work.\n",
      "    *   **TraceX:** (Focus: Supply Chain – Food Safety) – Briefly describe their work.\n",
      "    *   **Tata AI Research:** (Research and Development) – Their contributions.\n",
      "    *   **Other prominent startups** (e.g., Fractal Analytics, Inference Labs, Skolabs – highlight diversity of applications)\n",
      "*   **B.  Corporate AI Initiatives:**\n",
      "     *  **Infosys AI Center of Excellence:**  Their approach and projects.\n",
      "     * **Wipro’s AI Strategies:**  Their focus on industry-specific AI solutions.\n",
      "     * **HCLTech’s AI offerings:**  Similar overview.\n",
      "\n",
      "\n",
      "\n",
      "**IV. Challenges and Considerations (Approx. 200-250 words)**\n",
      "\n",
      "*   **A. Data Availability & Quality:**\n",
      "    *   Shortage of labelled data – Impact on AI model training.\n",
      "    *   Data privacy and security concerns –  Relevant regulations (e.g., Digital Personal Data Protection Bill).\n",
      "*   **B. Ethical Considerations:**\n",
      "    *   Bias in AI algorithms – Potential for discrimination.\n",
      "    *   Job displacement – Impact of automation on employment.\n",
      "    *   Transparency and explainability of AI systems.\n",
      "*   **C. Infrastructure Limitations:**\n",
      "       * Need for robust computing infrastructure to support AI workloads.\n",
      "\n",
      "\n",
      "\n",
      "**V.  The Future of AI in India (Approx. 150-200 words)**\n",
      "\n",
      "*   **A.  Emerging Trends:** Edge AI, Generative AI, Quantum Computing.\n",
      "*   **B.  Predictions:**  Forecasts for AI market growth (cite reputable sources like Gartner, IDC).\n",
      "*   **C.  Call to Action:** Encourage readers to learn more, follow relevant organizations, and consider careers in AI.\n",
      "\n",
      "\n",
      "\n",
      "**VI. Conclusion (Approx. 100-150 words)**\n",
      "\n",
      "*   **Reiterate Thesis:** Briefly summarize the key takeaways.\n",
      "*   **Final Thought:**  End with a hopeful and forward-looking statement about the transformative potential of AI in India.\n",
      "\n",
      "\n",
      "\n",
      "---\n",
      "\n",
      "**Important Notes for the Blog Post:**\n",
      "\n",
      "*   **Visuals:** Include relevant images, charts, and infographics to make the post more engaging.\n",
      "*   **Data Sources:**  Back up all claims with credible sources (e.g., NITI Aayog reports, government publications, industry research reports, news articles).\n",
      "*   **SEO:**  Research relevant keywords and incorporate them naturally into the text.\n",
      "*   **Tone:** Maintain an optimistic but realistic tone.\n",
      "\n",
      "To help me refine the outline further, could you tell me:\n",
      "\n",
      "*   What is the intended audience for this blog post? (e.g., general public, business leaders, students)\n",
      "*   Are there any particular sectors or applications you want to emphasize?\n"
     ]
    }
   ],
   "source": [
    "# outline of the blog\n",
    "print(final_state['outline'])"
   ]
  },
  {
   "cell_type": "code",
   "execution_count": 18,
   "id": "0ad3de2b",
   "metadata": {},
   "outputs": [
    {
     "name": "stdout",
     "output_type": "stream",
     "text": [
      "This is an excellent, incredibly detailed outline! You’ve covered all the bases and provided a really strong foundation for a compelling blog post. The suggested sections and sub-sections are logical and comprehensive.  The inclusion of specific company examples is a fantastic touch – it immediately adds credibility and relevance.\n",
      "\n",
      "Let's answer your follow-up questions to refine this further:\n",
      "\n",
      "**1. Intended Audience:**  I envision this blog post primarily targeting **business leaders, investors, and tech enthusiasts** – people who are interested in understanding the commercial and strategic implications of AI in India.  While accessible to a general audience, we’ll aim for a level of detail that demonstrates a solid understanding of the technology and the Indian market.  We’ll lean towards data-driven insights and strategic analysis.\n",
      "\n",
      "**2. Sectors to Emphasize:**  Given the audience, I’d like to strongly emphasize the following sectors:\n",
      "\n",
      "*   **Healthcare:** (As you’ve rightly identified – diagnostics and personalized medicine are key)\n",
      "*   **Financial Services:** (Given the investment in AI there and the potential for disruption)\n",
      "*   **Manufacturing:** (Precision manufacturing is a huge opportunity)\n",
      "*   **Agriculture:** (Given India's agricultural dependence and the potential for significant impact through AI)\n",
      "\n",
      "I think we can briefly touch on Retail and Supply Chain, but these four will be the core focus.\n",
      "\n",
      "\n",
      "Now, let's address some specific points and potential additions based on your outline:\n",
      "\n",
      "*   **Data Availability & Quality:**  You've correctly highlighted the data challenge.  Perhaps we could add a brief section on initiatives to address this – for example, government-backed data labeling programs or the rise of synthetic data generation.\n",
      "\n",
      "*   **Ethical Considerations:** Excellent to include bias and job displacement. We should also briefly mention *explainable AI* (XAI) – the importance of understanding *how* AI models make decisions, especially in sensitive areas like finance and healthcare.\n",
      "\n",
      "*   **Future Trends:**  Edge AI and Generative AI are definitely crucial.  Perhaps we can squeeze in a very brief note on Quantum Computing - it's gaining traction and could be transformative in the long-term, but we shouldn’t overemphasize it for this initial blog post.\n",
      "\n",
      "*   **Call to Action:** Let’s be specific here. Instead of just “learn more,” let's suggest resources: links to NITI Aayog’s AI strategy, relevant industry reports (Gartner, IDC), and perhaps a link to a database of Indian AI startups.\n",
      "\n",
      "\n",
      "**Next Steps – Let’s Start Drafting!**\n",
      "\n",
      "Would you like me to help you draft the introduction and the \"Current Landscape\" section, incorporating these suggestions? Or would you prefer to tackle a different section first?  Do you want me to create a preliminary outline for each of the sections (heading, key points, potential data/examples) before we start writing?\n"
     ]
    }
   ],
   "source": [
    "# content of the blog\n",
    "print(final_state['content'])"
   ]
  },
  {
   "cell_type": "code",
   "execution_count": 19,
   "id": "8e9b9da4",
   "metadata": {},
   "outputs": [
    {
     "name": "stdout",
     "output_type": "stream",
     "text": [
      "I’d give this outline a **9.5/10**. It’s incredibly thorough and well-structured – truly a fantastic foundation for a high-quality blog post. The inclusion of specific sectors and company examples elevates it significantly. The suggested additions (data labeling initiatives, explainable AI, and specific calls to action) are spot on.\n",
      "\n",
      "Your thoughtful responses to my questions demonstrate a clear understanding of the project and a proactive approach to refining the outline. The proposed next steps are excellent – starting with drafting the introduction and current landscape is a logical progression. \n",
      "\n",
      "I'm ready to start drafting! Let’s move on to the introduction and current landscape section. Do you want me to take the lead on drafting that, or would you prefer to collaborate and build it together?\n"
     ]
    }
   ],
   "source": [
    "print(final_state['evaluate'])"
   ]
  },
  {
   "cell_type": "code",
   "execution_count": null,
   "id": "60a2ba8c",
   "metadata": {},
   "outputs": [],
   "source": []
  }
 ],
 "metadata": {
  "kernelspec": {
   "display_name": "Python 3",
   "language": "python",
   "name": "python3"
  },
  "language_info": {
   "codemirror_mode": {
    "name": "ipython",
    "version": 3
   },
   "file_extension": ".py",
   "mimetype": "text/x-python",
   "name": "python",
   "nbconvert_exporter": "python",
   "pygments_lexer": "ipython3",
   "version": "3.11.13"
  }
 },
 "nbformat": 4,
 "nbformat_minor": 5
}
