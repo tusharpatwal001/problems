{
 "cells": [
  {
   "cell_type": "code",
   "execution_count": 1,
   "id": "42004fd7",
   "metadata": {},
   "outputs": [],
   "source": [
    "from langgraph.graph import StateGraph, START, END\n",
    "from typing import TypedDict"
   ]
  },
  {
   "cell_type": "code",
   "execution_count": 2,
   "id": "d0c1cca0",
   "metadata": {},
   "outputs": [],
   "source": [
    "# define State\n",
    "class BMIState(TypedDict):\n",
    "    weight_kg: float\n",
    "    height_m: float\n",
    "    bmi: float\n",
    "    category: str"
   ]
  },
  {
   "cell_type": "code",
   "execution_count": 5,
   "id": "80a52846",
   "metadata": {},
   "outputs": [],
   "source": [
    "def calculate_bmi(state: BMIState) -> BMIState:\n",
    "    weight = state['weight_kg']\n",
    "    height = state['height_m']\n",
    "    \n",
    "    bmi = weight/(height**2)\n",
    "    \n",
    "    state['bmi'] = round(bmi, 2)\n",
    "    \n",
    "    return state"
   ]
  },
  {
   "cell_type": "code",
   "execution_count": 6,
   "id": "bcde4660",
   "metadata": {},
   "outputs": [],
   "source": [
    "def label_bmi(state: BMIState) -> BMIState:\n",
    "    bmi = state['bmi']\n",
    "\n",
    "    if bmi < 18.5:\n",
    "        state['category'] = 'Underweight'\n",
    "    elif 18.5 <= bmi < 25:\n",
    "        state['category'] = 'Normal'\n",
    "    elif 25 <= bmi < 30:\n",
    "        state['category'] = 'Overweight'\n",
    "    else:\n",
    "        state['category'] = 'Obese'\n",
    "\n",
    "    return state"
   ]
  },
  {
   "cell_type": "code",
   "execution_count": 7,
   "id": "3b620927",
   "metadata": {},
   "outputs": [],
   "source": [
    "# define your graph\n",
    "graph = StateGraph(BMIState)\n",
    "\n",
    "# add nodes to your graph\n",
    "graph.add_node(\"calculate_bmi\", calculate_bmi)\n",
    "graph.add_node(\"label_bmi\", label_bmi) \n",
    "\n",
    "# add edged to your graph\n",
    "graph.add_edge(START, \"calculate_bmi\")\n",
    "graph.add_edge(\"calculate_bmi\", \"label_bmi\")\n",
    "graph.add_edge(\"label_bmi\", END)\n",
    "\n",
    "# compile the graph\n",
    "workflow = graph.compile()"
   ]
  },
  {
   "cell_type": "code",
   "execution_count": 11,
   "id": "bea0195b",
   "metadata": {},
   "outputs": [
    {
     "name": "stdout",
     "output_type": "stream",
     "text": [
      "{'weight_kg': 90, 'height_m': 1.79, 'bmi': 28.09, 'category': 'Overweight'}\n"
     ]
    }
   ],
   "source": [
    "# execute the graph\n",
    "initial_state = {\"weight_kg\": 90, \"height_m\": 1.79}\n",
    "\n",
    "final_state = workflow.invoke(initial_state)\n",
    "\n",
    "print(final_state)"
   ]
  },
  {
   "cell_type": "code",
   "execution_count": 12,
   "id": "147f3f1d",
   "metadata": {},
   "outputs": [
    {
     "name": "stdout",
     "output_type": "stream",
     "text": [
      "  +-----------+    \n",
      "  | __start__ |    \n",
      "  +-----------+    \n",
      "        *          \n",
      "        *          \n",
      "        *          \n",
      "+---------------+  \n",
      "| calculate_bmi |  \n",
      "+---------------+  \n",
      "        *          \n",
      "        *          \n",
      "        *          \n",
      "  +-----------+    \n",
      "  | label_bmi |    \n",
      "  +-----------+    \n",
      "        *          \n",
      "        *          \n",
      "        *          \n",
      "   +---------+     \n",
      "   | __end__ |     \n",
      "   +---------+     \n"
     ]
    }
   ],
   "source": [
    "# to see graph diagram\n",
    "workflow.get_graph().print_ascii()"
   ]
  },
  {
   "cell_type": "code",
   "execution_count": null,
   "id": "98ddd4d9",
   "metadata": {},
   "outputs": [],
   "source": []
  }
 ],
 "metadata": {
  "kernelspec": {
   "display_name": "Python 3",
   "language": "python",
   "name": "python3"
  },
  "language_info": {
   "codemirror_mode": {
    "name": "ipython",
    "version": 3
   },
   "file_extension": ".py",
   "mimetype": "text/x-python",
   "name": "python",
   "nbconvert_exporter": "python",
   "pygments_lexer": "ipython3",
   "version": "3.11.13"
  }
 },
 "nbformat": 4,
 "nbformat_minor": 5
}
