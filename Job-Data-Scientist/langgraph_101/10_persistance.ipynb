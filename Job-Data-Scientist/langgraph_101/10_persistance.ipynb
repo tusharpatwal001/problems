{
 "cells": [
  {
   "metadata": {
    "ExecuteTime": {
     "end_time": "2025-10-11T17:30:49.936955Z",
     "start_time": "2025-10-11T17:30:49.927722Z"
    }
   },
   "cell_type": "code",
   "source": [
    "from langgraph.graph import StateGraph, START, END\n",
    "from langchain_ollama import ChatOllama\n",
    "from typing import TypedDict, Annotated\n",
    "from langchain_core.messages import HumanMessage, BaseMessage\n",
    "from langgraph.checkpoint.memory import InMemorySaver"
   ],
   "id": "ceaa21cd5cf68695",
   "outputs": [],
   "execution_count": 7
  },
  {
   "metadata": {
    "ExecuteTime": {
     "end_time": "2025-10-11T17:22:23.821883Z",
     "start_time": "2025-10-11T17:22:23.779356Z"
    }
   },
   "cell_type": "code",
   "source": "llm = ChatOllama(model=\"gemma3:4b\")",
   "id": "f442f6cf907216c7",
   "outputs": [],
   "execution_count": 2
  },
  {
   "metadata": {
    "ExecuteTime": {
     "end_time": "2025-10-11T17:23:33.405975Z",
     "start_time": "2025-10-11T17:23:33.392815Z"
    }
   },
   "cell_type": "code",
   "source": [
    "class JokeState(TypedDict):\n",
    "    topic: str\n",
    "    joke: str\n",
    "    explanation: str"
   ],
   "id": "9333e1c1c672010f",
   "outputs": [],
   "execution_count": 3
  },
  {
   "metadata": {
    "ExecuteTime": {
     "end_time": "2025-10-11T17:25:57.424604Z",
     "start_time": "2025-10-11T17:25:57.411607Z"
    }
   },
   "cell_type": "code",
   "source": [
    "def generate_joke(state: JokeState):\n",
    "    prompt = f\"Generate a joke on the topic {state['topic']}\"\n",
    "    response = llm.invoke(prompt).content\n",
    "    return {\"joke\": response}"
   ],
   "id": "b1857f75d56ad84d",
   "outputs": [],
   "execution_count": 4
  },
  {
   "metadata": {
    "ExecuteTime": {
     "end_time": "2025-10-11T17:27:28.266726Z",
     "start_time": "2025-10-11T17:27:28.253586Z"
    }
   },
   "cell_type": "code",
   "source": [
    "def explain_joke(state: JokeState):\n",
    "    prompt = f\"Explain this joke: \\n{state['joke']}\"\n",
    "    response = llm.invoke(prompt).content\n",
    "    return {\"explanation\": response}"
   ],
   "id": "18aa60172e313803",
   "outputs": [],
   "execution_count": 5
  },
  {
   "metadata": {
    "ExecuteTime": {
     "end_time": "2025-10-11T17:31:05.858426Z",
     "start_time": "2025-10-11T17:31:05.489587Z"
    }
   },
   "cell_type": "code",
   "source": [
    "graph = StateGraph(JokeState)\n",
    "\n",
    "graph.add_node(\"generate_joke\", generate_joke)\n",
    "graph.add_node(\"explain_joke\", explain_joke)\n",
    "\n",
    "graph.add_edge(START, \"generate_joke\")\n",
    "graph.add_edge(\"generate_joke\", \"explain_joke\")\n",
    "graph.add_edge(\"explain_joke\", END)\n",
    "\n",
    "checkpoint = InMemorySaver()\n",
    "\n",
    "workflow = graph.compile(checkpointer=checkpoint)\n",
    "\n",
    "workflow"
   ],
   "id": "e29a30f3aca76f97",
   "outputs": [
    {
     "data": {
      "text/plain": [
       "<langgraph.graph.state.CompiledStateGraph object at 0x0000018BC513DB40>"
      ],
      "image/png": "[encoded data removed]"
     },
     "execution_count": 9,
     "metadata": {},
     "output_type": "execute_result"
    }
   ],
   "execution_count": 9
  },
  {
   "metadata": {
    "ExecuteTime": {
     "end_time": "2025-10-11T17:34:06.707710Z",
     "start_time": "2025-10-11T17:33:55.550703Z"
    }
   },
   "cell_type": "code",
   "source": [
    "config1 = {\"configurable\": {\"thread_id\": \"1\"}}\n",
    "\n",
    "response = workflow.invoke({\"topic\": \"Pizza\"}, config=config1)\n",
    "\n",
    "response"
   ],
   "id": "47cdc4ed50d76743",
   "outputs": [
    {
     "data": {
      "text/plain": [
       "{'topic': 'Pizza',\n",
       " 'joke': 'Why did the pizza break up with the bread? \\n\\n... Because it said, \"You\\'re too cheesy!\" 😂 \\n\\n---\\n\\nWould you like to hear another pizza joke?',\n",
       " 'explanation': 'That’s a classic! The joke plays on the double meaning of “cheesy.” \\n\\n* **Literally:** Bread can be made with cheese, making it “cheesy” in a physical sense.\\n* **Figuratively:** “Cheesy” is also used to describe someone overly sentimental or dramatic. \\n\\nThe pizza is jokingly saying the bread is too over-the-top! 😂\\n\\n---\\n\\nYes, please! I’d love to hear another pizza joke.'}"
      ]
     },
     "execution_count": 10,
     "metadata": {},
     "output_type": "execute_result"
    }
   ],
   "execution_count": 10
  },
  {
   "metadata": {
    "ExecuteTime": {
     "end_time": "2025-10-11T17:35:42.374466Z",
     "start_time": "2025-10-11T17:35:42.359946Z"
    }
   },
   "cell_type": "code",
   "source": "workflow.get_state(config1)",
   "id": "4f9a73427af55712",
   "outputs": [
    {
     "data": {
      "text/plain": [
       "StateSnapshot(values={'topic': 'Pizza', 'joke': 'Why did the pizza break up with the bread? \\n\\n... Because it said, \"You\\'re too cheesy!\" 😂 \\n\\n---\\n\\nWould you like to hear another pizza joke?', 'explanation': 'That’s a classic! The joke plays on the double meaning of “cheesy.” \\n\\n* **Literally:** Bread can be made with cheese, making it “cheesy” in a physical sense.\\n* **Figuratively:** “Cheesy” is also used to describe someone overly sentimental or dramatic. \\n\\nThe pizza is jokingly saying the bread is too over-the-top! 😂\\n\\n---\\n\\nYes, please! I’d love to hear another pizza joke.'}, next=(), config={'configurable': {'thread_id': '1', 'checkpoint_ns': '', 'checkpoint_id': '1f0a6c87-cdb1-6da5-8002-89d3c5cf27be'}}, metadata={'source': 'loop', 'step': 2, 'parents': {}}, created_at='2025-10-11T17:34:06.689014+00:00', parent_config={'configurable': {'thread_id': '1', 'checkpoint_ns': '', 'checkpoint_id': '1f0a6c87-b7a0-676c-8001-889c61845537'}}, tasks=(), interrupts=())"
      ]
     },
     "execution_count": 11,
     "metadata": {},
     "output_type": "execute_result"
    }
   ],
   "execution_count": 11
  },
  {
   "metadata": {
    "ExecuteTime": {
     "end_time": "2025-10-11T17:36:23.590225Z",
     "start_time": "2025-10-11T17:36:16.330287Z"
    }
   },
   "cell_type": "code",
   "source": [
    "config2 = {\"configurable\": {\"thread_id\": \"2\"}}\n",
    "\n",
    "response = workflow.invoke({\"topic\": \"Condom\"}, config=config2)\n",
    "\n",
    "response"
   ],
   "id": "3d94489ee1e6357c",
   "outputs": [
    {
     "data": {
      "text/plain": [
       "{'topic': 'Condom',\n",
       " 'joke': 'Okay, here\\'s a joke about condoms:\\n\\nWhy did the condom break up with the baby? \\n\\n... Because it said, \"I need some space!\" \\n\\n---\\n\\n**Disclaimer:** *I\\'ve tried to create a lighthearted joke. Humor is subjective, and it\\'s important to use humor responsibly.  I want to reiterate the importance of safe sex practices and using condoms to protect yourself and your partner.*\\n\\nWould you like to hear another joke, or perhaps one on a different topic?',\n",
       " 'explanation': 'Okay, let\\'s break down the joke! It\\'s a classic pun. \\n\\n* **The Setup:** \"Why did the condom break up with the baby?\" – This sets up a question that leads us to expect a logical or humorous reason.\\n* **The Punchline:** \"Because it said, \\'I need some space!\\'\" – This is the key. \"Space\" refers to both:\\n    * **Physical Space:** Condoms are used to create physical space between people during sexual activity.\\n    * **Emotional Space:** The pun plays on the idea of needing personal space and distance in a relationship.\\n\\n**Essentially, the joke relies on the double meaning of \"space.\"** It\\'s a silly and lighthearted play on words.\\n\\nYour disclaimer is also excellent - it\\'s important to acknowledge the sensitive nature of the topic and promote safe practices. \\n\\nDo you want to hear another joke, or would you like me to try a joke on a different topic?'}"
      ]
     },
     "execution_count": 12,
     "metadata": {},
     "output_type": "execute_result"
    }
   ],
   "execution_count": 12
  },
  {
   "metadata": {
    "ExecuteTime": {
     "end_time": "2025-10-11T17:38:05.936189Z",
     "start_time": "2025-10-11T17:38:05.923950Z"
    }
   },
   "cell_type": "code",
   "source": "workflow.get_state(config1)",
   "id": "c29c7fd1b1157f7a",
   "outputs": [
    {
     "data": {
      "text/plain": [
       "StateSnapshot(values={'topic': 'Pizza', 'joke': 'Why did the pizza break up with the bread? \\n\\n... Because it said, \"You\\'re too cheesy!\" 😂 \\n\\n---\\n\\nWould you like to hear another pizza joke?', 'explanation': 'That’s a classic! The joke plays on the double meaning of “cheesy.” \\n\\n* **Literally:** Bread can be made with cheese, making it “cheesy” in a physical sense.\\n* **Figuratively:** “Cheesy” is also used to describe someone overly sentimental or dramatic. \\n\\nThe pizza is jokingly saying the bread is too over-the-top! 😂\\n\\n---\\n\\nYes, please! I’d love to hear another pizza joke.'}, next=(), config={'configurable': {'thread_id': '1', 'checkpoint_ns': '', 'checkpoint_id': '1f0a6c87-cdb1-6da5-8002-89d3c5cf27be'}}, metadata={'source': 'loop', 'step': 2, 'parents': {}}, created_at='2025-10-11T17:34:06.689014+00:00', parent_config={'configurable': {'thread_id': '1', 'checkpoint_ns': '', 'checkpoint_id': '1f0a6c87-b7a0-676c-8001-889c61845537'}}, tasks=(), interrupts=())"
      ]
     },
     "execution_count": 17,
     "metadata": {},
     "output_type": "execute_result"
    }
   ],
   "execution_count": 17
  },
  {
   "metadata": {
    "ExecuteTime": {
     "end_time": "2025-10-11T17:39:46.827660Z",
     "start_time": "2025-10-11T17:39:46.812558Z"
    }
   },
   "cell_type": "code",
   "source": "list(workflow.get_state_history(config1))",
   "id": "4768459a081f0a61",
   "outputs": [
    {
     "data": {
      "text/plain": [
       "[StateSnapshot(values={'topic': 'Pizza', 'joke': 'Why did the pizza break up with the bread? \\n\\n... Because it said, \"You\\'re too cheesy!\" 😂 \\n\\n---\\n\\nWould you like to hear another pizza joke?', 'explanation': 'That’s a classic! The joke plays on the double meaning of “cheesy.” \\n\\n* **Literally:** Bread can be made with cheese, making it “cheesy” in a physical sense.\\n* **Figuratively:** “Cheesy” is also used to describe someone overly sentimental or dramatic. \\n\\nThe pizza is jokingly saying the bread is too over-the-top! 😂\\n\\n---\\n\\nYes, please! I’d love to hear another pizza joke.'}, next=(), config={'configurable': {'thread_id': '1', 'checkpoint_ns': '', 'checkpoint_id': '1f0a6c87-cdb1-6da5-8002-89d3c5cf27be'}}, metadata={'source': 'loop', 'step': 2, 'parents': {}}, created_at='2025-10-11T17:34:06.689014+00:00', parent_config={'configurable': {'thread_id': '1', 'checkpoint_ns': '', 'checkpoint_id': '1f0a6c87-b7a0-676c-8001-889c61845537'}}, tasks=(), interrupts=()),\n",
       " StateSnapshot(values={'topic': 'Pizza', 'joke': 'Why did the pizza break up with the bread? \\n\\n... Because it said, \"You\\'re too cheesy!\" 😂 \\n\\n---\\n\\nWould you like to hear another pizza joke?'}, next=('explain_joke',), config={'configurable': {'thread_id': '1', 'checkpoint_ns': '', 'checkpoint_id': '1f0a6c87-b7a0-676c-8001-889c61845537'}}, metadata={'source': 'loop', 'step': 1, 'parents': {}}, created_at='2025-10-11T17:34:04.375025+00:00', parent_config={'configurable': {'thread_id': '1', 'checkpoint_ns': '', 'checkpoint_id': '1f0a6c87-6383-6497-8000-3d369dc8215d'}}, tasks=(PregelTask(id='d857c220-124b-d41b-b68c-e6e2ae2a8879', name='explain_joke', path=('__pregel_pull', 'explain_joke'), error=None, interrupts=(), state=None, result={'explanation': 'That’s a classic! The joke plays on the double meaning of “cheesy.” \\n\\n* **Literally:** Bread can be made with cheese, making it “cheesy” in a physical sense.\\n* **Figuratively:** “Cheesy” is also used to describe someone overly sentimental or dramatic. \\n\\nThe pizza is jokingly saying the bread is too over-the-top! 😂\\n\\n---\\n\\nYes, please! I’d love to hear another pizza joke.'}),), interrupts=()),\n",
       " StateSnapshot(values={'topic': 'Pizza'}, next=('generate_joke',), config={'configurable': {'thread_id': '1', 'checkpoint_ns': '', 'checkpoint_id': '1f0a6c87-6383-6497-8000-3d369dc8215d'}}, metadata={'source': 'loop', 'step': 0, 'parents': {}}, created_at='2025-10-11T17:33:55.555035+00:00', parent_config={'configurable': {'thread_id': '1', 'checkpoint_ns': '', 'checkpoint_id': '1f0a6c87-637e-664b-bfff-4bfd740629b0'}}, tasks=(PregelTask(id='b3c24fce-1294-7747-5895-dbd08e8c8a94', name='generate_joke', path=('__pregel_pull', 'generate_joke'), error=None, interrupts=(), state=None, result={'joke': 'Why did the pizza break up with the bread? \\n\\n... Because it said, \"You\\'re too cheesy!\" 😂 \\n\\n---\\n\\nWould you like to hear another pizza joke?'}),), interrupts=()),\n",
       " StateSnapshot(values={}, next=('__start__',), config={'configurable': {'thread_id': '1', 'checkpoint_ns': '', 'checkpoint_id': '1f0a6c87-637e-664b-bfff-4bfd740629b0'}}, metadata={'source': 'input', 'step': -1, 'parents': {}}, created_at='2025-10-11T17:33:55.553031+00:00', parent_config=None, tasks=(PregelTask(id='c0bbf526-9e10-33d0-46df-7c658067c7ae', name='__start__', path=('__pregel_pull', '__start__'), error=None, interrupts=(), state=None, result={'topic': 'Pizza'}),), interrupts=())]"
      ]
     },
     "execution_count": 20,
     "metadata": {},
     "output_type": "execute_result"
    }
   ],
   "execution_count": 20
  },
  {
   "metadata": {},
   "cell_type": "code",
   "outputs": [],
   "execution_count": null,
   "source": "",
   "id": "647b0275d882a821"
  }
 ],
 "metadata": {
  "kernelspec": {
   "display_name": "Python 3",
   "language": "python",
   "name": "python3"
  },
  "language_info": {
   "codemirror_mode": {
    "name": "ipython",
    "version": 2
   },
   "file_extension": ".py",
   "mimetype": "text/x-python",
   "name": "python",
   "nbconvert_exporter": "python",
   "pygments_lexer": "ipython2",
   "version": "2.7.6"
  }
 },
 "nbformat": 4,
 "nbformat_minor": 5
}
