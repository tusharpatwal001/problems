{
 "cells": [
  {
   "cell_type": "code",
   "id": "initial_id",
   "metadata": {
    "collapsed": true,
    "ExecuteTime": {
     "end_time": "2025-10-11T03:07:42.190157Z",
     "start_time": "2025-10-11T03:07:42.174365Z"
    }
   },
   "source": [
    "from langgraph.graph import StateGraph, START, END\n",
    "from typing import TypedDict"
   ],
   "outputs": [],
   "execution_count": 34
  },
  {
   "metadata": {
    "ExecuteTime": {
     "end_time": "2025-10-11T03:04:11.684893Z",
     "start_time": "2025-10-11T03:04:11.677860Z"
    }
   },
   "cell_type": "code",
   "source": [
    "# define state\n",
    "class BatsmanState(TypedDict):\n",
    "    runs: int\n",
    "    balls: int\n",
    "    fours: int\n",
    "    sixes: int\n",
    "\n",
    "    strike_rate: float\n",
    "    balls_per_boundary: float\n",
    "    boundary_percent: float\n",
    "    summary: str"
   ],
   "id": "8ef953ac0dcbd501",
   "outputs": [],
   "execution_count": 21
  },
  {
   "metadata": {},
   "cell_type": "markdown",
   "source": "create node functions",
   "id": "b4729ea6fbb89ec6"
  },
  {
   "metadata": {
    "ExecuteTime": {
     "end_time": "2025-10-11T03:04:44.293851Z",
     "start_time": "2025-10-11T03:04:44.280112Z"
    }
   },
   "cell_type": "code",
   "source": [
    "def calculate_sr(state: BatsmanState):\n",
    "    sr = (state['runs'] / state['balls']) * 100\n",
    "    return {\"strike_rate\": sr}"
   ],
   "id": "7724e2b78ba70c3d",
   "outputs": [],
   "execution_count": 28
  },
  {
   "metadata": {
    "ExecuteTime": {
     "end_time": "2025-10-11T03:04:44.638540Z",
     "start_time": "2025-10-11T03:04:44.619771Z"
    }
   },
   "cell_type": "code",
   "source": [
    "def calculate_bpb(state: BatsmanState):\n",
    "    bpb = state['balls'] / (state['fours'] + state['sixes'])\n",
    "    return {\"balls_per_boundary\": bpb}"
   ],
   "id": "b0b0a09c630a14a5",
   "outputs": [],
   "execution_count": 29
  },
  {
   "metadata": {
    "ExecuteTime": {
     "end_time": "2025-10-11T03:04:44.840598Z",
     "start_time": "2025-10-11T03:04:44.822412Z"
    }
   },
   "cell_type": "code",
   "source": [
    "def calculate_bp(state: BatsmanState):\n",
    "    bp = (((state['fours'] * 4) + (state['sixes'] * 6)) / state['runs']) * 100\n",
    "    return {\"boundary_percent\": bp}"
   ],
   "id": "342e7f210c62a290",
   "outputs": [],
   "execution_count": 30
  },
  {
   "metadata": {
    "ExecuteTime": {
     "end_time": "2025-10-11T03:04:45.043778Z",
     "start_time": "2025-10-11T03:04:45.038777Z"
    }
   },
   "cell_type": "code",
   "source": [
    "def summary(state: BatsmanState):\n",
    "    summary = f\"\"\"\n",
    "Strike Rate: {state['strike_rate']}\\n\n",
    "Balls per Bpondary: {state['balls_per_boundary']}\\n\n",
    "Boundary Percent: {state['boundary_percent']}\n",
    "\"\"\"\n",
    "    return {\"summary\": summary}"
   ],
   "id": "ee4d25830db458cf",
   "outputs": [],
   "execution_count": 31
  },
  {
   "metadata": {
    "ExecuteTime": {
     "end_time": "2025-10-11T03:04:45.308113Z",
     "start_time": "2025-10-11T03:04:45.249657Z"
    }
   },
   "cell_type": "code",
   "source": [
    "graph = StateGraph(BatsmanState)\n",
    "\n",
    "# add nodes\n",
    "graph.add_node(\"calculate_sr\", calculate_sr)\n",
    "graph.add_node(\"calculate_bpb\", calculate_bpb)\n",
    "graph.add_node(\"calculate_bp\", calculate_bp)\n",
    "graph.add_node(\"summary\", summary)\n",
    "\n",
    "# add edges\n",
    "graph.add_edge(START, \"calculate_sr\")\n",
    "graph.add_edge(START, \"calculate_bpb\")\n",
    "graph.add_edge(START, \"calculate_bp\")\n",
    "graph.add_edge(\"calculate_sr\", \"summary\")\n",
    "graph.add_edge(\"calculate_bpb\", \"summary\")\n",
    "graph.add_edge(\"calculate_bp\", \"summary\")\n",
    "graph.add_edge(\"summary\", END)\n",
    "\n",
    "# compile graph\n",
    "worlflow = graph.compile()\n",
    "\n",
    "worlflow"
   ],
   "id": "778fbe052f7eadf4",
   "outputs": [
    {
     "data": {
      "text/plain": [
       "<langgraph.graph.state.CompiledStateGraph object at 0x000002350C419150>"
      ],
      "image/png": "[encoded data removed]"
     },
     "execution_count": 32,
     "metadata": {},
     "output_type": "execute_result"
    }
   ],
   "execution_count": 32
  },
  {
   "metadata": {
    "ExecuteTime": {
     "end_time": "2025-10-11T03:04:45.448638Z",
     "start_time": "2025-10-11T03:04:45.433636Z"
    }
   },
   "cell_type": "code",
   "source": [
    "initial_state = {\"runs\": 100, \"balls\": 50, \"fours\": 6, \"sixes\": 4}\n",
    "\n",
    "final_state = worlflow.invoke(initial_state)\n",
    "\n",
    "final_state"
   ],
   "id": "6bf8be9912702b92",
   "outputs": [
    {
     "data": {
      "text/plain": [
       "{'runs': 100,\n",
       " 'balls': 50,\n",
       " 'fours': 6,\n",
       " 'sixes': 4,\n",
       " 'strike_rate': 200.0,\n",
       " 'balls_per_boundary': 5.0,\n",
       " 'boundary_percent': 48.0,\n",
       " 'summary': '\\nStrike Rate: 200.0\\n\\nBalls per Bpondary: 5.0\\n\\nBoundary Percent: 48.0\\n'}"
      ]
     },
     "execution_count": 33,
     "metadata": {},
     "output_type": "execute_result"
    }
   ],
   "execution_count": 33
  },
  {
   "metadata": {
    "ExecuteTime": {
     "end_time": "2025-10-11T03:04:45.637155Z",
     "start_time": "2025-10-11T03:04:45.628879Z"
    }
   },
   "cell_type": "code",
   "source": "",
   "id": "781b70aeff7907cf",
   "outputs": [],
   "execution_count": null
  },
  {
   "metadata": {},
   "cell_type": "code",
   "outputs": [],
   "execution_count": null,
   "source": "",
   "id": "87119e36e3d0f85d"
  }
 ],
 "metadata": {
  "kernelspec": {
   "display_name": "Python 3",
   "language": "python",
   "name": "python3"
  },
  "language_info": {
   "codemirror_mode": {
    "name": "ipython",
    "version": 2
   },
   "file_extension": ".py",
   "mimetype": "text/x-python",
   "name": "python",
   "nbconvert_exporter": "python",
   "pygments_lexer": "ipython2",
   "version": "2.7.6"
  }
 },
 "nbformat": 4,
 "nbformat_minor": 5
}
