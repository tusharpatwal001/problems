{
 "cells": [
  {
   "cell_type": "code",
   "id": "initial_id",
   "metadata": {
    "collapsed": true,
    "ExecuteTime": {
     "end_time": "2025-10-11T04:36:49.162492Z",
     "start_time": "2025-10-11T04:36:49.145805Z"
    }
   },
   "source": [
    "from langgraph.graph import StateGraph, START, END\n",
    "from typing import TypedDict, Literal"
   ],
   "outputs": [],
   "execution_count": 35
  },
  {
   "metadata": {
    "ExecuteTime": {
     "end_time": "2025-10-11T04:36:49.177956Z",
     "start_time": "2025-10-11T04:36:49.166500Z"
    }
   },
   "cell_type": "code",
   "source": [
    "class QuadState(TypedDict):\n",
    "    a: int\n",
    "    b: int\n",
    "    c: int\n",
    "    equation: str\n",
    "    discriminant: float\n",
    "    result: str"
   ],
   "id": "4591a002647c43bc",
   "outputs": [],
   "execution_count": 36
  },
  {
   "metadata": {
    "ExecuteTime": {
     "end_time": "2025-10-11T04:36:49.193636Z",
     "start_time": "2025-10-11T04:36:49.182473Z"
    }
   },
   "cell_type": "code",
   "source": [
    "def show_equation(state: QuadState):\n",
    "    equation = f\"{state['a']}x^2{state['b']}x{state['c']}\"\n",
    "    return {\"equation\": equation}"
   ],
   "id": "c789d6a13c012789",
   "outputs": [],
   "execution_count": 37
  },
  {
   "metadata": {
    "ExecuteTime": {
     "end_time": "2025-10-11T04:36:49.209268Z",
     "start_time": "2025-10-11T04:36:49.198702Z"
    }
   },
   "cell_type": "code",
   "source": [
    "def calculate_discriminant(state: QuadState):\n",
    "    discriminant = state['b'] ** 2 - (4 * state['a'] * state['c'])\n",
    "    return {\"discriminant\": discriminant}"
   ],
   "id": "35fa8641d14c4f77",
   "outputs": [],
   "execution_count": 38
  },
  {
   "metadata": {
    "ExecuteTime": {
     "end_time": "2025-10-11T04:36:49.225264Z",
     "start_time": "2025-10-11T04:36:49.214788Z"
    }
   },
   "cell_type": "code",
   "source": [
    "def real_roots(state: QuadState):\n",
    "    root1 = (-state['b'] + state['discriminant'] ** 0.5) / (2 * state['a'])\n",
    "    root2 = (-state['b'] - state['discriminant'] ** 0.5) / (2 * state['a'])\n",
    "\n",
    "    result = f\"The roots are {round(root1, 3)} and {round(root2, 3)}\"\n",
    "    return {\"result\": result}"
   ],
   "id": "1c99b26ce4c7af0d",
   "outputs": [],
   "execution_count": 39
  },
  {
   "metadata": {
    "ExecuteTime": {
     "end_time": "2025-10-11T04:36:49.241081Z",
     "start_time": "2025-10-11T04:36:49.229770Z"
    }
   },
   "cell_type": "code",
   "source": [
    "def repeated_roots(state: QuadState):\n",
    "    root = (-state['b']) / (2 * state['a'])\n",
    "\n",
    "    result = f\"Only repeating root is {root}\"\n",
    "\n",
    "    return {\"result\": result}"
   ],
   "id": "898b3f69a3f49bd9",
   "outputs": [],
   "execution_count": 40
  },
  {
   "metadata": {
    "ExecuteTime": {
     "end_time": "2025-10-11T04:36:49.256786Z",
     "start_time": "2025-10-11T04:36:49.245591Z"
    }
   },
   "cell_type": "code",
   "source": [
    "def no_real_roots(state: QuadState):\n",
    "    result = f\"No real roots\"\n",
    "\n",
    "    return {\"result\": result}"
   ],
   "id": "34dc63c762205262",
   "outputs": [],
   "execution_count": 41
  },
  {
   "metadata": {
    "ExecuteTime": {
     "end_time": "2025-10-11T04:36:49.272279Z",
     "start_time": "2025-10-11T04:36:49.262252Z"
    }
   },
   "cell_type": "code",
   "source": [
    "# condition\n",
    "def check_condition(state: QuadState) -> Literal[\"real_roots\", \"repeated_roots\", \"no_real_roots\"]:\n",
    "    if state['discriminant'] > 0:\n",
    "        return \"real_roots\"\n",
    "    elif state['discriminant'] == 0:\n",
    "        return \"repeated_roots\"\n",
    "    else:\n",
    "        return \"no_real_roots\""
   ],
   "id": "8ec1d08d912da6e5",
   "outputs": [],
   "execution_count": 42
  },
  {
   "metadata": {
    "ExecuteTime": {
     "end_time": "2025-10-11T04:38:07.839158Z",
     "start_time": "2025-10-11T04:38:07.827159Z"
    }
   },
   "cell_type": "code",
   "source": [
    "graph = StateGraph(QuadState)\n",
    "\n",
    "graph.add_node(\"show_equation\", show_equation)\n",
    "graph.add_node(\"calculate_discriminant\", calculate_discriminant)\n",
    "graph.add_node(\"real_roots\", real_roots)\n",
    "graph.add_node(\"repeated_roots\", repeated_roots)\n",
    "graph.add_node(\"no_real_roots\", no_real_roots)\n",
    "\n",
    "# adding edges\n",
    "graph.add_edge(START, \"show_equation\")\n",
    "graph.add_edge(\"show_equation\", \"calculate_discriminant\")\n",
    "# conditional edge\n",
    "graph.add_conditional_edges(\"calculate_discriminant\", check_condition)\n",
    "graph.add_edge(\"real_roots\", END)\n",
    "graph.add_edge(\"repeated_roots\", END)\n",
    "graph.add_edge(\"no_real_roots\", END)\n",
    "\n",
    "# compile graph\n",
    "workflow = graph.compile()"
   ],
   "id": "5c88e4e271eafca7",
   "outputs": [],
   "execution_count": 48
  },
  {
   "metadata": {
    "ExecuteTime": {
     "end_time": "2025-10-11T04:38:08.168909Z",
     "start_time": "2025-10-11T04:38:08.156397Z"
    }
   },
   "cell_type": "code",
   "source": [
    "initial_state = {\"a\": 4, \"b\": -30, \"c\": -3}\n",
    "\n",
    "final_state = workflow.invoke(initial_state)\n",
    "\n",
    "final_state"
   ],
   "id": "fdbcceb3173a5ad5",
   "outputs": [
    {
     "data": {
      "text/plain": [
       "{'a': 4,\n",
       " 'b': -30,\n",
       " 'c': -3,\n",
       " 'equation': '4x^2-30x-3',\n",
       " 'discriminant': 948,\n",
       " 'result': 'The roots are 7.599 and -0.099'}"
      ]
     },
     "execution_count": 49,
     "metadata": {},
     "output_type": "execute_result"
    }
   ],
   "execution_count": 49
  },
  {
   "metadata": {
    "ExecuteTime": {
     "end_time": "2025-10-11T04:36:49.319575Z",
     "start_time": "2025-10-11T04:36:49.309675Z"
    }
   },
   "cell_type": "code",
   "source": "",
   "id": "cf0740dea536b9e1",
   "outputs": [],
   "execution_count": null
  },
  {
   "metadata": {
    "ExecuteTime": {
     "end_time": "2025-10-11T04:36:49.350826Z",
     "start_time": "2025-10-11T04:36:49.339657Z"
    }
   },
   "cell_type": "code",
   "source": "",
   "id": "b0ef99ea0acc8d6e",
   "outputs": [],
   "execution_count": null
  }
 ],
 "metadata": {
  "kernelspec": {
   "display_name": "Python 3",
   "language": "python",
   "name": "python3"
  },
  "language_info": {
   "codemirror_mode": {
    "name": "ipython",
    "version": 2
   },
   "file_extension": ".py",
   "mimetype": "text/x-python",
   "name": "python",
   "nbconvert_exporter": "python",
   "pygments_lexer": "ipython2",
   "version": "2.7.6"
  }
 },
 "nbformat": 4,
 "nbformat_minor": 5
}
