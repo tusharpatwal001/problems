{
 "cells": [
  {
   "cell_type": "code",
   "id": "initial_id",
   "metadata": {
    "collapsed": true,
    "ExecuteTime": {
     "end_time": "2025-10-11T03:44:46.849501Z",
     "start_time": "2025-10-11T03:44:46.837457Z"
    }
   },
   "source": [
    "from langgraph.graph import StateGraph, START, END\n",
    "from langchain_ollama import ChatOllama\n",
    "from typing import TypedDict, Annotated\n",
    "from pydantic import BaseModel, Field\n",
    "import operator"
   ],
   "outputs": [],
   "execution_count": 16
  },
  {
   "metadata": {
    "ExecuteTime": {
     "end_time": "2025-10-11T03:17:49.553611Z",
     "start_time": "2025-10-11T03:17:49.519529Z"
    }
   },
   "cell_type": "code",
   "source": "model = ChatOllama(model='gemma3:4b')",
   "id": "653d80cc6dba57c1",
   "outputs": [],
   "execution_count": 6
  },
  {
   "metadata": {
    "ExecuteTime": {
     "end_time": "2025-10-11T03:19:02.137127Z",
     "start_time": "2025-10-11T03:19:02.123733Z"
    }
   },
   "cell_type": "code",
   "source": [
    "class EvaluationSchema(BaseModel):\n",
    "    feedback: str = Field(description='Detailed Feedback for the essay')\n",
    "    score: int = Field(description='The score of the essay out of 10', ge=0, le=10)"
   ],
   "id": "1d694d86f9008ed2",
   "outputs": [],
   "execution_count": 7
  },
  {
   "metadata": {
    "ExecuteTime": {
     "end_time": "2025-10-11T03:20:24.626707Z",
     "start_time": "2025-10-11T03:20:24.613018Z"
    }
   },
   "cell_type": "code",
   "source": [
    "# for getting structured output\n",
    "structured_model = model.with_structured_output(EvaluationSchema)"
   ],
   "id": "cbc15abb1b067c00",
   "outputs": [],
   "execution_count": 8
  },
  {
   "metadata": {
    "ExecuteTime": {
     "end_time": "2025-10-11T03:21:00.943076Z",
     "start_time": "2025-10-11T03:21:00.930077Z"
    }
   },
   "cell_type": "code",
   "source": [
    "essay = \"\"\"India in the Age of AI\n",
    "As the world enters a transformative era defined by artificial intelligence (AI), India stands at a critical juncture — one where it can either emerge as a global leader in AI innovation or risk falling behind in the technology race. The age of AI brings with it immense promise as well as unprecedented challenges, and how India navigates this landscape will shape its socio-economic and geopolitical future.\n",
    "\n",
    "India's strengths in the AI domain are rooted in its vast pool of skilled engineers, a thriving IT industry, and a growing startup ecosystem. With over 5 million STEM graduates annually and a burgeoning base of AI researchers, India possesses the intellectual capital required to build cutting-edge AI systems. Institutions like IITs, IIITs, and IISc have begun fostering AI research, while private players such as TCS, Infosys, and Wipro are integrating AI into their global services. In 2020, the government launched the National AI Strategy (AI for All) with a focus on inclusive growth, aiming to leverage AI in healthcare, agriculture, education, and smart mobility.\n",
    "\n",
    "One of the most promising applications of AI in India lies in agriculture, where predictive analytics can guide farmers on optimal sowing times, weather forecasts, and pest control. In healthcare, AI-powered diagnostics can help address India’s doctor-patient ratio crisis, particularly in rural areas. Educational platforms are increasingly using AI to personalize learning paths, while smart governance tools are helping improve public service delivery and fraud detection.\n",
    "\n",
    "However, the path to AI-led growth is riddled with challenges. Chief among them is the digital divide. While metropolitan cities may embrace AI-driven solutions, rural India continues to struggle with basic internet access and digital literacy. The risk of job displacement due to automation also looms large, especially for low-skilled workers. Without effective skilling and re-skilling programs, AI could exacerbate existing socio-economic inequalities.\n",
    "\n",
    "Another pressing concern is data privacy and ethics. As AI systems rely heavily on vast datasets, ensuring that personal data is used transparently and responsibly becomes vital. India is still shaping its data protection laws, and in the absence of a strong regulatory framework, AI systems may risk misuse or bias.\n",
    "\n",
    "To harness AI responsibly, India must adopt a multi-stakeholder approach involving the government, academia, industry, and civil society. Policies should promote open datasets, encourage responsible innovation, and ensure ethical AI practices. There is also a need for international collaboration, particularly with countries leading in AI research, to gain strategic advantage and ensure interoperability in global systems.\n",
    "\n",
    "India’s demographic dividend, when paired with responsible AI adoption, can unlock massive economic growth, improve governance, and uplift marginalized communities. But this vision will only materialize if AI is seen not merely as a tool for automation, but as an enabler of human-centered development.\n",
    "\n",
    "In conclusion, India in the age of AI is a story in the making — one of opportunity, responsibility, and transformation. The decisions we make today will not just determine India’s AI trajectory, but also its future as an inclusive, equitable, and innovation-driven society.\"\"\""
   ],
   "id": "5990f094ae31db68",
   "outputs": [],
   "execution_count": 9
  },
  {
   "metadata": {
    "ExecuteTime": {
     "end_time": "2025-10-11T03:26:25.257495Z",
     "start_time": "2025-10-11T03:25:51.771471Z"
    }
   },
   "cell_type": "code",
   "source": [
    "prompt = f\"Evaluate the language quality of the following essay and provide a feedback and assign a score out of 10\\n {essay}\"\n",
    "\n",
    "response = structured_model.invoke(prompt)\n",
    "response"
   ],
   "id": "4d18b1e2501005f",
   "outputs": [
    {
     "data": {
      "text/plain": [
       "EvaluationSchema(feedback=\"This is a well-written and insightful essay on India’s potential in the age of AI. The structure is logical, moving from an introduction outlining the stakes, to discussing strengths, applications, challenges, and finally, a concluding call to action. The arguments are supported with concrete examples – IITs, TCS, the National AI Strategy, and specific applications in agriculture, healthcare, and education – which strengthens the piece. \\n\\nThe language is clear, accessible, and generally sophisticated. There's a good balance between explaining complex concepts (like predictive analytics) and maintaining a readability level suitable for a broad audience. The use of phrases like ‘human-centered development’ adds a thoughtful dimension.\\n\\nHowever, there are a few minor areas for improvement. While the essay is generally strong, it could benefit from slightly more depth in certain sections. For example, the discussion of the ‘digital divide’ feels a little brief. Expanding on specific initiatives to bridge this gap – beyond just mentioning access – would add weight to the argument. Similarly, while the concerns about data privacy and ethics are valid, a deeper dive into the specific challenges related to Indian data regulations and potential biases within datasets would enhance the analysis.\\n\\nFinally, the conclusion is somewhat repetitive, reiterating points already made. A slightly more forward-looking conclusion, suggesting specific policy recommendations or highlighting emerging trends, would leave a stronger impression. \\n\\n**Overall, this is a solid piece of writing. It demonstrates a good understanding of the topic and is presented in a clear and engaging manner.**\", score=8)"
      ]
     },
     "execution_count": 10,
     "metadata": {},
     "output_type": "execute_result"
    }
   ],
   "execution_count": 10
  },
  {
   "metadata": {
    "ExecuteTime": {
     "end_time": "2025-10-11T03:27:20.188125Z",
     "start_time": "2025-10-11T03:27:20.177977Z"
    }
   },
   "cell_type": "code",
   "source": "response.score",
   "id": "97896f77e840f150",
   "outputs": [
    {
     "data": {
      "text/plain": [
       "8"
      ]
     },
     "execution_count": 13,
     "metadata": {},
     "output_type": "execute_result"
    }
   ],
   "execution_count": 13
  },
  {
   "metadata": {
    "ExecuteTime": {
     "end_time": "2025-10-11T03:45:16.291588Z",
     "start_time": "2025-10-11T03:45:16.275602Z"
    }
   },
   "cell_type": "code",
   "source": [
    "class EssayState(TypedDict):\n",
    "    essay: str\n",
    "    language_feedback: str\n",
    "    analysis_feedback: str\n",
    "    clarity_feedback: str\n",
    "    overall_feedback: str\n",
    "    individual_scores: Annotated[list[int], operator.add]\n",
    "    avg_score: float"
   ],
   "id": "b6b9cc827c36f79",
   "outputs": [],
   "execution_count": 18
  },
  {
   "metadata": {
    "ExecuteTime": {
     "end_time": "2025-10-11T03:50:54.611093Z",
     "start_time": "2025-10-11T03:50:54.595556Z"
    }
   },
   "cell_type": "code",
   "source": [
    "def evaluate_language(state: EssayState):\n",
    "    prompt = f\"Evaluate the language quality of the following essay and provide a feedback and assign a score out of 10\\n {state['essay']}\"\n",
    "    output = structured_model.invoke(prompt)\n",
    "    return {\"language_feedback\": output.feedback, \"individual_scores\": [output.score]}"
   ],
   "id": "15000d1f2a244416",
   "outputs": [],
   "execution_count": 22
  },
  {
   "metadata": {
    "ExecuteTime": {
     "end_time": "2025-10-11T04:00:49.375102Z",
     "start_time": "2025-10-11T04:00:49.360955Z"
    }
   },
   "cell_type": "code",
   "source": [
    "def evaluate_analysis(state: EssayState):\n",
    "    prompt = f\"Evaluate the depth of analysis of the following essay and provide a feedback and assign a score out of 10\\n {state['essay']}\"\n",
    "    output = structured_model.invoke(prompt)\n",
    "    return {\"analysis_feedback\": output.feedback, \"individual_scores\": [output.score]}"
   ],
   "id": "98574781a540dd52",
   "outputs": [],
   "execution_count": 29
  },
  {
   "metadata": {
    "ExecuteTime": {
     "end_time": "2025-10-11T04:00:50.370217Z",
     "start_time": "2025-10-11T04:00:50.358223Z"
    }
   },
   "cell_type": "code",
   "source": [
    "def evaluate_thought(state: EssayState):\n",
    "    prompt = f\"Evaluate the clarity of thought of the following essay and provide a feedback and assign a score out of 10\\n {state['essay']}\"\n",
    "    output = structured_model.invoke(prompt)\n",
    "    return {\"clarity_feedback\": output.feedback, \"individual_scores\": [output.score]}"
   ],
   "id": "4502af21f9483766",
   "outputs": [],
   "execution_count": 30
  },
  {
   "metadata": {
    "ExecuteTime": {
     "end_time": "2025-10-11T04:00:51.555363Z",
     "start_time": "2025-10-11T04:00:51.541952Z"
    }
   },
   "cell_type": "code",
   "source": [
    "def final_evaluation(state: EssayState):\n",
    "    # summary feedback\n",
    "    prompt = f'Based on the following feedbacks create a summarized feedback \\n language feedback - {state[\"language_feedback\"]} \\n depth of analysis feedback - {state[\"analysis_feedback\"]} \\n clarity of thought feedback - {state[\"clarity_feedback\"]}'\n",
    "    overall_feedback = model.invoke(prompt).content\n",
    "\n",
    "    # avg calculate\n",
    "    avg_score = sum(state['individual_scores']) / len(state['individual_scores'])\n",
    "    return {\"overall_feedback\": overall_feedback, \"avg_score\": avg_score}"
   ],
   "id": "405c06fe79e8777b",
   "outputs": [],
   "execution_count": 31
  },
  {
   "metadata": {
    "ExecuteTime": {
     "end_time": "2025-10-11T04:00:53.115118Z",
     "start_time": "2025-10-11T04:00:53.046474Z"
    }
   },
   "cell_type": "code",
   "source": [
    "graph = StateGraph(EssayState)\n",
    "\n",
    "# add nodes\n",
    "graph.add_node(\"evaluate_language\", evaluate_language)\n",
    "graph.add_node(\"evaluate_analysis\", evaluate_analysis)\n",
    "graph.add_node(\"evaluate_thought\", evaluate_thought)\n",
    "graph.add_node(\"final_evaluation\", final_evaluation)\n",
    "\n",
    "# add edges\n",
    "graph.add_edge(START, \"evaluate_language\")\n",
    "graph.add_edge(START, \"evaluate_analysis\")\n",
    "graph.add_edge(START, \"evaluate_thought\")\n",
    "graph.add_edge(\"evaluate_language\", \"final_evaluation\")\n",
    "graph.add_edge(\"evaluate_analysis\", \"final_evaluation\")\n",
    "graph.add_edge(\"evaluate_thought\", \"final_evaluation\")\n",
    "graph.add_edge(\"final_evaluation\", END)\n",
    "\n",
    "# compile graph\n",
    "worlflow = graph.compile()\n",
    "\n",
    "worlflow"
   ],
   "id": "7397fb1eb3a58ff3",
   "outputs": [
    {
     "data": {
      "text/plain": [
       "<langgraph.graph.state.CompiledStateGraph object at 0x0000022C73A05DB0>"
      ],
      "image/png": "[encoded data removed]"
     },
     "execution_count": 32,
     "metadata": {},
     "output_type": "execute_result"
    }
   ],
   "execution_count": 32
  },
  {
   "metadata": {
    "ExecuteTime": {
     "end_time": "2025-10-11T04:02:33.094289Z",
     "start_time": "2025-10-11T04:00:55.849601Z"
    }
   },
   "cell_type": "code",
   "source": [
    "initial_state = {\"essay\":essay}\n",
    "\n",
    "final_state = worlflow.invoke(initial_state)\n",
    "\n",
    "final_state"
   ],
   "id": "c33f0ac48ddb6d86",
   "outputs": [
    {
     "data": {
      "text/plain": [
       "{'essay': \"India in the Age of AI\\nAs the world enters a transformative era defined by artificial intelligence (AI), India stands at a critical juncture — one where it can either emerge as a global leader in AI innovation or risk falling behind in the technology race. The age of AI brings with it immense promise as well as unprecedented challenges, and how India navigates this landscape will shape its socio-economic and geopolitical future.\\n\\nIndia's strengths in the AI domain are rooted in its vast pool of skilled engineers, a thriving IT industry, and a growing startup ecosystem. With over 5 million STEM graduates annually and a burgeoning base of AI researchers, India possesses the intellectual capital required to build cutting-edge AI systems. Institutions like IITs, IIITs, and IISc have begun fostering AI research, while private players such as TCS, Infosys, and Wipro are integrating AI into their global services. In 2020, the government launched the National AI Strategy (AI for All) with a focus on inclusive growth, aiming to leverage AI in healthcare, agriculture, education, and smart mobility.\\n\\nOne of the most promising applications of AI in India lies in agriculture, where predictive analytics can guide farmers on optimal sowing times, weather forecasts, and pest control. In healthcare, AI-powered diagnostics can help address India’s doctor-patient ratio crisis, particularly in rural areas. Educational platforms are increasingly using AI to personalize learning paths, while smart governance tools are helping improve public service delivery and fraud detection.\\n\\nHowever, the path to AI-led growth is riddled with challenges. Chief among them is the digital divide. While metropolitan cities may embrace AI-driven solutions, rural India continues to struggle with basic internet access and digital literacy. The risk of job displacement due to automation also looms large, especially for low-skilled workers. Without effective skilling and re-skilling programs, AI could exacerbate existing socio-economic inequalities.\\n\\nAnother pressing concern is data privacy and ethics. As AI systems rely heavily on vast datasets, ensuring that personal data is used transparently and responsibly becomes vital. India is still shaping its data protection laws, and in the absence of a strong regulatory framework, AI systems may risk misuse or bias.\\n\\nTo harness AI responsibly, India must adopt a multi-stakeholder approach involving the government, academia, industry, and civil society. Policies should promote open datasets, encourage responsible innovation, and ensure ethical AI practices. There is also a need for international collaboration, particularly with countries leading in AI research, to gain strategic advantage and ensure interoperability in global systems.\\n\\nIndia’s demographic dividend, when paired with responsible AI adoption, can unlock massive economic growth, improve governance, and uplift marginalized communities. But this vision will only materialize if AI is seen not merely as a tool for automation, but as an enabler of human-centered development.\\n\\nIn conclusion, India in the age of AI is a story in the making — one of opportunity, responsibility, and transformation. The decisions we make today will not just determine India’s AI trajectory, but also its future as an inclusive, equitable, and innovation-driven society.\",\n",
       " 'language_feedback': \"This is a very well-written and informative essay. It presents a balanced view of India's potential in the age of AI, acknowledging both the opportunities and the significant challenges. Here’s a breakdown of the strengths and areas for minor improvement:\\n\\n**Strengths:**\\n\\n* **Clear and Logical Structure:** The essay flows logically, starting with an introduction, outlining key strengths and challenges, and concluding with a thoughtful summary. The use of paragraphs is effective.\\n* **Comprehensive Coverage:** It touches upon several crucial aspects – the workforce, government initiatives (AI for All), specific applications in key sectors (agriculture, healthcare, education), and critical concerns like the digital divide and data privacy.\\n* **Balanced Perspective:** The essay avoids overly optimistic or pessimistic viewpoints, presenting a realistic assessment of India’s position and the hurdles it faces.\\n* **Strong Vocabulary & Tone:** The writing is clear, precise, and professional. The tone is confident and measured.\\n* **Relevant Examples:** The use of specific examples (IITs, TCS, Infosys, AI for All) strengthens the argument.\\n\\n**Areas for Minor Improvement:**\\n\\n* **Depth of Analysis:** While comprehensive, some sections could benefit from deeper analysis. For example, when discussing the digital divide, exploring the *specific* reasons for its persistence (e.g., infrastructure limitations, affordability, lack of local content) would strengthen the argument. Similarly, elaborating on the *types* of bias that could arise in AI systems and how to mitigate them would be beneficial.\\n* **Statistical Evidence:** Adding a few statistics (e.g., market size of AI in India, growth rate of the IT sector, percentage of internet users) would add weight to the claims.\\n* **Nuance in the Conclusion:** The conclusion is solid but could be slightly more provocative, perhaps suggesting a particular policy recommendation or highlighting a key question for future consideration. \\n\",\n",
       " 'analysis_feedback': \"This is a solid introductory essay exploring India’s position in the AI landscape. It demonstrates a decent understanding of the key issues – strengths, challenges, and potential pathways. Here’s a breakdown of what works well and areas for improvement:\\n\\n**Strengths:**\\n* **Clear Structure:** The essay follows a logical structure – introduction, outlining strengths, exploring applications, addressing challenges, and concluding. \\n* **Relevant Points:** It correctly identifies key strengths (skilled engineers, IT industry, startup ecosystem) and potential applications of AI in various sectors (agriculture, healthcare, education).\\n* **Identifies Key Challenges:** The essay accurately highlights critical challenges such as the digital divide, job displacement, data privacy concerns, and the need for ethical considerations.\\n* **Balanced Perspective:**  It attempts to present a balanced view, acknowledging both the opportunities and risks associated with AI.\\n* **Concluding Thought:** The concluding paragraph effectively summarizes the main points and emphasizes the importance of responsible AI adoption.\\n\\n**Areas for Improvement:**\\n* **Depth of Analysis:** While the essay identifies the issues, it lacks a truly *deep* analysis. For example, when discussing the digital divide, it could delve deeper into *why* it exists and the specific socio-economic factors contributing to it. Similarly, the discussion of job displacement could explore specific industries most vulnerable and potential mitigation strategies beyond just ‘skilling programs’.\\n* **Specific Examples:** The essay would benefit from more specific examples. Instead of stating ‘AI-powered diagnostics can help address India’s doctor-patient ratio crisis,’ it could cite a specific AI diagnostic tool currently being used in India or a pilot program. Mentioning specific companies and their AI initiatives would also strengthen the analysis.\\n* **Nuance and Critical Thinking:** The essay tends to present points somewhat superficially.  For example, the discussion of ‘responsible innovation’ needs further unpacking. What does ‘responsible’ actually *mean* in the context of Indian development?  Exploring different ethical frameworks or potential conflicts between economic growth and social equity would add depth.\\n* **Lack of Research:** The essay reads more like a synthesis of readily available information rather than a deeply researched analysis. Adding citations to reports, studies, or government documents would substantially increase its credibility.\\n\\n**Suggested Improvements:**\\n* **Expand on the ‘why’ behind the challenges.**  Don’t just state the problems; explore their root causes.\\n* **Provide concrete examples and case studies.**\\n* **Introduce a more critical perspective – challenge assumptions and explore different viewpoints.**\\n* **Include a brief mention of the Indian government's current policies beyond just the ‘AI for All’ strategy.**\\n\\n\",\n",
       " 'clarity_feedback': \"This essay presents a solid and well-structured overview of India's potential in the age of AI. The clarity of thought is quite good; it’s logically organized with an introduction, body paragraphs exploring strengths and challenges, and a concluding summary. The arguments are generally well-supported with specific examples (IITs, AI for All, agriculture, healthcare). \\n\\nHowever, there's room for more depth and critical analysis. While it identifies key challenges (digital divide, data privacy), it doesn’t delve deeply into the *why* behind them. For example, expanding on the reasons for the digital divide beyond just ‘lack of access’ would strengthen the argument. Similarly, the discussion of data privacy feels somewhat superficial given the increasing urgency of the issue. \\n\\nFurthermore, the essay leans heavily on optimistic assertions – ‘massive economic growth’, ‘uplift marginalized communities’ – without fully acknowledging the potential downsides of AI’s impact. Adding a brief discussion of potential negative consequences alongside the positive ones would demonstrate a more nuanced understanding. \\n\\nFinally, the conclusion is a bit generic. It restates the key points but doesn’t offer a particularly memorable takeaway. \\n\\n**Suggestions for Improvement:**\\n*   **Add Depth:** Provide more detailed explanations for the challenges. Why is the digital divide so significant in India? What specific biases might arise in AI systems?\\n*   **Introduce Nuance:** Acknowledge potential negative consequences alongside the opportunities.\\n*   **Strengthen the Conclusion:** Offer a more insightful and memorable closing statement.\\n\",\n",
       " 'overall_feedback': \"Okay, here’s a summarized feedback report combining the insights from all three pieces of feedback:\\n\\n**Overall Summary:**\\n\\nThis is a strong introductory essay examining India’s position in the age of AI. It demonstrates a solid understanding of key strengths, challenges, and potential applications. However, the essay could benefit significantly from greater depth of analysis, specific examples, and a more critical perspective. It currently relies too heavily on assertions without sufficient supporting evidence or exploration of underlying complexities.\\n\\n**Strengths:**\\n\\n*   **Clear Structure & Organization:** The essay follows a logical flow with a clear introduction, body paragraphs addressing strengths and challenges, and a conclusion.\\n*   **Relevant Points Identified:** It accurately highlights key aspects of India’s AI landscape, including strengths (skilled workforce, IT industry, startup ecosystem), applications (agriculture, healthcare, education), and challenges (digital divide, data privacy, job displacement).\\n*   **Balanced Perspective (Partially):** The essay attempts to present both opportunities and risks, although this could be strengthened.\\n\\n\\n**Areas for Improvement (Detailed):**\\n\\n1.  **Depth of Analysis – The Core Issue:**  The primary feedback centers around a need for *why* analysis. Don't just state the problems (e.g., the digital divide); investigate their root causes. This includes:\\n    *   **Digital Divide:** Explore the specific factors contributing to it – infrastructure limitations, affordability, lack of localized content, regional disparities.\\n    *   **Job Displacement:** Go beyond general statements; identify industries most vulnerable and discuss potential mitigation strategies (beyond just “skilling”).\\n    *   **Data Privacy:**  The discussion needs greater depth. Address the growing urgency of this issue and potential regulatory frameworks.\\n\\n2.  **Lack of Specific Examples & Evidence:**  The essay needs more concrete illustrations.\\n    *   **Case Studies:**  Instead of broad statements about AI in healthcare, cite specific AI diagnostic tools being used in India or ongoing pilot programs.\\n    *   **Company Examples:**  Mention specific companies and their AI initiatives (beyond just IITs, TCS, Infosys, and AI for All).\\n    *   **Data/Statistics:**  Integrate relevant statistics—market size of AI in India, growth rate of the IT sector, internet user penetration rates, etc. to add weight to your claims.\\n\\n3. **Critical Thinking & Nuance:** The essay needs a more critical perspective.\\n    *   **Challenge Assumptions:** Don’t simply accept the optimistic narrative of “massive economic growth” or “uplift marginalized communities.”  Consider potential downsides and alternative viewpoints.\\n    *   **Ethical Frameworks:**  Explore different ethical frameworks related to AI development and deployment – particularly in the context of Indian development and potential conflicts between economic growth and social equity.\\n\\n4. **Weak Conclusion:**  The conclusion is currently too generic. It needs a more memorable takeaway – perhaps a provocative question or a specific recommendation.\\n\\n\\n\\n**Recommendations (Actionable Steps):**\\n\\n*   **Research:** Conduct deeper research into the specific challenges and opportunities related to AI in India.\\n*   **Expand Explanations:**  Add more context and explanation to your arguments.\\n*   **Add Evidence:**  Support your claims with data, statistics, and specific examples.\\n*   **Refine Perspective:**  Develop a more critical and nuanced understanding of the issues.\\n\\n\\n\\nWould you like me to elaborate on any specific area of this feedback, or perhaps generate a revised outline incorporating these suggestions?\",\n",
       " 'individual_scores': [7, 8, 7],\n",
       " 'avg_score': 7.333333333333333}"
      ]
     },
     "execution_count": 33,
     "metadata": {},
     "output_type": "execute_result"
    }
   ],
   "execution_count": 33
  },
  {
   "metadata": {
    "ExecuteTime": {
     "end_time": "2025-10-11T04:03:29.037793Z",
     "start_time": "2025-10-11T04:03:29.029791Z"
    }
   },
   "cell_type": "code",
   "source": [
    "essay2 = \"\"\"India and AI Time\n",
    "\n",
    "Now world change very fast because new tech call Artificial Intel… something (AI). India also want become big in this AI thing. If work hard, India can go top. But if no careful, India go back.\n",
    "\n",
    "India have many good. We have smart student, many engine-ear, and good IT peoples. Big company like TCS, Infosys, Wipro already use AI. Government also do program “AI for All”. It want AI in farm, doctor place, school and transport.\n",
    "\n",
    "In farm, AI help farmer know when to put seed, when rain come, how stop bug. In health, AI help doctor see sick early. In school, AI help student learn good. Government office use AI to find bad people and work fast.\n",
    "\n",
    "But problem come also. First is many villager no have phone or internet. So AI not help them. Second, many people lose job because AI and machine do work. Poor people get more bad.\n",
    "\n",
    "One more big problem is privacy. AI need big big data. Who take care? India still make data rule. If no strong rule, AI do bad.\n",
    "\n",
    "India must all people together – govern, school, company and normal people. We teach AI and make sure AI not bad. Also talk to other country and learn from them.\n",
    "\n",
    "If India use AI good way, we become strong, help poor and make better life. But if only rich use AI, and poor no get, then big bad thing happen.\n",
    "\n",
    "So, in short, AI time in India have many hope and many danger. We must go right road. AI must help all people, not only some. Then India grow big and world say \"good job India\".\"\"\""
   ],
   "id": "24fe8fd0915964f1",
   "outputs": [],
   "execution_count": 34
  },
  {
   "metadata": {
    "ExecuteTime": {
     "end_time": "2025-10-11T04:05:23.910810Z",
     "start_time": "2025-10-11T04:03:46.078285Z"
    }
   },
   "cell_type": "code",
   "source": [
    "initial_state = {\"essay\":essay2}\n",
    "\n",
    "final_state = worlflow.invoke(initial_state)\n",
    "\n",
    "final_state"
   ],
   "id": "4122a8060ac7159e",
   "outputs": [
    {
     "data": {
      "text/plain": [
       "{'essay': 'India and AI Time\\n\\nNow world change very fast because new tech call Artificial Intel… something (AI). India also want become big in this AI thing. If work hard, India can go top. But if no careful, India go back.\\n\\nIndia have many good. We have smart student, many engine-ear, and good IT peoples. Big company like TCS, Infosys, Wipro already use AI. Government also do program “AI for All”. It want AI in farm, doctor place, school and transport.\\n\\nIn farm, AI help farmer know when to put seed, when rain come, how stop bug. In health, AI help doctor see sick early. In school, AI help student learn good. Government office use AI to find bad people and work fast.\\n\\nBut problem come also. First is many villager no have phone or internet. So AI not help them. Second, many people lose job because AI and machine do work. Poor people get more bad.\\n\\nOne more big problem is privacy. AI need big big data. Who take care? India still make data rule. If no strong rule, AI do bad.\\n\\nIndia must all people together – govern, school, company and normal people. We teach AI and make sure AI not bad. Also talk to other country and learn from them.\\n\\nIf India use AI good way, we become strong, help poor and make better life. But if only rich use AI, and poor no get, then big bad thing happen.\\n\\nSo, in short, AI time in India have many hope and many danger. We must go right road. AI must help all people, not only some. Then India grow big and world say \"good job India\".',\n",
       " 'language_feedback': \"This essay demonstrates a basic understanding of the potential impact of AI on India, but it suffers from several weaknesses in language quality and structure. Here's a breakdown:\\n\\n**Strengths:**\\n* **Clear Topic:** The essay clearly identifies the central theme - India's role in the development and utilization of AI.\\n* **Identifies Key Aspects:** It touches upon important considerations like the potential benefits (smart students, IT sector), applications in various sectors (farming, healthcare, education), and potential challenges (digital divide, job displacement, privacy).\\n* **Simple and Accessible:** The language is straightforward and easy to understand for a broad audience.\\n\\n**Weaknesses:**\\n* **Grammar and Syntax:** There are numerous grammatical errors and awkward sentence structures. Examples include incorrect verb tenses, misplaced modifiers, and fragmented sentences.  ‘Artificial Intel… something (AI)’ needs serious revision.\\n* **Repetitive Language:** Phrases like ‘good job’ and ‘big bad thing’ are overused and sound simplistic.\\n* **Lack of Detail and Development:** While the essay identifies many points, it doesn't delve into them deeply.  For example, the discussion of AI in farming is very brief.  The discussion of data privacy is equally superficial.\\n* **Structure and Flow:** The essay feels somewhat disjointed. The transitions between ideas are weak, and the overall flow could be improved.\\n* **Tone:** The tone is overly simplistic and occasionally dramatic (e.g., ‘big bad thing’).\\n\\n**Recommendations for Improvement:**\\n* **Proofread Carefully:**  The most immediate step is to thoroughly proofread and correct all grammatical and spelling errors.\\n* **Expand and Elaborate:**  Develop each point with more specific details and examples.  Research and incorporate facts or statistics to support your arguments.\\n* **Improve Sentence Structure:**  Focus on writing clear, concise, and grammatically correct sentences. Vary sentence length and structure for better flow.\\n* **Stronger Transitions:** Use transitional words and phrases to connect ideas smoothly.\\n* **Refine Tone:** Aim for a more objective and nuanced tone.\\n\\n**Overall, this essay shows potential, but significant revision is needed to elevate its quality.**\",\n",
       " 'analysis_feedback': \"This essay offers a basic introduction to India’s engagement with AI, touching upon key aspects like opportunities, challenges, and potential pitfalls. However, it lacks depth and nuance. Here’s a breakdown of the feedback:\\n\\n**Strengths:**\\n* **Identifies Key Areas:** The essay correctly identifies several important points: India’s strengths (skilled workforce, IT companies), potential applications of AI (agriculture, healthcare, education, governance), and significant challenges (digital divide, job displacement, privacy).\\n* **Clear and Accessible Language:** The writing is simple and easy to understand, making it accessible to a broad audience.\\n* **Highlights Potential Risks:** It appropriately raises concerns about the potential for exacerbating inequality and the importance of data privacy.\\n\\n**Weaknesses:**\\n* **Superficial Analysis:** The essay primarily presents observations rather than in-depth analysis. It states facts but doesn't explore *why* these things are happening or the complexities involved. For example, it mentions the digital divide but doesn’t delve into the specific reasons behind it, the systemic issues driving it, or potential solutions beyond just stating it exists.\\n* **Lack of Evidence/Examples:** The essay makes several assertions without providing supporting evidence or concrete examples.  “Many engineers” is a vague statement. Mentioning specific AI projects, government initiatives with measurable outcomes, or statistics would strengthen the arguments.\\n* **Simplified Narrative:** The “hope and danger” framing is overly simplistic. The relationship between AI and societal development is far more complex, involving ethical considerations, regulatory frameworks, and the potential for unforeseen consequences.\\n* **Limited Discussion of Global Context:** While it mentions talking to other countries, it doesn't explore India’s position within the global AI landscape, competitive advantages, or the lessons learned from other nations’ experiences.\\n* **Concluding Paragraph is Weak:** The conclusion reiterates points already made without offering a compelling call to action or a nuanced vision for India’s AI future.\\n\\n**Recommendations for Improvement:**\\n* **Research and Evidence:** Incorporate statistics, case studies, and examples of AI projects in India. Cite sources to strengthen arguments.\\n* **Explore Underlying Causes:** Go beyond stating problems; analyze *why* they exist (e.g., why is the digital divide so persistent?).\\n* **Address Nuances:** Acknowledge the complexities of AI’s impact—it’s not simply “good” or “bad.”\\n* **Expand on Ethical Considerations:**  Discuss potential biases in AI algorithms, responsible AI development, and the need for human oversight.\\n* **Develop a Stronger Conclusion:**  Offer a more visionary and strategic conclusion that outlines specific steps India can take to successfully navigate the AI revolution.\",\n",
       " 'clarity_feedback': \"This essay demonstrates a basic understanding of the potential and challenges of AI in India, but it suffers from significant weaknesses in clarity, structure, and development of ideas. Here's a breakdown:\\n\\n**Strengths:**\\n* **Identifies Key Issues:** The essay correctly identifies several important considerations regarding AI in India – digital divide, job displacement, privacy concerns, and the need for a national approach.\\n* **Provides Examples:**  The use of specific examples like AI in farming, healthcare, and government illustrates the potential applications.\\n* **Clear Thesis (Sort Of):** The central argument – that India’s success with AI hinges on equitable distribution and careful regulation – is present.\\n\\n**Weaknesses:**\\n* **Lack of Structure & Development:** The essay reads like a series of loosely connected observations rather than a cohesive argument. There’s no clear introduction, body paragraphs with distinct points, or a strong conclusion.\\n* **Vague Language & Overly Simplistic:** Phrases like \",\n",
       " 'overall_feedback': 'Okay, here’s a summarized feedback report combining the insights from all three feedback pieces:\\n\\n**Overall Summary:**\\n\\nThis essay demonstrates a foundational understanding of India’s engagement with Artificial Intelligence, identifying key opportunities, challenges, and potential concerns. However, it requires significant revision to elevate its quality and deliver a more sophisticated and persuasive analysis. The primary issues are related to clarity, structure, depth of analysis, and language quality.\\n\\n**Key Strengths:**\\n\\n*   **Identifies Relevant Issues:** The essay correctly highlights core considerations like the digital divide, job displacement, data privacy, and the need for a strategic national approach to AI.\\n*   **Recognizes Potential Applications:** It accurately identifies areas where AI could have an impact (agriculture, healthcare, government, etc.).\\n*   **Basic Thesis Present:** The core argument—that equitable distribution and careful regulation are vital to India’s success with AI—is established.\\n\\n**Major Weaknesses (Categorized):**\\n\\n1.  **Language & Structure:**\\n    *   **Significant Grammatical Issues:**  Numerous errors in grammar and syntax need to be addressed immediately.\\n    *   **Repetitive & Simplistic Language:** The use of overly simplistic phrases (“big bad thing,” “good job”) and repetitive language detracts from the analysis.\\n    *   **Disorganized Structure:** The essay lacks a clear structure – no introduction, body paragraphs with distinct points, or a concluding paragraph. Ideas feel loosely connected.\\n    *   **Weak Transitions:** Transitions between ideas are weak, creating a disjointed reading experience.\\n\\n2.  **Depth of Analysis:**\\n    *   **Superficial Observations:** The essay primarily presents observations without engaging in critical analysis or exploring *why* things are happening. It needs to move beyond simply stating facts.\\n    *   **Lack of Evidence/Examples:**  Assertions are often unsupported by evidence or concrete examples.  It needs to incorporate case studies, statistics, and measurable outcomes.\\n    *   **Oversimplified Narrative:** The \"hope and danger\" framing is overly simplistic. The AI-society relationship is complex and requires nuanced discussion.\\n    *   **Limited Global Context:** The essay misses opportunities to contextualize India\\'s position within the global AI landscape.\\n\\n3.  **Clarity of Thought:**\\n    *   **Vague Language:** Over-reliance on imprecise language creates ambiguity.\\n    *   **Lack of Development:** Ideas are not fully developed, leaving the reader wanting more.\\n\\n**Recommendations for Improvement (Condensed):**\\n\\n*   **Prioritize Revision of Language:** Focus on correcting grammatical errors, replacing simplistic phrasing, and ensuring clear, concise writing.\\n*   **Develop a Structured Argument:** Create a clear introduction, body paragraphs with focused points, and a strong conclusion.\\n*   **Add Depth & Evidence:** Incorporate specific examples, statistics, case studies, and research to support arguments and demonstrate deeper analysis.\\n*   **Consider the Bigger Picture:**  Contextualize India’s AI journey within the global landscape.\\n*   **Engage with Nuance:**  Acknowledge the complex ethical, regulatory, and societal considerations surrounding AI.\\n\\n---\\n\\nWould you like me to elaborate on any specific aspect of this summary, or perhaps focus on generating a revised outline based on these feedback points?',\n",
       " 'individual_scores': [6, 5, 5],\n",
       " 'avg_score': 5.333333333333333}"
      ]
     },
     "execution_count": 35,
     "metadata": {},
     "output_type": "execute_result"
    }
   ],
   "execution_count": 35
  }
 ],
 "metadata": {
  "kernelspec": {
   "display_name": "Python 3",
   "language": "python",
   "name": "python3"
  },
  "language_info": {
   "codemirror_mode": {
    "name": "ipython",
    "version": 2
   },
   "file_extension": ".py",
   "mimetype": "text/x-python",
   "name": "python",
   "nbconvert_exporter": "python",
   "pygments_lexer": "ipython2",
   "version": "2.7.6"
  }
 },
 "nbformat": 4,
 "nbformat_minor": 5
}
