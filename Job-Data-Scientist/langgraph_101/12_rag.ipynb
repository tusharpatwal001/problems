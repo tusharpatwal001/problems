{
 "cells": [
  {
   "cell_type": "code",
   "id": "initial_id",
   "metadata": {
    "collapsed": true,
    "ExecuteTime": {
     "end_time": "2025-10-14T04:27:35.717161Z",
     "start_time": "2025-10-14T04:27:35.703679Z"
    }
   },
   "source": [
    "from langchain_core.prompts import PromptTemplate\n",
    "from langchain_ollama import ChatOllama, OllamaEmbeddings\n",
    "from langchain.vectorstores import Chroma\n",
    "from langchain.document_loaders import TextLoader\n",
    "from langchain.text_splitter import RecursiveCharacterTextSplitter"
   ],
   "outputs": [],
   "execution_count": 35
  },
  {
   "metadata": {
    "ExecuteTime": {
     "end_time": "2025-10-14T04:23:38.887748Z",
     "start_time": "2025-10-14T04:23:38.880748Z"
    }
   },
   "cell_type": "code",
   "source": [
    "loader = TextLoader(\"sample.txt\", encoding=\"utf-8\")\n",
    "docs = loader.load()"
   ],
   "id": "c80dbf25e19603cc",
   "outputs": [],
   "execution_count": 24
  },
  {
   "metadata": {
    "ExecuteTime": {
     "end_time": "2025-10-14T04:23:39.110770Z",
     "start_time": "2025-10-14T04:23:39.104772Z"
    }
   },
   "cell_type": "code",
   "source": [
    "splitter = RecursiveCharacterTextSplitter(chunk_size=300, chunk_overlap=60)\n",
    "chunks = splitter.split_documents(docs)"
   ],
   "id": "36da15ebc622337c",
   "outputs": [],
   "execution_count": 25
  },
  {
   "metadata": {
    "ExecuteTime": {
     "end_time": "2025-10-14T04:23:41.092716Z",
     "start_time": "2025-10-14T04:23:39.313113Z"
    }
   },
   "cell_type": "code",
   "source": [
    "embeddings = OllamaEmbeddings(model=\"embeddinggemma:latest\")\n",
    "vector_db = Chroma.from_documents(documents=chunks, embedding=embeddings)\n",
    "retriever = vector_db.as_retriever()"
   ],
   "id": "c4192b57da1f88a",
   "outputs": [],
   "execution_count": 26
  },
  {
   "metadata": {
    "ExecuteTime": {
     "end_time": "2025-10-14T04:25:22.327690Z",
     "start_time": "2025-10-14T04:25:22.299418Z"
    }
   },
   "cell_type": "code",
   "source": [
    "prompt = PromptTemplate.from_template(\"\"\"Here is the context of the document: {context}\\n\n",
    "You are a question answering agent, answer the following question: {question}\n",
    "\"\"\")\n",
    "llm = ChatOllama(model=\"gemma3:4b\")"
   ],
   "id": "a3b12f8feedef070",
   "outputs": [],
   "execution_count": 30
  },
  {
   "metadata": {
    "ExecuteTime": {
     "end_time": "2025-10-14T04:26:22.420701Z",
     "start_time": "2025-10-14T04:26:22.415703Z"
    }
   },
   "cell_type": "code",
   "source": [
    "from langchain_core.runnables import RunnablePassthrough\n",
    "\n",
    "chain = {\"context\": retriever, \"question\": RunnablePassthrough()} | prompt | llm"
   ],
   "id": "e3cf48848473bb99",
   "outputs": [],
   "execution_count": 33
  },
  {
   "metadata": {
    "ExecuteTime": {
     "end_time": "2025-10-14T04:26:58.416442Z",
     "start_time": "2025-10-14T04:26:46.131532Z"
    }
   },
   "cell_type": "code",
   "source": "chain.invoke(\"Summarize the document\")",
   "id": "96c0f8f65ad71505",
   "outputs": [
    {
     "data": {
      "text/plain": [
       "AIMessage(content='The document advises against using biting words and emphasizes controlling what you reveal to others. It suggests that revealing too little through short answers and silence will frustrate others, causing them to fill the silence with unwanted comments and reveal their own intentions.', additional_kwargs={}, response_metadata={'model': 'gemma3:4b', 'created_at': '2025-10-14T04:26:58.4090668Z', 'done': True, 'done_reason': 'stop', 'total_duration': 12068232000, 'load_duration': 10749997600, 'prompt_eval_count': 248, 'prompt_eval_duration': 297984000, 'eval_count': 47, 'eval_duration': 961909000, 'model_name': 'gemma3:4b'}, id='run--4d1da02a-73b7-4545-a4f9-40e5250835fc-0', usage_metadata={'input_tokens': 248, 'output_tokens': 47, 'total_tokens': 295})"
      ]
     },
     "execution_count": 34,
     "metadata": {},
     "output_type": "execute_result"
    }
   ],
   "execution_count": 34
  },
  {
   "metadata": {},
   "cell_type": "code",
   "outputs": [],
   "execution_count": null,
   "source": "",
   "id": "247bdee47423441a"
  }
 ],
 "metadata": {
  "kernelspec": {
   "display_name": "Python 3",
   "language": "python",
   "name": "python3"
  },
  "language_info": {
   "codemirror_mode": {
    "name": "ipython",
    "version": 2
   },
   "file_extension": ".py",
   "mimetype": "text/x-python",
   "name": "python",
   "nbconvert_exporter": "python",
   "pygments_lexer": "ipython2",
   "version": "2.7.6"
  }
 },
 "nbformat": 4,
 "nbformat_minor": 5
}
