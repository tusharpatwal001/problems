{
 "cells": [
  {
   "cell_type": "code",
   "id": "initial_id",
   "metadata": {
    "collapsed": true,
    "ExecuteTime": {
     "end_time": "2025-10-11T05:51:57.282934Z",
     "start_time": "2025-10-11T05:51:57.265936Z"
    }
   },
   "source": [
    "from langgraph.graph import StateGraph, START, END\n",
    "from langchain_ollama import ChatOllama\n",
    "from pydantic import BaseModel, Field\n",
    "from typing import TypedDict, Literal"
   ],
   "outputs": [],
   "execution_count": 44
  },
  {
   "metadata": {
    "ExecuteTime": {
     "end_time": "2025-10-11T05:51:57.533508Z",
     "start_time": "2025-10-11T05:51:57.510995Z"
    }
   },
   "cell_type": "code",
   "source": "model = ChatOllama(model='gemma3:4b')",
   "id": "ac4954ae7cb714d3",
   "outputs": [],
   "execution_count": 45
  },
  {
   "metadata": {
    "ExecuteTime": {
     "end_time": "2025-10-11T05:51:57.969608Z",
     "start_time": "2025-10-11T05:51:57.960432Z"
    }
   },
   "cell_type": "code",
   "source": [
    "class SentimentSchema(BaseModel):\n",
    "    sentiment: Literal['positive', 'negative'] = Field(description='The sentiment of the review')"
   ],
   "id": "d72abbebebdd30b7",
   "outputs": [],
   "execution_count": 46
  },
  {
   "metadata": {
    "ExecuteTime": {
     "end_time": "2025-10-11T05:51:58.234217Z",
     "start_time": "2025-10-11T05:51:58.217275Z"
    }
   },
   "cell_type": "code",
   "source": [
    "class DiagnosisSchema(BaseModel):\n",
    "    issue_type: Literal[\"UX\", \"Performance\", \"Bug\", \"Support\", \"Other\"] = Field(\n",
    "        description='The category of issue mentioned in the review')\n",
    "    tone: Literal[\"angry\", \"frustrated\", \"disappointed\", \"calm\"] = Field(\n",
    "        description='The emotional tone expressed by the user')\n",
    "    urgency: Literal[\"low\", \"medium\", \"high\"] = Field(description='How urgent or critical the issue appears to be')"
   ],
   "id": "f845e5f9390bb6b8",
   "outputs": [],
   "execution_count": 47
  },
  {
   "metadata": {
    "ExecuteTime": {
     "end_time": "2025-10-11T05:51:58.608466Z",
     "start_time": "2025-10-11T05:51:58.593836Z"
    }
   },
   "cell_type": "code",
   "source": [
    "structured_model1 = model.with_structured_output(SentimentSchema)\n",
    "structured_model2 = model.with_structured_output(DiagnosisSchema)"
   ],
   "id": "de92e8d217ad0cb9",
   "outputs": [],
   "execution_count": 48
  },
  {
   "metadata": {
    "ExecuteTime": {
     "end_time": "2025-10-11T05:51:58.843141Z",
     "start_time": "2025-10-11T05:51:58.841142Z"
    }
   },
   "cell_type": "code",
   "source": [
    "# # test case\n",
    "# prompt = \"Best laptop to go with under this amount Best machine built by apple\"\n",
    "# response = structured_model.invoke(prompt)\n",
    "# response"
   ],
   "id": "d32f901eea5aa158",
   "outputs": [],
   "execution_count": 49
  },
  {
   "metadata": {
    "ExecuteTime": {
     "end_time": "2025-10-11T05:51:59.047308Z",
     "start_time": "2025-10-11T05:51:59.040203Z"
    }
   },
   "cell_type": "code",
   "source": [
    "class ReviewState(TypedDict):\n",
    "    review: str\n",
    "    sentiment: Literal[\"positive\", \"negative\"]\n",
    "    diagnosis: dict\n",
    "    response: str"
   ],
   "id": "a998e6d948fb2235",
   "outputs": [],
   "execution_count": 50
  },
  {
   "metadata": {
    "ExecuteTime": {
     "end_time": "2025-10-11T05:51:59.251244Z",
     "start_time": "2025-10-11T05:51:59.241200Z"
    }
   },
   "cell_type": "code",
   "source": [
    "def find_sentiment(state: ReviewState):\n",
    "    prompt = f\"For the following review find out the sentiment \\n{state['review']}\"\n",
    "    sentiment = structured_model1.invoke(prompt).sentiment\n",
    "    return {\"sentiment\": sentiment}"
   ],
   "id": "816f438d7116f0d2",
   "outputs": [],
   "execution_count": 51
  },
  {
   "metadata": {
    "ExecuteTime": {
     "end_time": "2025-10-11T05:51:59.438753Z",
     "start_time": "2025-10-11T05:51:59.424469Z"
    }
   },
   "cell_type": "code",
   "source": [
    "def check_sentiment(state: ReviewState) -> Literal['positive_response', 'run_diagnosis']:\n",
    "    if state['sentiment'] == 'positive':\n",
    "        return 'positive_response'\n",
    "    else:\n",
    "        return 'run_diagnosis'"
   ],
   "id": "5bb36889fa844363",
   "outputs": [],
   "execution_count": 52
  },
  {
   "metadata": {
    "ExecuteTime": {
     "end_time": "2025-10-11T05:51:59.657462Z",
     "start_time": "2025-10-11T05:51:59.641101Z"
    }
   },
   "cell_type": "code",
   "source": [
    "def positive_response(state: ReviewState):\n",
    "    prompt = f\"\"\"Write a warm thank you message in response to this review: \\n\\n\\ {state['review']}n\\\n",
    "Also, Kindly ask the user to leave feedback on our website.\"\"\"\n",
    "    response = model.invoke(prompt).content\n",
    "    return {\"response\": response}"
   ],
   "id": "68b6de720687bb2a",
   "outputs": [],
   "execution_count": 53
  },
  {
   "metadata": {
    "ExecuteTime": {
     "end_time": "2025-10-11T05:51:59.811919Z",
     "start_time": "2025-10-11T05:51:59.808917Z"
    }
   },
   "cell_type": "code",
   "source": [
    "def run_diagnosis(state: ReviewState):\n",
    "    prompt = f\"\"\"Diagnose this negative review:\\n\\n\\{state['review']}n\\\n",
    "Return issue_type, tone, urgency.\"\"\"\n",
    "\n",
    "    response = structured_model2.invoke(prompt)\n",
    "    return {\"diagnosis\": response.model_dump()}"
   ],
   "id": "b0b2411183e84930",
   "outputs": [],
   "execution_count": 54
  },
  {
   "metadata": {
    "ExecuteTime": {
     "end_time": "2025-10-11T05:52:00.015345Z",
     "start_time": "2025-10-11T05:52:00.010346Z"
    }
   },
   "cell_type": "code",
   "source": [
    "def negative_response(state: ReviewState):\n",
    "    diagnosis = state['diagnosis']\n",
    "\n",
    "    prompt = f\"\"\"You are a support assistant.\n",
    "The user had a '{diagnosis['issue_type']}' issue, sounded '{diagnosis['tone']}', and marked urgency as '{diagnosis['urgency']}'.\n",
    "Write an empathetic, helpful resolution message.\n",
    "\"\"\"\n",
    "    response = model.invoke(prompt).content\n",
    "\n",
    "    return {'response': response}"
   ],
   "id": "d41b0016f2ef018a",
   "outputs": [],
   "execution_count": 55
  },
  {
   "metadata": {
    "ExecuteTime": {
     "end_time": "2025-10-11T05:52:00.263975Z",
     "start_time": "2025-10-11T05:52:00.203134Z"
    }
   },
   "cell_type": "code",
   "source": [
    "graph = StateGraph(ReviewState)\n",
    "\n",
    "graph.add_node(\"find_sentiment\", find_sentiment)\n",
    "graph.add_node(\"positive_response\", positive_response)\n",
    "graph.add_node(\"run_diagnosis\", run_diagnosis)\n",
    "graph.add_node(\"negative_response\", negative_response)\n",
    "\n",
    "graph.add_edge(START, \"find_sentiment\")\n",
    "graph.add_conditional_edges(\"find_sentiment\", check_sentiment)\n",
    "\n",
    "graph.add_edge(\"positive_response\", END)\n",
    "\n",
    "graph.add_edge(\"run_diagnosis\", \"negative_response\")\n",
    "graph.add_edge(\"negative_response\", END)\n",
    "\n",
    "# compile graph\n",
    "workflow = graph.compile()\n",
    "\n",
    "workflow"
   ],
   "id": "bc8458b11b56bef0",
   "outputs": [
    {
     "data": {
      "text/plain": [
       "<langgraph.graph.state.CompiledStateGraph object at 0x000001F646794C40>"
      ],
      "image/png": "[encoded data removed]"
     },
     "execution_count": 56,
     "metadata": {},
     "output_type": "execute_result"
    }
   ],
   "execution_count": 56
  },
  {
   "metadata": {
    "jupyter": {
     "is_executing": true
    },
    "ExecuteTime": {
     "start_time": "2025-10-11T05:52:00.402184Z"
    }
   },
   "cell_type": "code",
   "source": [
    "initial_state = {\"review\": \"I’ve been trying to log in for over an hour now, and the app keeps freezing on the authentication screen. I even tried reinstalling it, but no luck. This kind of bug is unacceptable, especially when it affects basic functionality.\"\n",
    "}\n",
    "\n",
    "final_state = workflow.invoke(initial_state)\n",
    "\n",
    "final_state"
   ],
   "id": "ccadaf19ec8ee743",
   "outputs": [],
   "execution_count": null
  },
  {
   "metadata": {},
   "cell_type": "code",
   "outputs": [],
   "execution_count": null,
   "source": "",
   "id": "eb9eeb90f07abded"
  }
 ],
 "metadata": {
  "kernelspec": {
   "display_name": "Python 3",
   "language": "python",
   "name": "python3"
  },
  "language_info": {
   "codemirror_mode": {
    "name": "ipython",
    "version": 2
   },
   "file_extension": ".py",
   "mimetype": "text/x-python",
   "name": "python",
   "nbconvert_exporter": "python",
   "pygments_lexer": "ipython2",
   "version": "2.7.6"
  }
 },
 "nbformat": 4,
 "nbformat_minor": 5
}
