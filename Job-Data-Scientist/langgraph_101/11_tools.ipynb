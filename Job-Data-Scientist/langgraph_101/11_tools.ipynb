{
 "cells": [
  {
   "cell_type": "code",
   "id": "initial_id",
   "metadata": {
    "collapsed": true,
    "ExecuteTime": {
     "end_time": "2025-10-14T03:53:34.370930Z",
     "start_time": "2025-10-14T03:53:34.357911Z"
    }
   },
   "source": [
    "from langgraph.graph import StateGraph, START, END\n",
    "from typing import TypedDict, Annotated\n",
    "from langgraph.graph.message import add_messages\n",
    "from langchain_core.messages import BaseMessage, HumanMessage\n",
    "from langchain_ollama import ChatOllama\n",
    "from langgraph.checkpoint.memory import InMemorySaver\n",
    "from langchain_community.tools import DuckDuckGoSearchRun\n",
    "from langgraph.prebuilt import ToolNode, tools_condition\n",
    "from langchain_core.tools import tool"
   ],
   "outputs": [],
   "execution_count": 17
  },
  {
   "metadata": {
    "ExecuteTime": {
     "end_time": "2025-10-14T03:53:34.621813Z",
     "start_time": "2025-10-14T03:53:34.589001Z"
    }
   },
   "cell_type": "code",
   "source": "llm = ChatOllama(model=\"qwen3:8b\")",
   "id": "e9f58cfb387257c0",
   "outputs": [],
   "execution_count": 18
  },
  {
   "metadata": {
    "ExecuteTime": {
     "end_time": "2025-10-14T03:53:34.938006Z",
     "start_time": "2025-10-14T03:53:34.928007Z"
    }
   },
   "cell_type": "code",
   "source": [
    "# tools\n",
    "search_tool = DuckDuckGoSearchRun(region=\"us-en\")\n",
    "\n",
    "\n",
    "@tool\n",
    "def calculator(first_num: float, second_num: float, operation: str) -> dict:\n",
    "    \"\"\"\n",
    "    Perform a basic arithmetic calculation on two numbers.\n",
    "    Supported operations: add, sub, mul, div\n",
    "    \"\"\"\n",
    "    try:\n",
    "        if operation == \"add\":\n",
    "            result = first_num + second_num\n",
    "        elif operation == \"sub\":\n",
    "            result = first_num - second_num\n",
    "        elif operation == \"mul\":\n",
    "            result = first_num * second_num\n",
    "        elif operation == \"div\":\n",
    "            result = first_num / second_num\n",
    "        else:\n",
    "            return {\"error\": f\"Unsupported operation: {operation}\"}\n",
    "\n",
    "        return {\"first_num\": first_num, \"second_num\": second_num, \"operation\": operation, \"result\": result}\n",
    "    except Exception as e:\n",
    "        return {\"error\": str(e)}"
   ],
   "id": "8b81b981fa60f6b5",
   "outputs": [],
   "execution_count": 19
  },
  {
   "metadata": {
    "ExecuteTime": {
     "end_time": "2025-10-14T03:53:36.027189Z",
     "start_time": "2025-10-14T03:53:36.022193Z"
    }
   },
   "cell_type": "code",
   "source": [
    "# list of tools\n",
    "tools = [search_tool, calculator]"
   ],
   "id": "7fb3e91bf5a0d18c",
   "outputs": [],
   "execution_count": 20
  },
  {
   "metadata": {
    "ExecuteTime": {
     "end_time": "2025-10-14T03:53:36.533339Z",
     "start_time": "2025-10-14T03:53:36.518089Z"
    }
   },
   "cell_type": "code",
   "source": [
    "# make the LLM tool-aware\n",
    "llm_with_tools = llm.bind_tools(tools)"
   ],
   "id": "3a79774d1cbeddbe",
   "outputs": [],
   "execution_count": 21
  },
  {
   "metadata": {
    "ExecuteTime": {
     "end_time": "2025-10-14T03:53:39.750515Z",
     "start_time": "2025-10-14T03:53:39.741516Z"
    }
   },
   "cell_type": "code",
   "source": [
    "class ChatState(TypedDict):\n",
    "    messages: Annotated[list[BaseMessage], add_messages]"
   ],
   "id": "80fdc896cf15386e",
   "outputs": [],
   "execution_count": 22
  },
  {
   "metadata": {
    "ExecuteTime": {
     "end_time": "2025-10-14T03:53:40.002217Z",
     "start_time": "2025-10-14T03:53:39.990221Z"
    }
   },
   "cell_type": "code",
   "source": [
    "# nodes creation\n",
    "def chat_node(state: ChatState):\n",
    "    \"\"\"LLM node that may answer or request a tool call\"\"\"\n",
    "    messages = state['messages']\n",
    "    response = llm_with_tools.invoke(messages)\n",
    "    return {\"messages\": [response]}\n",
    "\n",
    "tool_node = ToolNode(tools)"
   ],
   "id": "35650c0419898f8f",
   "outputs": [],
   "execution_count": 23
  },
  {
   "metadata": {
    "ExecuteTime": {
     "end_time": "2025-10-14T03:53:54.548661Z",
     "start_time": "2025-10-14T03:53:54.537664Z"
    }
   },
   "cell_type": "code",
   "source": [
    "graph = StateGraph(ChatState)\n",
    "\n",
    "checkpointer = InMemorySaver()\n",
    "\n",
    "graph.add_node(\"chat_node\", chat_node)\n",
    "graph.add_node(\"tools\", tool_node)"
   ],
   "id": "586a07d8d8d414a4",
   "outputs": [
    {
     "data": {
      "text/plain": [
       "<langgraph.graph.state.StateGraph at 0x24497e0cd30>"
      ]
     },
     "execution_count": 24,
     "metadata": {},
     "output_type": "execute_result"
    }
   ],
   "execution_count": 24
  },
  {
   "metadata": {
    "ExecuteTime": {
     "end_time": "2025-10-14T03:53:58.817193Z",
     "start_time": "2025-10-14T03:53:58.807190Z"
    }
   },
   "cell_type": "code",
   "source": [
    "graph.add_edge(START, \"chat_node\")\n",
    "graph.add_conditional_edges(\"chat_node\", tools_condition)"
   ],
   "id": "3220d4c37aa6e58b",
   "outputs": [
    {
     "data": {
      "text/plain": [
       "<langgraph.graph.state.StateGraph at 0x24497e0cd30>"
      ]
     },
     "execution_count": 25,
     "metadata": {},
     "output_type": "execute_result"
    }
   ],
   "execution_count": 25
  },
  {
   "metadata": {
    "ExecuteTime": {
     "end_time": "2025-10-14T03:54:05.833909Z",
     "start_time": "2025-10-14T03:54:05.820499Z"
    }
   },
   "cell_type": "code",
   "source": "chatbot = graph.compile(checkpointer=checkpointer)",
   "id": "2854b6d4d34e9f6b",
   "outputs": [],
   "execution_count": 26
  },
  {
   "metadata": {
    "ExecuteTime": {
     "end_time": "2025-10-14T03:54:07.296727Z",
     "start_time": "2025-10-14T03:54:07.241726Z"
    }
   },
   "cell_type": "code",
   "source": "chatbot",
   "id": "9b225c5bb92e063",
   "outputs": [
    {
     "data": {
      "text/plain": [
       "<langgraph.graph.state.CompiledStateGraph object at 0x0000024497E0D960>"
      ],
      "image/png": "[encoded data removed]"
     },
     "execution_count": 27,
     "metadata": {},
     "output_type": "execute_result"
    }
   ],
   "execution_count": 27
  },
  {
   "metadata": {
    "ExecuteTime": {
     "end_time": "2025-10-14T03:55:28.425111Z",
     "start_time": "2025-10-14T03:55:21.899379Z"
    }
   },
   "cell_type": "code",
   "source": [
    "# normal chat\n",
    "config1 = {\"configurable\": {\"thread_id\":\"1\"}}\n",
    "\n",
    "out = chatbot.invoke({\"messages\": [HumanMessage(content=\"hi\")]}, config=config1)\n",
    "\n",
    "print(out[\"messages\"][-1].content)"
   ],
   "id": "99f430a0c5766529",
   "outputs": [
    {
     "name": "stdout",
     "output_type": "stream",
     "text": [
      "Hello! How can I assist you today? 😊\n"
     ]
    }
   ],
   "execution_count": 30
  },
  {
   "metadata": {
    "ExecuteTime": {
     "end_time": "2025-10-14T03:55:47.795960Z",
     "start_time": "2025-10-14T03:55:36.907473Z"
    }
   },
   "cell_type": "code",
   "source": [
    "# Chat requiring tool\n",
    "out = chatbot.invoke({\"messages\": [HumanMessage(content=\"What is 2 * 3?\")]}, config=config1)\n",
    "print(out[\"messages\"][-1].content)"
   ],
   "id": "fb41983f68eb050a",
   "outputs": [
    {
     "name": "stdout",
     "output_type": "stream",
     "text": [
      "{\"first_num\": 2.0, \"second_num\": 3.0, \"operation\": \"mul\", \"result\": 6.0}\n"
     ]
    }
   ],
   "execution_count": 31
  },
  {
   "metadata": {
    "ExecuteTime": {
     "end_time": "2025-10-14T03:56:10.765250Z",
     "start_time": "2025-10-14T03:55:47.814959Z"
    }
   },
   "cell_type": "code",
   "source": [
    "# Chat requiring tool\n",
    "out = chatbot.invoke({\"messages\": [HumanMessage(content=\"Tell me news about US tariff war\")]}, config=config1)\n",
    "print(out[\"messages\"][-1].content)"
   ],
   "id": "d597517c22924c85",
   "outputs": [
    {
     "name": "stdout",
     "output_type": "stream",
     "text": [
      "2 days ago · Latest news headlines from India & around the world. Check out today’s news coverage live with videos & photos on NDTV.com. Latest News Today: Breaking news on Politics, Business, Sports, Bollywood, Education, Science. Latest News on Politics, India, Current affairs. 11 hours ago · Jan Suraaj has now declared nominees for 116 out of the state’s 243 seats. The latest list includes 20 candidates from reserved constituencies and 45 from general seats. Today's news: Get latest and Breaking News on Politics, Business, Lifestyle, Entertainment and Sports along with News updates from around the world. Also, find English News, live coverage … Today's breaking news on politics, sports, entertainment, business, life style and many more on Times of India.\n"
     ]
    }
   ],
   "execution_count": 32
  },
  {
   "metadata": {
    "ExecuteTime": {
     "end_time": "2025-10-14T03:56:27.394864Z",
     "start_time": "2025-10-14T03:56:10.831565Z"
    }
   },
   "cell_type": "code",
   "source": [
    "# Chat requiring tool\n",
    "out = chatbot.invoke({\"messages\": [HumanMessage(content=\"My name is tushar\")]}, config=config1)\n",
    "print(out[\"messages\"][-1].content)"
   ],
   "id": "6a4f8e1da5cdeeeb",
   "outputs": [
    {
     "name": "stdout",
     "output_type": "stream",
     "text": [
      "Hello, Tushar! How can I assist you today? 😊\n"
     ]
    }
   ],
   "execution_count": 33
  },
  {
   "metadata": {
    "ExecuteTime": {
     "end_time": "2025-10-14T03:57:43.930193Z",
     "start_time": "2025-10-14T03:57:11.755909Z"
    }
   },
   "cell_type": "code",
   "source": [
    "out = chatbot.invoke({\"messages\": [HumanMessage(content=\"what is my name\")]}, config=config1)\n",
    "print(out[\"messages\"][-1].content)"
   ],
   "id": "3aa2d87818d37b88",
   "outputs": [
    {
     "name": "stdout",
     "output_type": "stream",
     "text": [
      "Your name is Tushar! 😊 How can I assist you today?\n"
     ]
    }
   ],
   "execution_count": 35
  },
  {
   "metadata": {},
   "cell_type": "code",
   "outputs": [],
   "execution_count": null,
   "source": "",
   "id": "49563f0d130191ce"
  }
 ],
 "metadata": {
  "kernelspec": {
   "display_name": "Python 3",
   "language": "python",
   "name": "python3"
  },
  "language_info": {
   "codemirror_mode": {
    "name": "ipython",
    "version": 2
   },
   "file_extension": ".py",
   "mimetype": "text/x-python",
   "name": "python",
   "nbconvert_exporter": "python",
   "pygments_lexer": "ipython2",
   "version": "2.7.6"
  }
 },
 "nbformat": 4,
 "nbformat_minor": 5
}
