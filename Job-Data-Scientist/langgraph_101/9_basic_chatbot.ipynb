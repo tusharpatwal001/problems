{
 "cells": [
  {
   "cell_type": "code",
   "id": "initial_id",
   "metadata": {
    "collapsed": true,
    "ExecuteTime": {
     "end_time": "2025-10-11T12:23:54.036780Z",
     "start_time": "2025-10-11T12:23:53.996096Z"
    }
   },
   "source": [
    "from langgraph.graph import StateGraph, START, END\n",
    "from langchain_ollama import ChatOllama\n",
    "from typing import TypedDict, Annotated\n",
    "from langchain_core.messages import HumanMessage, BaseMessage\n",
    "from langgraph.graph.message import add_messages\n",
    "from langgraph.checkpoint.memory import MemorySaver"
   ],
   "outputs": [],
   "execution_count": 19
  },
  {
   "metadata": {
    "ExecuteTime": {
     "end_time": "2025-10-11T12:24:55.233334Z",
     "start_time": "2025-10-11T12:24:55.214185Z"
    }
   },
   "cell_type": "code",
   "source": [
    "class ChatState(TypedDict):\n",
    "    message: Annotated[list[BaseMessage], add_messages]\n"
   ],
   "id": "41e4c0ee175e4f33",
   "outputs": [],
   "execution_count": 20
  },
  {
   "metadata": {
    "ExecuteTime": {
     "end_time": "2025-10-11T12:29:34.537433Z",
     "start_time": "2025-10-11T12:29:34.498596Z"
    }
   },
   "cell_type": "code",
   "source": [
    "llm = ChatOllama(model=\"gemma3:4b\")\n",
    "\n",
    "\n",
    "def chat_node(state: ChatState):\n",
    "    # take user query from state\n",
    "    messages = state[\"message\"]\n",
    "\n",
    "    # send to llm\n",
    "    response = llm.invoke(messages)\n",
    "\n",
    "    # response store state\n",
    "    return {\"message\": [response]}"
   ],
   "id": "3746b40693be4d34",
   "outputs": [],
   "execution_count": 25
  },
  {
   "metadata": {
    "ExecuteTime": {
     "end_time": "2025-10-11T12:29:35.836406Z",
     "start_time": "2025-10-11T12:29:35.765537Z"
    }
   },
   "cell_type": "code",
   "source": [
    "checkpointer = MemorySaver()\n",
    "\n",
    "graph = StateGraph(ChatState)\n",
    "\n",
    "# add nodes\n",
    "graph.add_node(\"chat_node\", chat_node)\n",
    "\n",
    "# add edges\n",
    "graph.add_edge(START, \"chat_node\")\n",
    "graph.add_edge(\"chat_node\", END)\n",
    "\n",
    "# compile the graph\n",
    "chatbot = graph.compile(checkpointer=checkpointer)\n",
    "\n",
    "chatbot"
   ],
   "id": "6b0f34888f9b77dc",
   "outputs": [
    {
     "data": {
      "text/plain": [
       "<langgraph.graph.state.CompiledStateGraph object at 0x00000158D9E670D0>"
      ],
      "image/png": "[encoded data removed]"
     },
     "execution_count": 26,
     "metadata": {},
     "output_type": "execute_result"
    }
   ],
   "execution_count": 26
  },
  {
   "metadata": {},
   "cell_type": "code",
   "source": [
    "initial_state = {\n",
    "    \"message\": [HumanMessage(content=\"What is the Capital of India\")],\n",
    "}\n",
    "chatbot.invoke(initial_state)['message'][-1].content"
   ],
   "id": "69f19866f52bfcfd",
   "outputs": [],
   "execution_count": null
  },
  {
   "metadata": {
    "ExecuteTime": {
     "end_time": "2025-10-11T12:31:00.623960Z",
     "start_time": "2025-10-11T12:29:39.419773Z"
    }
   },
   "cell_type": "code",
   "source": [
    "thread_id = \"1\"\n",
    "\n",
    "while True:\n",
    "    user_message = input(\"Type here: \")\n",
    "    print(f\"User: {user_message}\")\n",
    "    if user_message.strip().lower() in ['exit', 'quit', 'bye']:\n",
    "        break\n",
    "\n",
    "    config = {\"configurable\":{\"thread_id\": thread_id}}\n",
    "\n",
    "    response = chatbot.invoke({'message': [HumanMessage(content=user_message)]}, config=config)\n",
    "\n",
    "    print(f\"AI: {response['message'][-1].content}\")\n"
   ],
   "id": "76adf2f037f588d0",
   "outputs": [
    {
     "name": "stdout",
     "output_type": "stream",
     "text": [
      "User: my name is tushar\n",
      "AI: Okay, Tushar! It's nice to meet you. 😊 \n",
      "\n",
      "Is there anything you’d like to talk about or anything I can help you with today?\n",
      "User: 10 + 200 = \n",
      "AI: 10 + 200 = 210 \n",
      "\n",
      "Great job! 😊\n",
      "User: multiply the last result with 2\n",
      "AI: Okay, 210 multiplied by 2 is 420. \n",
      "\n",
      "Do you want to try another calculation?\n",
      "User: do you still remember my name?\n",
      "AI: Yes, Tushar, I do! 😊 \n",
      "\n",
      "How are you doing today?\n",
      "User: bye\n",
      "\n"
     ]
    }
   ],
   "execution_count": 27
  },
  {
   "metadata": {
    "ExecuteTime": {
     "end_time": "2025-10-11T12:32:45.598282Z",
     "start_time": "2025-10-11T12:32:45.581284Z"
    }
   },
   "cell_type": "code",
   "source": "chatbot.get_state(config=config)",
   "id": "9489b6cb45045b00",
   "outputs": [
    {
     "data": {
      "text/plain": [
       "StateSnapshot(values={'message': [HumanMessage(content='my name is tushar', additional_kwargs={}, response_metadata={}, id='555ac699-aee4-4dc6-a84c-6b7a9e796539'), AIMessage(content=\"Okay, Tushar! It's nice to meet you. 😊 \\n\\nIs there anything you’d like to talk about or anything I can help you with today?\", additional_kwargs={}, response_metadata={'model': 'gemma3:4b', 'created_at': '2025-10-11T12:29:54.8242125Z', 'done': True, 'done_reason': 'stop', 'total_duration': 6228216000, 'load_duration': 5407738100, 'prompt_eval_count': 15, 'prompt_eval_duration': 41247100, 'eval_count': 37, 'eval_duration': 723462300, 'model_name': 'gemma3:4b'}, id='run--a25aa33a-0b38-41f3-9588-ef5766f6ba73-0', usage_metadata={'input_tokens': 15, 'output_tokens': 37, 'total_tokens': 52}), HumanMessage(content='10 + 200 = ', additional_kwargs={}, response_metadata={}, id='4520bb07-a371-4ed3-8693-6126f37d52ae'), AIMessage(content='10 + 200 = 210 \\n\\nGreat job! 😊', additional_kwargs={}, response_metadata={'model': 'gemma3:4b', 'created_at': '2025-10-11T12:30:10.4270574Z', 'done': True, 'done_reason': 'stop', 'total_duration': 823722600, 'load_duration': 184187700, 'prompt_eval_count': 70, 'prompt_eval_duration': 238127100, 'eval_count': 19, 'eval_duration': 357619100, 'model_name': 'gemma3:4b'}, id='run--35ad088c-fa06-4c12-b4f6-6bac0f225aca-0', usage_metadata={'input_tokens': 70, 'output_tokens': 19, 'total_tokens': 89}), HumanMessage(content='multiply the last result with 2', additional_kwargs={}, response_metadata={}, id='819fab98-f9e9-4089-9458-786d74cdc1e6'), AIMessage(content='Okay, 210 multiplied by 2 is 420. \\n\\nDo you want to try another calculation?', additional_kwargs={}, response_metadata={'model': 'gemma3:4b', 'created_at': '2025-10-11T12:30:33.7800759Z', 'done': True, 'done_reason': 'stop', 'total_duration': 1015934200, 'load_duration': 191715000, 'prompt_eval_count': 105, 'prompt_eval_duration': 279825100, 'eval_count': 27, 'eval_duration': 526743700, 'model_name': 'gemma3:4b'}, id='run--bae38f22-f19e-4f9a-aad1-3adbdb636166-0', usage_metadata={'input_tokens': 105, 'output_tokens': 27, 'total_tokens': 132}), HumanMessage(content='do you still remember my name?', additional_kwargs={}, response_metadata={}, id='4d765a8d-d043-4f39-baa0-0c439c8e38fd'), AIMessage(content='Yes, Tushar, I do! 😊 \\n\\nHow are you doing today?', additional_kwargs={}, response_metadata={'model': 'gemma3:4b', 'created_at': '2025-10-11T12:30:54.2068062Z', 'done': True, 'done_reason': 'stop', 'total_duration': 898157600, 'load_duration': 187509500, 'prompt_eval_count': 148, 'prompt_eval_duration': 330323300, 'eval_count': 19, 'eval_duration': 367015800, 'model_name': 'gemma3:4b'}, id='run--9164ad0e-a6c9-4ebf-9099-8e564559f81b-0', usage_metadata={'input_tokens': 148, 'output_tokens': 19, 'total_tokens': 167})]}, next=(), config={'configurable': {'thread_id': '1', 'checkpoint_ns': '', 'checkpoint_id': '1f0a69e2-14ac-6b06-800a-1edb61729e23'}}, metadata={'source': 'loop', 'step': 10, 'parents': {}}, created_at='2025-10-11T12:30:54.207872+00:00', parent_config={'configurable': {'thread_id': '1', 'checkpoint_ns': '', 'checkpoint_id': '1f0a69e2-0c14-6d5f-8009-6fd55e43af2b'}}, tasks=(), interrupts=())"
      ]
     },
     "execution_count": 28,
     "metadata": {},
     "output_type": "execute_result"
    }
   ],
   "execution_count": 28
  },
  {
   "metadata": {},
   "cell_type": "code",
   "outputs": [],
   "execution_count": null,
   "source": "",
   "id": "534d5893b0263347"
  }
 ],
 "metadata": {
  "kernelspec": {
   "display_name": "Python 3",
   "language": "python",
   "name": "python3"
  },
  "language_info": {
   "codemirror_mode": {
    "name": "ipython",
    "version": 2
   },
   "file_extension": ".py",
   "mimetype": "text/x-python",
   "name": "python",
   "nbconvert_exporter": "python",
   "pygments_lexer": "ipython2",
   "version": "2.7.6"
  }
 },
 "nbformat": 4,
 "nbformat_minor": 5
}
