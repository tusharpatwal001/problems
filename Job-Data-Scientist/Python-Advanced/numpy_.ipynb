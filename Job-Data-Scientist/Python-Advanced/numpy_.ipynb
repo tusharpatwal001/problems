{
 "cells": [
  {
   "cell_type": "code",
   "id": "initial_id",
   "metadata": {
    "collapsed": true,
    "ExecuteTime": {
     "end_time": "2025-10-13T11:47:32.130644Z",
     "start_time": "2025-10-13T11:47:32.115017Z"
    }
   },
   "source": "import numpy as np",
   "outputs": [],
   "execution_count": 1
  },
  {
   "metadata": {},
   "cell_type": "markdown",
   "source": "# NumPy: matrix ops, broadcasting",
   "id": "5ef98825bd7b7bd2"
  },
  {
   "metadata": {
    "ExecuteTime": {
     "end_time": "2025-10-13T11:49:16.532618Z",
     "start_time": "2025-10-13T11:49:16.516992Z"
    }
   },
   "cell_type": "code",
   "source": [
    "a = np.array([[1, 2], [3, 4]])\n",
    "b = np.array([[5, 6], [7, 8]])"
   ],
   "id": "540027dfc4803472",
   "outputs": [],
   "execution_count": 5
  },
  {
   "metadata": {},
   "cell_type": "markdown",
   "source": "## Basic Arithmetic Operations - addition",
   "id": "d7253a4b50cebccc"
  },
  {
   "metadata": {
    "ExecuteTime": {
     "end_time": "2025-10-13T11:50:28.813328Z",
     "start_time": "2025-10-13T11:50:28.798985Z"
    }
   },
   "cell_type": "code",
   "source": "a + b, np.add(a, b)",
   "id": "d2a8755626946a88",
   "outputs": [
    {
     "data": {
      "text/plain": [
       "(array([[ 6,  8],\n",
       "        [10, 12]]),\n",
       " array([[ 6,  8],\n",
       "        [10, 12]]))"
      ]
     },
     "execution_count": 7,
     "metadata": {},
     "output_type": "execute_result"
    }
   ],
   "execution_count": 7
  },
  {
   "metadata": {},
   "cell_type": "markdown",
   "source": "## Basic Arithmetic Operations - substraction",
   "id": "668259b72af75ad1"
  },
  {
   "metadata": {
    "ExecuteTime": {
     "end_time": "2025-10-13T11:51:24.002989Z",
     "start_time": "2025-10-13T11:51:23.987367Z"
    }
   },
   "cell_type": "code",
   "source": "a - b, np.subtract(a, b)",
   "id": "755e84e4a1a34324",
   "outputs": [
    {
     "data": {
      "text/plain": [
       "(array([[-4, -4],\n",
       "        [-4, -4]]),\n",
       " array([[-4, -4],\n",
       "        [-4, -4]]))"
      ]
     },
     "execution_count": 9,
     "metadata": {},
     "output_type": "execute_result"
    }
   ],
   "execution_count": 9
  },
  {
   "metadata": {},
   "cell_type": "markdown",
   "source": "## Basic Arithmetic Operations - multiplication",
   "id": "c8f27f693f795b8"
  },
  {
   "metadata": {
    "ExecuteTime": {
     "end_time": "2025-10-13T11:51:59.547285Z",
     "start_time": "2025-10-13T11:51:59.537133Z"
    }
   },
   "cell_type": "code",
   "source": "a * b, np.multiply(a, b)",
   "id": "b51dfaf9d31c5689",
   "outputs": [
    {
     "data": {
      "text/plain": [
       "(array([[ 5, 12],\n",
       "        [21, 32]]),\n",
       " array([[ 5, 12],\n",
       "        [21, 32]]))"
      ]
     },
     "execution_count": 10,
     "metadata": {},
     "output_type": "execute_result"
    }
   ],
   "execution_count": 10
  },
  {
   "metadata": {},
   "cell_type": "markdown",
   "source": "## Basic Arithmetic Operations - division",
   "id": "883525de065b3d16"
  },
  {
   "metadata": {
    "ExecuteTime": {
     "end_time": "2025-10-13T11:52:26.821791Z",
     "start_time": "2025-10-13T11:52:26.806791Z"
    }
   },
   "cell_type": "code",
   "source": "a / b, np.divide(a, b)",
   "id": "96e4a9f188d3d056",
   "outputs": [
    {
     "data": {
      "text/plain": [
       "(array([[0.2       , 0.33333333],\n",
       "        [0.42857143, 0.5       ]]),\n",
       " array([[0.2       , 0.33333333],\n",
       "        [0.42857143, 0.5       ]]))"
      ]
     },
     "execution_count": 11,
     "metadata": {},
     "output_type": "execute_result"
    }
   ],
   "execution_count": 11
  },
  {
   "metadata": {},
   "cell_type": "markdown",
   "source": "## Scalar Multiplication",
   "id": "ddde4ab9453b352a"
  },
  {
   "metadata": {
    "ExecuteTime": {
     "end_time": "2025-10-13T11:53:18.745235Z",
     "start_time": "2025-10-13T11:53:18.730553Z"
    }
   },
   "cell_type": "code",
   "source": "a * 4, b * 10",
   "id": "8951d137aba98807",
   "outputs": [
    {
     "data": {
      "text/plain": [
       "(array([[ 4,  8],\n",
       "        [12, 16]]),\n",
       " array([[50, 60],\n",
       "        [70, 80]]))"
      ]
     },
     "execution_count": 13,
     "metadata": {},
     "output_type": "execute_result"
    }
   ],
   "execution_count": 13
  },
  {
   "metadata": {},
   "cell_type": "markdown",
   "source": "## Matrix Multiplication - Dot Product",
   "id": "e178d06f2fa28c75"
  },
  {
   "metadata": {
    "ExecuteTime": {
     "end_time": "2025-10-13T12:02:48.367767Z",
     "start_time": "2025-10-13T12:02:48.352109Z"
    }
   },
   "cell_type": "code",
   "source": "a @ b, np.dot(a, b)",
   "id": "f805c7e5c5352664",
   "outputs": [
    {
     "data": {
      "text/plain": [
       "(array([[19, 22],\n",
       "        [43, 50]]),\n",
       " array([[19, 22],\n",
       "        [43, 50]]))"
      ]
     },
     "execution_count": 15,
     "metadata": {},
     "output_type": "execute_result"
    }
   ],
   "execution_count": 15
  },
  {
   "metadata": {},
   "cell_type": "markdown",
   "source": "## Matrix Multiplication - Matric Product",
   "id": "5a21aa0334130ca8"
  },
  {
   "metadata": {
    "ExecuteTime": {
     "end_time": "2025-10-13T12:03:25.759375Z",
     "start_time": "2025-10-13T12:03:25.743715Z"
    }
   },
   "cell_type": "code",
   "source": "np.matmul(a, b)",
   "id": "8347d170b5830203",
   "outputs": [
    {
     "data": {
      "text/plain": [
       "array([[19, 22],\n",
       "       [43, 50]])"
      ]
     },
     "execution_count": 16,
     "metadata": {},
     "output_type": "execute_result"
    }
   ],
   "execution_count": 16
  },
  {
   "metadata": {},
   "cell_type": "markdown",
   "source": "## Transpose",
   "id": "67df96c3a5059ca5"
  },
  {
   "metadata": {
    "ExecuteTime": {
     "end_time": "2025-10-13T12:04:11.474181Z",
     "start_time": "2025-10-13T12:04:11.459113Z"
    }
   },
   "cell_type": "code",
   "source": "a.T, b.T",
   "id": "728315a26aba9fc5",
   "outputs": [
    {
     "data": {
      "text/plain": [
       "(array([[1, 3],\n",
       "        [2, 4]]),\n",
       " array([[5, 7],\n",
       "        [6, 8]]))"
      ]
     },
     "execution_count": 18,
     "metadata": {},
     "output_type": "execute_result"
    }
   ],
   "execution_count": 18
  },
  {
   "metadata": {},
   "cell_type": "markdown",
   "source": "## Determinant",
   "id": "437e0963ef097506"
  },
  {
   "metadata": {
    "ExecuteTime": {
     "end_time": "2025-10-13T12:04:45.189795Z",
     "start_time": "2025-10-13T12:04:45.174796Z"
    }
   },
   "cell_type": "code",
   "source": "np.linalg.det(a)",
   "id": "d98f038a670a3b56",
   "outputs": [
    {
     "data": {
      "text/plain": [
       "np.float64(-2.0000000000000004)"
      ]
     },
     "execution_count": 19,
     "metadata": {},
     "output_type": "execute_result"
    }
   ],
   "execution_count": 19
  },
  {
   "metadata": {},
   "cell_type": "markdown",
   "source": "## Inverse",
   "id": "db858a0bcd94906b"
  },
  {
   "metadata": {
    "ExecuteTime": {
     "end_time": "2025-10-13T12:05:28.138995Z",
     "start_time": "2025-10-13T12:05:28.123383Z"
    }
   },
   "cell_type": "code",
   "source": "np.linalg.inv(a)",
   "id": "b059e521319c9b26",
   "outputs": [
    {
     "data": {
      "text/plain": [
       "array([[-2. ,  1. ],\n",
       "       [ 1.5, -0.5]])"
      ]
     },
     "execution_count": 20,
     "metadata": {},
     "output_type": "execute_result"
    }
   ],
   "execution_count": 20
  },
  {
   "metadata": {},
   "cell_type": "markdown",
   "source": "## Flatten or Ravel",
   "id": "7a678f403331ff09"
  },
  {
   "metadata": {
    "ExecuteTime": {
     "end_time": "2025-10-13T12:06:30.003962Z",
     "start_time": "2025-10-13T12:06:29.991621Z"
    }
   },
   "cell_type": "code",
   "source": "a.flatten(), a.ravel()",
   "id": "e18287d8d155df1",
   "outputs": [
    {
     "data": {
      "text/plain": [
       "(array([1, 2, 3, 4]), array([1, 2, 3, 4]))"
      ]
     },
     "execution_count": 23,
     "metadata": {},
     "output_type": "execute_result"
    }
   ],
   "execution_count": 23
  },
  {
   "metadata": {},
   "cell_type": "markdown",
   "source": "## Broadcasting",
   "id": "3f495daf0ec0125f"
  },
  {
   "metadata": {
    "ExecuteTime": {
     "end_time": "2025-10-13T12:07:44.027001Z",
     "start_time": "2025-10-13T12:07:44.011374Z"
    }
   },
   "cell_type": "code",
   "source": [
    "a = np.array([[1, 2, 3], [4, 5, 6]])  # Shape (2, 3)\n",
    "b = np.array([10, 20, 30])           # Shape (3,)\n",
    "\n",
    "# Broadcasting applies:\n",
    "# 1. Pad b's shape: (3,) becomes (1, 3)\n",
    "# 2. Match dimensions:\n",
    "#    - Rightmost dimension: 3 and 3 are equal.\n",
    "#    - Leftmost dimension: 2 and 1. The 1 in (1, 3) is stretched to 2.\n",
    "# Resulting effective shapes for operation: (2, 3) and (2, 3)\n",
    "\n",
    "result = a + b\n",
    "print(result)"
   ],
   "id": "ef7651cf2b62a1a7",
   "outputs": [
    {
     "name": "stdout",
     "output_type": "stream",
     "text": [
      "[[11 22 33]\n",
      " [14 25 36]]\n"
     ]
    }
   ],
   "execution_count": 24
  },
  {
   "metadata": {},
   "cell_type": "code",
   "outputs": [],
   "execution_count": null,
   "source": "",
   "id": "d9c03b7df2ad22bf"
  }
 ],
 "metadata": {
  "kernelspec": {
   "display_name": "Python 3",
   "language": "python",
   "name": "python3"
  },
  "language_info": {
   "codemirror_mode": {
    "name": "ipython",
    "version": 2
   },
   "file_extension": ".py",
   "mimetype": "text/x-python",
   "name": "python",
   "nbconvert_exporter": "python",
   "pygments_lexer": "ipython2",
   "version": "2.7.6"
  }
 },
 "nbformat": 4,
 "nbformat_minor": 5
}
