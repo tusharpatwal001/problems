{
 "cells": [
  {
   "metadata": {
    "ExecuteTime": {
     "end_time": "2025-10-12T10:43:55.484497Z",
     "start_time": "2025-10-12T10:43:55.473782Z"
    }
   },
   "cell_type": "code",
   "source": "import sys",
   "id": "309a1a438d5856f7",
   "outputs": [],
   "execution_count": 5
  },
  {
   "metadata": {},
   "cell_type": "markdown",
   "source": "## A simple Example",
   "id": "e3d4f5197530fd51"
  },
  {
   "cell_type": "code",
   "id": "initial_id",
   "metadata": {
    "collapsed": true,
    "ExecuteTime": {
     "end_time": "2025-10-12T10:42:38.161998Z",
     "start_time": "2025-10-12T10:42:38.150001Z"
    }
   },
   "source": [
    "def gen_demo():\n",
    "    yield \"First Statement\"\n",
    "    yield \"Second Statement\"\n",
    "    yield \"Third Statement\""
   ],
   "outputs": [],
   "execution_count": 1
  },
  {
   "metadata": {
    "ExecuteTime": {
     "end_time": "2025-10-12T10:52:12.712541Z",
     "start_time": "2025-10-12T10:52:12.696615Z"
    }
   },
   "cell_type": "code",
   "source": [
    "gen = gen_demo()\n",
    "print(next(gen))\n",
    "print(next(gen))\n",
    "print(next(gen))"
   ],
   "id": "d730613862aeb116",
   "outputs": [
    {
     "name": "stdout",
     "output_type": "stream",
     "text": [
      "First Statement\n",
      "Second Statement\n",
      "Third Statement\n"
     ]
    }
   ],
   "execution_count": 17
  },
  {
   "metadata": {},
   "cell_type": "markdown",
   "source": "## Size Comparison of List vs Generator",
   "id": "c39ab2ada674321f"
  },
  {
   "metadata": {
    "ExecuteTime": {
     "end_time": "2025-10-12T11:25:05.854483Z",
     "start_time": "2025-10-12T11:25:01.529453Z"
    }
   },
   "cell_type": "code",
   "source": [
    "list_1 = [i for i in range(100000000)]\n",
    "\n",
    "generated_list = (i for i in range(100000000))\n",
    "\n",
    "# it stores entire data in one go\n",
    "print(f\"{sys.getsizeof(list_1) / 1e+9} GB\")\n",
    "\n",
    "# it stores only first element and generate 2nd element when required\n",
    "print(f\"{sys.getsizeof(generated_list)} Byte\")"
   ],
   "id": "19f8683c7bf22f8c",
   "outputs": [
    {
     "name": "stdout",
     "output_type": "stream",
     "text": [
      "0.8351286 GB\n",
      "104 Byte\n"
     ]
    }
   ],
   "execution_count": 52
  },
  {
   "metadata": {},
   "cell_type": "markdown",
   "source": "## A simple example - 2",
   "id": "a4bcaab3933d4d95"
  },
  {
   "metadata": {
    "ExecuteTime": {
     "end_time": "2025-10-12T11:03:16.971942Z",
     "start_time": "2025-10-12T11:03:16.965281Z"
    }
   },
   "cell_type": "code",
   "source": [
    "string_1 = \"In this video, we'll  learn the concept of Generators, a dynamic feature that enhances efficiency in Python programming.\"\n",
    "\n",
    "\n",
    "def gen_demo2():\n",
    "    for i in string_1.split():\n",
    "        yield i\n",
    "\n",
    "\n",
    "for i in gen_demo2():\n",
    "    print(i, end=\" \")"
   ],
   "id": "3e5a79f1b80d6142",
   "outputs": [
    {
     "name": "stdout",
     "output_type": "stream",
     "text": [
      "In this video, we'll learn the concept of Generators, a dynamic feature that enhances efficiency in Python programming. "
     ]
    }
   ],
   "execution_count": 29
  },
  {
   "metadata": {},
   "cell_type": "markdown",
   "source": "## A simple example - 3",
   "id": "bd240e9e989e3886"
  },
  {
   "metadata": {
    "ExecuteTime": {
     "end_time": "2025-10-12T11:08:55.005728Z",
     "start_time": "2025-10-12T11:08:54.991308Z"
    }
   },
   "cell_type": "code",
   "source": [
    "def square(number):\n",
    "    for i in range(1, number + 1):\n",
    "        yield i * i\n",
    "\n",
    "\n",
    "gen = square(10)\n",
    "\n",
    "print(next(gen))\n",
    "print(next(gen))\n",
    "print(\"++++\")\n",
    "\n",
    "for i in gen:\n",
    "    print(i)"
   ],
   "id": "98909575dd05cfd1",
   "outputs": [
    {
     "name": "stdout",
     "output_type": "stream",
     "text": [
      "1\n",
      "4\n",
      "++++\n",
      "9\n",
      "16\n",
      "25\n",
      "36\n",
      "49\n",
      "64\n",
      "81\n",
      "100\n"
     ]
    }
   ],
   "execution_count": 37
  },
  {
   "metadata": {},
   "cell_type": "markdown",
   "source": "## Create a Range Function using Generator",
   "id": "6637b208fd5df4c7"
  },
  {
   "metadata": {
    "ExecuteTime": {
     "end_time": "2025-10-12T11:11:43.212003Z",
     "start_time": "2025-10-12T11:11:43.196126Z"
    }
   },
   "cell_type": "code",
   "source": [
    "def my_range(start, end):\n",
    "    for i in range(start, end):\n",
    "        yield i\n",
    "\n",
    "\n",
    "for i in my_range(1, 5):\n",
    "    print(i)"
   ],
   "id": "c9f474b047bad237",
   "outputs": [
    {
     "name": "stdout",
     "output_type": "stream",
     "text": [
      "1\n",
      "2\n",
      "3\n",
      "4\n"
     ]
    }
   ],
   "execution_count": 38
  },
  {
   "metadata": {},
   "cell_type": "markdown",
   "source": "## Generator Expression",
   "id": "8603b33ce027d0d8"
  },
  {
   "metadata": {
    "ExecuteTime": {
     "end_time": "2025-10-12T11:17:06.793889Z",
     "start_time": "2025-10-12T11:17:06.778783Z"
    }
   },
   "cell_type": "code",
   "source": [
    "# List comprehension\n",
    "\n",
    "L = [i ** 2 for i in range(10)]\n",
    "print(L)"
   ],
   "id": "70f1c4381dd533f",
   "outputs": [
    {
     "name": "stdout",
     "output_type": "stream",
     "text": [
      "[0, 1, 4, 9, 16, 25, 36, 49, 64, 81]\n"
     ]
    }
   ],
   "execution_count": 40
  },
  {
   "metadata": {
    "ExecuteTime": {
     "end_time": "2025-10-12T11:18:22.744614Z",
     "start_time": "2025-10-12T11:18:22.730493Z"
    }
   },
   "cell_type": "code",
   "source": [
    "# for generator\n",
    "gen = (i ** 2 for i in range(10))\n",
    "\n",
    "for i in gen:\n",
    "    print(i)"
   ],
   "id": "94f6a0c9794b3451",
   "outputs": [
    {
     "name": "stdout",
     "output_type": "stream",
     "text": [
      "0\n",
      "1\n",
      "4\n",
      "9\n",
      "16\n",
      "25\n",
      "36\n",
      "49\n",
      "64\n",
      "81\n"
     ]
    }
   ],
   "execution_count": 41
  },
  {
   "metadata": {},
   "cell_type": "markdown",
   "source": "## Chaining Generators",
   "id": "aebffe6832d0feed"
  },
  {
   "metadata": {
    "ExecuteTime": {
     "end_time": "2025-10-12T11:27:20.513768Z",
     "start_time": "2025-10-12T11:27:20.485776Z"
    }
   },
   "cell_type": "code",
   "source": [
    "def fibonacci_numbers(nums):\n",
    "    x, y = 0, 1\n",
    "    for _ in range(nums):\n",
    "        x, y = y, x + y\n",
    "        yield x\n",
    "\n",
    "for i in fibonacci_numbers(10):\n",
    "    print(i)"
   ],
   "id": "532fcf4ef6c79148",
   "outputs": [
    {
     "name": "stdout",
     "output_type": "stream",
     "text": [
      "1\n",
      "1\n",
      "2\n",
      "3\n",
      "5\n",
      "8\n",
      "13\n",
      "21\n",
      "34\n",
      "55\n"
     ]
    }
   ],
   "execution_count": 53
  },
  {
   "metadata": {},
   "cell_type": "code",
   "outputs": [],
   "execution_count": null,
   "source": "",
   "id": "3832aae6a733cf3d"
  }
 ],
 "metadata": {
  "kernelspec": {
   "display_name": "Python 3",
   "language": "python",
   "name": "python3"
  },
  "language_info": {
   "codemirror_mode": {
    "name": "ipython",
    "version": 2
   },
   "file_extension": ".py",
   "mimetype": "text/x-python",
   "name": "python",
   "nbconvert_exporter": "python",
   "pygments_lexer": "ipython2",
   "version": "2.7.6"
  }
 },
 "nbformat": 4,
 "nbformat_minor": 5
}
