{
 "cells": [
  {
   "cell_type": "code",
   "id": "initial_id",
   "metadata": {
    "collapsed": true,
    "ExecuteTime": {
     "end_time": "2025-10-13T05:45:44.888977Z",
     "start_time": "2025-10-13T05:45:44.884463Z"
    }
   },
   "source": "paragraph = \"\"\"ChemAnalyst is a digital platform, which keeps a real-time eye on the chemicals and petrochemicals market fluctuations, thus, enabling its customers to make wise business decisions. With over 450 chemical products traded globally, we bring detailed market information and pricing data at your fingertip's. Our real-time pricing and commentary updates enable users to stay acquainted with new commercial opportunities. \"\"\"",
   "outputs": [],
   "execution_count": 9
  },
  {
   "metadata": {},
   "cell_type": "markdown",
   "source": "## Tokenization",
   "id": "c9eb70dade4fe290"
  },
  {
   "metadata": {
    "ExecuteTime": {
     "end_time": "2025-10-13T05:45:45.589855Z",
     "start_time": "2025-10-13T05:45:45.582829Z"
    }
   },
   "cell_type": "code",
   "source": [
    "from nltk.tokenize import sent_tokenize\n",
    "\n",
    "sentences = sent_tokenize(paragraph, language='english')\n",
    "print(sentences)"
   ],
   "id": "cccf2b21e32dc925",
   "outputs": [
    {
     "name": "stdout",
     "output_type": "stream",
     "text": [
      "['ChemAnalyst is a digital platform, which keeps a real-time eye on the chemicals and petrochemicals market fluctuations, thus, enabling its customers to make wise business decisions.', \"With over 450 chemical products traded globally, we bring detailed market information and pricing data at your fingertip's.\", 'Our real-time pricing and commentary updates enable users to stay acquainted with new commercial opportunities.']\n"
     ]
    }
   ],
   "execution_count": 10
  },
  {
   "metadata": {
    "ExecuteTime": {
     "end_time": "2025-10-13T05:45:46.459777Z",
     "start_time": "2025-10-13T05:45:46.445632Z"
    }
   },
   "cell_type": "code",
   "source": [
    "from nltk.tokenize import word_tokenize\n",
    "\n",
    "words = word_tokenize(paragraph)\n",
    "print(words)"
   ],
   "id": "b221e784a5e25306",
   "outputs": [
    {
     "name": "stdout",
     "output_type": "stream",
     "text": [
      "['ChemAnalyst', 'is', 'a', 'digital', 'platform', ',', 'which', 'keeps', 'a', 'real-time', 'eye', 'on', 'the', 'chemicals', 'and', 'petrochemicals', 'market', 'fluctuations', ',', 'thus', ',', 'enabling', 'its', 'customers', 'to', 'make', 'wise', 'business', 'decisions', '.', 'With', 'over', '450', 'chemical', 'products', 'traded', 'globally', ',', 'we', 'bring', 'detailed', 'market', 'information', 'and', 'pricing', 'data', 'at', 'your', 'fingertip', \"'s\", '.', 'Our', 'real-time', 'pricing', 'and', 'commentary', 'updates', 'enable', 'users', 'to', 'stay', 'acquainted', 'with', 'new', 'commercial', 'opportunities', '.']\n"
     ]
    }
   ],
   "execution_count": 11
  },
  {
   "metadata": {
    "ExecuteTime": {
     "end_time": "2025-10-13T05:45:47.934080Z",
     "start_time": "2025-10-13T05:45:47.928073Z"
    }
   },
   "cell_type": "code",
   "source": [
    "from nltk.tokenize import wordpunct_tokenize\n",
    "\n",
    "punc_words = wordpunct_tokenize(paragraph)\n",
    "print(punc_words)"
   ],
   "id": "242480f80c799076",
   "outputs": [
    {
     "name": "stdout",
     "output_type": "stream",
     "text": [
      "['ChemAnalyst', 'is', 'a', 'digital', 'platform', ',', 'which', 'keeps', 'a', 'real', '-', 'time', 'eye', 'on', 'the', 'chemicals', 'and', 'petrochemicals', 'market', 'fluctuations', ',', 'thus', ',', 'enabling', 'its', 'customers', 'to', 'make', 'wise', 'business', 'decisions', '.', 'With', 'over', '450', 'chemical', 'products', 'traded', 'globally', ',', 'we', 'bring', 'detailed', 'market', 'information', 'and', 'pricing', 'data', 'at', 'your', 'fingertip', \"'\", 's', '.', 'Our', 'real', '-', 'time', 'pricing', 'and', 'commentary', 'updates', 'enable', 'users', 'to', 'stay', 'acquainted', 'with', 'new', 'commercial', 'opportunities', '.']\n"
     ]
    }
   ],
   "execution_count": 12
  },
  {
   "metadata": {
    "ExecuteTime": {
     "end_time": "2025-10-13T05:46:58.891600Z",
     "start_time": "2025-10-13T05:46:58.870602Z"
    }
   },
   "cell_type": "code",
   "source": [
    "from nltk.tokenize import TreebankWordTokenizer\n",
    "\n",
    "tokenizer = TreebankWordTokenizer()\n",
    "tokens = tokenizer.tokenize(paragraph)\n",
    "tokens"
   ],
   "id": "5bde2e86d24aed4d",
   "outputs": [
    {
     "data": {
      "text/plain": [
       "['ChemAnalyst',\n",
       " 'is',\n",
       " 'a',\n",
       " 'digital',\n",
       " 'platform',\n",
       " ',',\n",
       " 'which',\n",
       " 'keeps',\n",
       " 'a',\n",
       " 'real-time',\n",
       " 'eye',\n",
       " 'on',\n",
       " 'the',\n",
       " 'chemicals',\n",
       " 'and',\n",
       " 'petrochemicals',\n",
       " 'market',\n",
       " 'fluctuations',\n",
       " ',',\n",
       " 'thus',\n",
       " ',',\n",
       " 'enabling',\n",
       " 'its',\n",
       " 'customers',\n",
       " 'to',\n",
       " 'make',\n",
       " 'wise',\n",
       " 'business',\n",
       " 'decisions.',\n",
       " 'With',\n",
       " 'over',\n",
       " '450',\n",
       " 'chemical',\n",
       " 'products',\n",
       " 'traded',\n",
       " 'globally',\n",
       " ',',\n",
       " 'we',\n",
       " 'bring',\n",
       " 'detailed',\n",
       " 'market',\n",
       " 'information',\n",
       " 'and',\n",
       " 'pricing',\n",
       " 'data',\n",
       " 'at',\n",
       " 'your',\n",
       " \"fingertip's.\",\n",
       " 'Our',\n",
       " 'real-time',\n",
       " 'pricing',\n",
       " 'and',\n",
       " 'commentary',\n",
       " 'updates',\n",
       " 'enable',\n",
       " 'users',\n",
       " 'to',\n",
       " 'stay',\n",
       " 'acquainted',\n",
       " 'with',\n",
       " 'new',\n",
       " 'commercial',\n",
       " 'opportunities',\n",
       " '.']"
      ]
     },
     "execution_count": 13,
     "metadata": {},
     "output_type": "execute_result"
    }
   ],
   "execution_count": 13
  },
  {
   "metadata": {},
   "cell_type": "markdown",
   "source": "## Stemming",
   "id": "146caf127611f83a"
  },
  {
   "metadata": {
    "ExecuteTime": {
     "end_time": "2025-10-13T05:53:19.905974Z",
     "start_time": "2025-10-13T05:53:19.903972Z"
    }
   },
   "cell_type": "code",
   "source": "from nltk.stem import PorterStemmer",
   "id": "bb7357802b9e7ebe",
   "outputs": [],
   "execution_count": 15
  },
  {
   "metadata": {
    "ExecuteTime": {
     "end_time": "2025-10-13T05:54:41.577436Z",
     "start_time": "2025-10-13T05:54:41.564436Z"
    }
   },
   "cell_type": "code",
   "source": [
    "words = [\"go\", \"gone\", \"going\", \"goes\", \"eats\", \"eating\", \"eat\", \"work\", \"working\", \"worked\"]\n",
    "ps = PorterStemmer()"
   ],
   "id": "2327a97510001c89",
   "outputs": [],
   "execution_count": 16
  },
  {
   "metadata": {
    "ExecuteTime": {
     "end_time": "2025-10-13T05:55:24.476313Z",
     "start_time": "2025-10-13T05:55:24.461313Z"
    }
   },
   "cell_type": "code",
   "source": [
    "for word in words:\n",
    "    print(word, \"-->\", ps.stem(word))"
   ],
   "id": "18db1f8cc1953bde",
   "outputs": [
    {
     "name": "stdout",
     "output_type": "stream",
     "text": [
      "go --> go\n",
      "gone --> gone\n",
      "going --> go\n",
      "goes --> goe\n",
      "eats --> eat\n",
      "eating --> eat\n",
      "eat --> eat\n",
      "work --> work\n",
      "working --> work\n",
      "worked --> work\n"
     ]
    }
   ],
   "execution_count": 19
  },
  {
   "metadata": {
    "ExecuteTime": {
     "end_time": "2025-10-13T05:56:59.623801Z",
     "start_time": "2025-10-13T05:56:59.617673Z"
    }
   },
   "cell_type": "code",
   "source": "from nltk.stem import RegexpStemmer",
   "id": "441303d511ca5a8b",
   "outputs": [],
   "execution_count": 20
  },
  {
   "metadata": {
    "ExecuteTime": {
     "end_time": "2025-10-13T05:58:52.739094Z",
     "start_time": "2025-10-13T05:58:52.733571Z"
    }
   },
   "cell_type": "code",
   "source": [
    "reg = RegexpStemmer('ing$|s$|e$|able$|ed$|es$', min=4)\n",
    "\n",
    "for word in words:\n",
    "    print(word, \"-->\", reg.stem(word))"
   ],
   "id": "d1003f2232a6b915",
   "outputs": [
    {
     "name": "stdout",
     "output_type": "stream",
     "text": [
      "go --> go\n",
      "gone --> gon\n",
      "going --> go\n",
      "goes --> go\n",
      "eats --> eat\n",
      "eating --> eat\n",
      "eat --> eat\n",
      "work --> work\n",
      "working --> work\n",
      "worked --> work\n"
     ]
    }
   ],
   "execution_count": 24
  },
  {
   "metadata": {
    "ExecuteTime": {
     "end_time": "2025-10-13T06:00:21.674411Z",
     "start_time": "2025-10-13T06:00:21.655877Z"
    }
   },
   "cell_type": "code",
   "source": "from nltk.stem import SnowballStemmer",
   "id": "b7a717a23e8cf9de",
   "outputs": [],
   "execution_count": 25
  },
  {
   "metadata": {
    "ExecuteTime": {
     "end_time": "2025-10-13T06:00:55.237800Z",
     "start_time": "2025-10-13T06:00:55.231752Z"
    }
   },
   "cell_type": "code",
   "source": [
    "snow = SnowballStemmer('english')\n",
    "for word in words:\n",
    "    print(word, \"-->\", snow.stem(word))"
   ],
   "id": "72d2cf4e06eccbdb",
   "outputs": [
    {
     "name": "stdout",
     "output_type": "stream",
     "text": [
      "go --> go\n",
      "gone --> gone\n",
      "going --> go\n",
      "goes --> goe\n",
      "eats --> eat\n",
      "eating --> eat\n",
      "eat --> eat\n",
      "work --> work\n",
      "working --> work\n",
      "worked --> work\n"
     ]
    }
   ],
   "execution_count": 27
  },
  {
   "metadata": {},
   "cell_type": "markdown",
   "source": "## Lemmatization",
   "id": "2f4c0d74690e1bf4"
  },
  {
   "metadata": {},
   "cell_type": "code",
   "outputs": [],
   "execution_count": null,
   "source": "",
   "id": "1e644872e4a261f0"
  },
  {
   "metadata": {},
   "cell_type": "markdown",
   "source": "## Stopword removal",
   "id": "42086eab52b15e1"
  },
  {
   "metadata": {},
   "cell_type": "code",
   "outputs": [],
   "execution_count": null,
   "source": "",
   "id": "801b0c549a67ca60"
  }
 ],
 "metadata": {
  "kernelspec": {
   "display_name": "Python 3",
   "language": "python",
   "name": "python3"
  },
  "language_info": {
   "codemirror_mode": {
    "name": "ipython",
    "version": 2
   },
   "file_extension": ".py",
   "mimetype": "text/x-python",
   "name": "python",
   "nbconvert_exporter": "python",
   "pygments_lexer": "ipython2",
   "version": "2.7.6"
  }
 },
 "nbformat": 4,
 "nbformat_minor": 5
}
