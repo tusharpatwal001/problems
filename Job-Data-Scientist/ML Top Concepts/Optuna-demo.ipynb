{
 "cells": [
  {
   "cell_type": "code",
   "id": "initial_id",
   "metadata": {
    "collapsed": true,
    "ExecuteTime": {
     "end_time": "2025-10-13T03:45:31.153213Z",
     "start_time": "2025-10-13T03:45:31.142729Z"
    }
   },
   "source": [
    "import optuna\n",
    "import sklearn.svm\n",
    "import sklearn.datasets\n",
    "import sklearn.ensemble\n",
    "import sklearn.model_selection"
   ],
   "outputs": [],
   "execution_count": 3
  },
  {
   "metadata": {
    "ExecuteTime": {
     "end_time": "2025-10-13T03:55:22.547682Z",
     "start_time": "2025-10-13T03:55:22.532008Z"
    }
   },
   "cell_type": "code",
   "source": [
    "def objective(trial):\n",
    "    x, y = sklearn.datasets.load_iris(return_X_y=True)\n",
    "\n",
    "    classifier = trial.suggest_categorical(\"classifier\", ['SVM', 'RandomForest'])\n",
    "\n",
    "    if classifier == 'SVM':\n",
    "        c = trial.suggest_float(\"c\", 1e-3, 1e3, log=True)\n",
    "        clf = sklearn.svm.SVC(C=c, gamma='auto')\n",
    "    else:\n",
    "        max_depth = trial.suggest_int(\"max_depth\", 2, 10)\n",
    "        n_estimators = trial.suggest_int(\"n_estimators\", 100, 300)\n",
    "        clf = sklearn.ensemble.RandomForestClassifier(max_depth=max_depth, n_estimators=n_estimators)\n",
    "\n",
    "    score = sklearn.model_selection.cross_val_score(clf, x, y, cv=5, n_jobs=-1)\n",
    "    return score.mean()"
   ],
   "id": "2f2e3c6c90a18beb",
   "outputs": [],
   "execution_count": 17
  },
  {
   "metadata": {
    "ExecuteTime": {
     "end_time": "2025-10-13T03:55:29.301977Z",
     "start_time": "2025-10-13T03:55:23.223613Z"
    }
   },
   "cell_type": "code",
   "source": [
    "if __name__ == \"__main__\":\n",
    "    study = optuna.create_study(direction=\"maximize\")\n",
    "    study.optimize(objective, n_trials=100)\n",
    "    print(study.best_trial)"
   ],
   "id": "8cb057169542ae47",
   "outputs": [
    {
     "name": "stderr",
     "output_type": "stream",
     "text": [
      "[I 2025-10-13 09:25:23,223] A new study created in memory with name: no-name-fd3abb48-41dc-4914-af5d-18eb487e31bf\n",
      "[I 2025-10-13 09:25:23,463] Trial 0 finished with value: 0.96 and parameters: {'classifier': 'RandomForest', 'max_depth': 5, 'n_estimators': 222}. Best is trial 0 with value: 0.96.\n",
      "[I 2025-10-13 09:25:23,479] Trial 1 finished with value: 0.9333333333333333 and parameters: {'classifier': 'SVM', 'c': 0.03879814223230404}. Best is trial 0 with value: 0.96.\n",
      "[I 2025-10-13 09:25:23,718] Trial 2 finished with value: 0.9666666666666668 and parameters: {'classifier': 'RandomForest', 'max_depth': 8, 'n_estimators': 231}. Best is trial 2 with value: 0.9666666666666668.\n",
      "[I 2025-10-13 09:25:23,734] Trial 3 finished with value: 0.96 and parameters: {'classifier': 'SVM', 'c': 0.14888657785494133}. Best is trial 2 with value: 0.9666666666666668.\n",
      "[I 2025-10-13 09:25:23,930] Trial 4 finished with value: 0.96 and parameters: {'classifier': 'RandomForest', 'max_depth': 5, 'n_estimators': 171}. Best is trial 2 with value: 0.9666666666666668.\n",
      "[I 2025-10-13 09:25:23,946] Trial 5 finished with value: 0.96 and parameters: {'classifier': 'SVM', 'c': 158.70856264890853}. Best is trial 2 with value: 0.9666666666666668.\n",
      "[I 2025-10-13 09:25:24,077] Trial 6 finished with value: 0.9533333333333334 and parameters: {'classifier': 'RandomForest', 'max_depth': 3, 'n_estimators': 114}. Best is trial 2 with value: 0.9666666666666668.\n",
      "[I 2025-10-13 09:25:24,333] Trial 7 finished with value: 0.9466666666666665 and parameters: {'classifier': 'RandomForest', 'max_depth': 2, 'n_estimators': 256}. Best is trial 2 with value: 0.9666666666666668.\n",
      "[I 2025-10-13 09:25:24,348] Trial 8 finished with value: 0.9333333333333333 and parameters: {'classifier': 'SVM', 'c': 0.02296191336980812}. Best is trial 2 with value: 0.9666666666666668.\n",
      "[I 2025-10-13 09:25:24,480] Trial 9 finished with value: 0.9666666666666668 and parameters: {'classifier': 'RandomForest', 'max_depth': 10, 'n_estimators': 129}. Best is trial 2 with value: 0.9666666666666668.\n",
      "[I 2025-10-13 09:25:24,750] Trial 10 finished with value: 0.96 and parameters: {'classifier': 'RandomForest', 'max_depth': 9, 'n_estimators': 296}. Best is trial 2 with value: 0.9666666666666668.\n",
      "[I 2025-10-13 09:25:24,913] Trial 11 finished with value: 0.9666666666666668 and parameters: {'classifier': 'RandomForest', 'max_depth': 10, 'n_estimators': 159}. Best is trial 2 with value: 0.9666666666666668.\n",
      "[I 2025-10-13 09:25:25,023] Trial 12 finished with value: 0.96 and parameters: {'classifier': 'RandomForest', 'max_depth': 8, 'n_estimators': 109}. Best is trial 2 with value: 0.9666666666666668.\n",
      "[I 2025-10-13 09:25:25,227] Trial 13 finished with value: 0.96 and parameters: {'classifier': 'RandomForest', 'max_depth': 7, 'n_estimators': 213}. Best is trial 2 with value: 0.9666666666666668.\n",
      "[I 2025-10-13 09:25:25,399] Trial 14 finished with value: 0.9666666666666668 and parameters: {'classifier': 'RandomForest', 'max_depth': 10, 'n_estimators': 161}. Best is trial 2 with value: 0.9666666666666668.\n",
      "[I 2025-10-13 09:25:25,654] Trial 15 finished with value: 0.9666666666666668 and parameters: {'classifier': 'RandomForest', 'max_depth': 8, 'n_estimators': 249}. Best is trial 2 with value: 0.9666666666666668.\n",
      "[I 2025-10-13 09:25:25,861] Trial 16 finished with value: 0.9666666666666668 and parameters: {'classifier': 'RandomForest', 'max_depth': 7, 'n_estimators': 182}. Best is trial 2 with value: 0.9666666666666668.\n",
      "[I 2025-10-13 09:25:26,006] Trial 17 finished with value: 0.96 and parameters: {'classifier': 'RandomForest', 'max_depth': 9, 'n_estimators': 136}. Best is trial 2 with value: 0.9666666666666668.\n",
      "[I 2025-10-13 09:25:26,022] Trial 18 finished with value: 0.9533333333333334 and parameters: {'classifier': 'SVM', 'c': 697.027877958764}. Best is trial 2 with value: 0.9666666666666668.\n",
      "[I 2025-10-13 09:25:26,273] Trial 19 finished with value: 0.96 and parameters: {'classifier': 'RandomForest', 'max_depth': 10, 'n_estimators': 249}. Best is trial 2 with value: 0.9666666666666668.\n",
      "[I 2025-10-13 09:25:26,499] Trial 20 finished with value: 0.96 and parameters: {'classifier': 'RandomForest', 'max_depth': 6, 'n_estimators': 201}. Best is trial 2 with value: 0.9666666666666668.\n",
      "[I 2025-10-13 09:25:26,655] Trial 21 finished with value: 0.9666666666666668 and parameters: {'classifier': 'RandomForest', 'max_depth': 10, 'n_estimators': 143}. Best is trial 2 with value: 0.9666666666666668.\n",
      "[I 2025-10-13 09:25:26,812] Trial 22 finished with value: 0.96 and parameters: {'classifier': 'RandomForest', 'max_depth': 9, 'n_estimators': 139}. Best is trial 2 with value: 0.9666666666666668.\n",
      "[I 2025-10-13 09:25:27,006] Trial 23 finished with value: 0.96 and parameters: {'classifier': 'RandomForest', 'max_depth': 8, 'n_estimators': 187}. Best is trial 2 with value: 0.9666666666666668.\n",
      "[I 2025-10-13 09:25:27,179] Trial 24 finished with value: 0.96 and parameters: {'classifier': 'RandomForest', 'max_depth': 10, 'n_estimators': 160}. Best is trial 2 with value: 0.9666666666666668.\n",
      "[I 2025-10-13 09:25:27,320] Trial 25 finished with value: 0.96 and parameters: {'classifier': 'RandomForest', 'max_depth': 9, 'n_estimators': 122}. Best is trial 2 with value: 0.9666666666666668.\n",
      "[I 2025-10-13 09:25:27,335] Trial 26 finished with value: 0.9800000000000001 and parameters: {'classifier': 'SVM', 'c': 6.7389254749452725}. Best is trial 26 with value: 0.9800000000000001.\n",
      "[I 2025-10-13 09:25:27,351] Trial 27 finished with value: 0.9800000000000001 and parameters: {'classifier': 'SVM', 'c': 4.169633001212044}. Best is trial 26 with value: 0.9800000000000001.\n",
      "[I 2025-10-13 09:25:27,371] Trial 28 finished with value: 0.9800000000000001 and parameters: {'classifier': 'SVM', 'c': 7.817519323069202}. Best is trial 26 with value: 0.9800000000000001.\n",
      "[I 2025-10-13 09:25:27,392] Trial 29 finished with value: 0.9800000000000001 and parameters: {'classifier': 'SVM', 'c': 6.426046847883416}. Best is trial 26 with value: 0.9800000000000001.\n",
      "[I 2025-10-13 09:25:27,408] Trial 30 finished with value: 0.9800000000000001 and parameters: {'classifier': 'SVM', 'c': 6.646541791631019}. Best is trial 26 with value: 0.9800000000000001.\n",
      "[I 2025-10-13 09:25:27,424] Trial 31 finished with value: 0.9800000000000001 and parameters: {'classifier': 'SVM', 'c': 5.195224165793943}. Best is trial 26 with value: 0.9800000000000001.\n",
      "[I 2025-10-13 09:25:27,444] Trial 32 finished with value: 0.9800000000000001 and parameters: {'classifier': 'SVM', 'c': 9.690270885923411}. Best is trial 26 with value: 0.9800000000000001.\n",
      "[I 2025-10-13 09:25:27,459] Trial 33 finished with value: 0.9800000000000001 and parameters: {'classifier': 'SVM', 'c': 1.1474791852959279}. Best is trial 26 with value: 0.9800000000000001.\n",
      "[I 2025-10-13 09:25:27,475] Trial 34 finished with value: 0.9666666666666666 and parameters: {'classifier': 'SVM', 'c': 37.138932789492856}. Best is trial 26 with value: 0.9800000000000001.\n",
      "[I 2025-10-13 09:25:27,491] Trial 35 finished with value: 0.9800000000000001 and parameters: {'classifier': 'SVM', 'c': 0.8378634064769157}. Best is trial 26 with value: 0.9800000000000001.\n",
      "[I 2025-10-13 09:25:27,507] Trial 36 finished with value: 0.9866666666666667 and parameters: {'classifier': 'SVM', 'c': 1.7339690144845599}. Best is trial 36 with value: 0.9866666666666667.\n",
      "[I 2025-10-13 09:25:27,538] Trial 37 finished with value: 0.9800000000000001 and parameters: {'classifier': 'SVM', 'c': 0.668639563054907}. Best is trial 36 with value: 0.9866666666666667.\n",
      "[I 2025-10-13 09:25:27,569] Trial 38 finished with value: 0.9666666666666666 and parameters: {'classifier': 'SVM', 'c': 38.328173515156884}. Best is trial 36 with value: 0.9866666666666667.\n",
      "[I 2025-10-13 09:25:27,600] Trial 39 finished with value: 0.9866666666666667 and parameters: {'classifier': 'SVM', 'c': 1.7004034767731797}. Best is trial 36 with value: 0.9866666666666667.\n",
      "[I 2025-10-13 09:25:27,631] Trial 40 finished with value: 0.9333333333333333 and parameters: {'classifier': 'SVM', 'c': 0.0019202850098892384}. Best is trial 36 with value: 0.9866666666666667.\n",
      "[I 2025-10-13 09:25:27,662] Trial 41 finished with value: 0.9800000000000001 and parameters: {'classifier': 'SVM', 'c': 1.837155279010933}. Best is trial 36 with value: 0.9866666666666667.\n",
      "[I 2025-10-13 09:25:27,693] Trial 42 finished with value: 0.9666666666666668 and parameters: {'classifier': 'SVM', 'c': 24.664950126231968}. Best is trial 36 with value: 0.9866666666666667.\n",
      "[I 2025-10-13 09:25:27,709] Trial 43 finished with value: 0.9800000000000001 and parameters: {'classifier': 'SVM', 'c': 1.9828564935245214}. Best is trial 36 with value: 0.9866666666666667.\n",
      "[I 2025-10-13 09:25:27,741] Trial 44 finished with value: 0.96 and parameters: {'classifier': 'SVM', 'c': 0.2720486330961626}. Best is trial 36 with value: 0.9866666666666667.\n",
      "[I 2025-10-13 09:25:27,772] Trial 45 finished with value: 0.9733333333333334 and parameters: {'classifier': 'SVM', 'c': 2.73716025243533}. Best is trial 36 with value: 0.9866666666666667.\n",
      "[I 2025-10-13 09:25:27,803] Trial 46 finished with value: 0.9666666666666668 and parameters: {'classifier': 'SVM', 'c': 19.91044731728168}. Best is trial 36 with value: 0.9866666666666667.\n",
      "[I 2025-10-13 09:25:27,834] Trial 47 finished with value: 0.9666666666666666 and parameters: {'classifier': 'SVM', 'c': 0.3634912820693402}. Best is trial 36 with value: 0.9866666666666667.\n",
      "[I 2025-10-13 09:25:27,866] Trial 48 finished with value: 0.96 and parameters: {'classifier': 'SVM', 'c': 91.1176174556959}. Best is trial 36 with value: 0.9866666666666667.\n",
      "[I 2025-10-13 09:25:27,896] Trial 49 finished with value: 0.9866666666666667 and parameters: {'classifier': 'SVM', 'c': 3.961384364761725}. Best is trial 36 with value: 0.9866666666666667.\n",
      "[I 2025-10-13 09:25:27,917] Trial 50 finished with value: 0.9733333333333334 and parameters: {'classifier': 'SVM', 'c': 2.848898420868082}. Best is trial 36 with value: 0.9866666666666667.\n",
      "[I 2025-10-13 09:25:27,933] Trial 51 finished with value: 0.9800000000000001 and parameters: {'classifier': 'SVM', 'c': 11.896807112825508}. Best is trial 36 with value: 0.9866666666666667.\n",
      "[I 2025-10-13 09:25:27,953] Trial 52 finished with value: 0.9866666666666667 and parameters: {'classifier': 'SVM', 'c': 3.810902087501218}. Best is trial 36 with value: 0.9866666666666667.\n",
      "[I 2025-10-13 09:25:27,974] Trial 53 finished with value: 0.9866666666666667 and parameters: {'classifier': 'SVM', 'c': 3.1891584253006022}. Best is trial 36 with value: 0.9866666666666667.\n",
      "[I 2025-10-13 09:25:27,997] Trial 54 finished with value: 0.9800000000000001 and parameters: {'classifier': 'SVM', 'c': 0.8606973621789266}. Best is trial 36 with value: 0.9866666666666667.\n",
      "[I 2025-10-13 09:25:28,013] Trial 55 finished with value: 0.9400000000000001 and parameters: {'classifier': 'SVM', 'c': 0.07931023488695636}. Best is trial 36 with value: 0.9866666666666667.\n",
      "[I 2025-10-13 09:25:28,044] Trial 56 finished with value: 0.9800000000000001 and parameters: {'classifier': 'SVM', 'c': 1.993496125154352}. Best is trial 36 with value: 0.9866666666666667.\n",
      "[I 2025-10-13 09:25:28,076] Trial 57 finished with value: 0.9733333333333334 and parameters: {'classifier': 'SVM', 'c': 0.38103383640156707}. Best is trial 36 with value: 0.9866666666666667.\n",
      "[I 2025-10-13 09:25:28,096] Trial 58 finished with value: 0.9800000000000001 and parameters: {'classifier': 'SVM', 'c': 1.23519662069661}. Best is trial 36 with value: 0.9866666666666667.\n",
      "[I 2025-10-13 09:25:28,117] Trial 59 finished with value: 0.9733333333333334 and parameters: {'classifier': 'SVM', 'c': 13.685602268958352}. Best is trial 36 with value: 0.9866666666666667.\n",
      "[I 2025-10-13 09:25:28,139] Trial 60 finished with value: 0.96 and parameters: {'classifier': 'SVM', 'c': 69.20275444890156}. Best is trial 36 with value: 0.9866666666666667.\n",
      "[I 2025-10-13 09:25:28,155] Trial 61 finished with value: 0.9866666666666667 and parameters: {'classifier': 'SVM', 'c': 4.042735806238152}. Best is trial 36 with value: 0.9866666666666667.\n",
      "[I 2025-10-13 09:25:28,170] Trial 62 finished with value: 0.9866666666666667 and parameters: {'classifier': 'SVM', 'c': 4.02732586617405}. Best is trial 36 with value: 0.9866666666666667.\n",
      "[I 2025-10-13 09:25:28,186] Trial 63 finished with value: 0.9866666666666667 and parameters: {'classifier': 'SVM', 'c': 4.047596476929764}. Best is trial 36 with value: 0.9866666666666667.\n",
      "[I 2025-10-13 09:25:28,207] Trial 64 finished with value: 0.9800000000000001 and parameters: {'classifier': 'SVM', 'c': 3.0688111861980536}. Best is trial 36 with value: 0.9866666666666667.\n",
      "[I 2025-10-13 09:25:28,228] Trial 65 finished with value: 0.9800000000000001 and parameters: {'classifier': 'SVM', 'c': 4.369046844234526}. Best is trial 36 with value: 0.9866666666666667.\n",
      "[I 2025-10-13 09:25:28,244] Trial 66 finished with value: 0.9800000000000001 and parameters: {'classifier': 'SVM', 'c': 0.5841516319547531}. Best is trial 36 with value: 0.9866666666666667.\n",
      "[I 2025-10-13 09:25:28,265] Trial 67 finished with value: 0.9866666666666667 and parameters: {'classifier': 'SVM', 'c': 1.5110452738553657}. Best is trial 36 with value: 0.9866666666666667.\n",
      "[I 2025-10-13 09:25:28,285] Trial 68 finished with value: 0.96 and parameters: {'classifier': 'SVM', 'c': 0.14061253731659726}. Best is trial 36 with value: 0.9866666666666667.\n",
      "[I 2025-10-13 09:25:28,306] Trial 69 finished with value: 0.9800000000000001 and parameters: {'classifier': 'SVM', 'c': 7.519836878757566}. Best is trial 36 with value: 0.9866666666666667.\n",
      "[I 2025-10-13 09:25:28,328] Trial 70 finished with value: 0.9533333333333334 and parameters: {'classifier': 'SVM', 'c': 292.37896136814925}. Best is trial 36 with value: 0.9866666666666667.\n",
      "[I 2025-10-13 09:25:28,344] Trial 71 finished with value: 0.9800000000000001 and parameters: {'classifier': 'SVM', 'c': 4.929314613314396}. Best is trial 36 with value: 0.9866666666666667.\n",
      "[I 2025-10-13 09:25:28,375] Trial 72 finished with value: 0.9866666666666667 and parameters: {'classifier': 'SVM', 'c': 3.7981443041655236}. Best is trial 36 with value: 0.9866666666666667.\n",
      "[I 2025-10-13 09:25:28,407] Trial 73 finished with value: 0.9800000000000001 and parameters: {'classifier': 'SVM', 'c': 11.512061619586364}. Best is trial 36 with value: 0.9866666666666667.\n",
      "[I 2025-10-13 09:25:28,438] Trial 74 finished with value: 0.9800000000000001 and parameters: {'classifier': 'SVM', 'c': 6.4049331173622495}. Best is trial 36 with value: 0.9866666666666667.\n",
      "[I 2025-10-13 09:25:28,469] Trial 75 finished with value: 0.9800000000000001 and parameters: {'classifier': 'SVM', 'c': 1.3955306184248664}. Best is trial 36 with value: 0.9866666666666667.\n",
      "[I 2025-10-13 09:25:28,501] Trial 76 finished with value: 0.9733333333333334 and parameters: {'classifier': 'SVM', 'c': 3.008449726897961}. Best is trial 36 with value: 0.9866666666666667.\n",
      "[I 2025-10-13 09:25:28,533] Trial 77 finished with value: 0.9733333333333334 and parameters: {'classifier': 'SVM', 'c': 17.640871277763026}. Best is trial 36 with value: 0.9866666666666667.\n",
      "[I 2025-10-13 09:25:28,564] Trial 78 finished with value: 0.9800000000000001 and parameters: {'classifier': 'SVM', 'c': 0.5400760933546875}. Best is trial 36 with value: 0.9866666666666667.\n",
      "[I 2025-10-13 09:25:28,580] Trial 79 finished with value: 0.9800000000000001 and parameters: {'classifier': 'SVM', 'c': 1.018135705536229}. Best is trial 36 with value: 0.9866666666666667.\n",
      "[I 2025-10-13 09:25:28,611] Trial 80 finished with value: 0.9800000000000001 and parameters: {'classifier': 'SVM', 'c': 8.35137346958803}. Best is trial 36 with value: 0.9866666666666667.\n",
      "[I 2025-10-13 09:25:28,642] Trial 81 finished with value: 0.9800000000000001 and parameters: {'classifier': 'SVM', 'c': 1.9498600065534808}. Best is trial 36 with value: 0.9866666666666667.\n",
      "[I 2025-10-13 09:25:28,673] Trial 82 finished with value: 0.9866666666666667 and parameters: {'classifier': 'SVM', 'c': 1.5819762631253511}. Best is trial 36 with value: 0.9866666666666667.\n",
      "[I 2025-10-13 09:25:28,689] Trial 83 finished with value: 0.9800000000000001 and parameters: {'classifier': 'SVM', 'c': 4.719280880436032}. Best is trial 36 with value: 0.9866666666666667.\n",
      "[I 2025-10-13 09:25:28,720] Trial 84 finished with value: 0.9800000000000001 and parameters: {'classifier': 'SVM', 'c': 2.2642750539481797}. Best is trial 36 with value: 0.9866666666666667.\n",
      "[I 2025-10-13 09:25:28,751] Trial 85 finished with value: 0.9800000000000001 and parameters: {'classifier': 'SVM', 'c': 0.8263681393034008}. Best is trial 36 with value: 0.9866666666666667.\n",
      "[I 2025-10-13 09:25:28,782] Trial 86 finished with value: 0.9333333333333333 and parameters: {'classifier': 'SVM', 'c': 0.00783579257328463}. Best is trial 36 with value: 0.9866666666666667.\n",
      "[I 2025-10-13 09:25:28,813] Trial 87 finished with value: 0.9866666666666667 and parameters: {'classifier': 'SVM', 'c': 3.962688641651626}. Best is trial 36 with value: 0.9866666666666667.\n",
      "[I 2025-10-13 09:25:28,845] Trial 88 finished with value: 0.9800000000000001 and parameters: {'classifier': 'SVM', 'c': 1.2068971580195842}. Best is trial 36 with value: 0.9866666666666667.\n",
      "[I 2025-10-13 09:25:29,117] Trial 89 finished with value: 0.9666666666666668 and parameters: {'classifier': 'RandomForest', 'max_depth': 4, 'n_estimators': 297}. Best is trial 36 with value: 0.9866666666666667.\n",
      "[I 2025-10-13 09:25:29,138] Trial 90 finished with value: 0.9800000000000001 and parameters: {'classifier': 'SVM', 'c': 6.647492600469169}. Best is trial 36 with value: 0.9866666666666667.\n",
      "[I 2025-10-13 09:25:29,154] Trial 91 finished with value: 0.9866666666666667 and parameters: {'classifier': 'SVM', 'c': 3.905484726252916}. Best is trial 36 with value: 0.9866666666666667.\n",
      "[I 2025-10-13 09:25:29,175] Trial 92 finished with value: 0.9800000000000001 and parameters: {'classifier': 'SVM', 'c': 3.064598513879927}. Best is trial 36 with value: 0.9866666666666667.\n",
      "[I 2025-10-13 09:25:29,197] Trial 93 finished with value: 0.9800000000000001 and parameters: {'classifier': 'SVM', 'c': 2.036652722077664}. Best is trial 36 with value: 0.9866666666666667.\n",
      "[I 2025-10-13 09:25:29,213] Trial 94 finished with value: 0.9666666666666668 and parameters: {'classifier': 'SVM', 'c': 28.67624990775441}. Best is trial 36 with value: 0.9866666666666667.\n",
      "[I 2025-10-13 09:25:29,229] Trial 95 finished with value: 0.9800000000000001 and parameters: {'classifier': 'SVM', 'c': 9.707377988913048}. Best is trial 36 with value: 0.9866666666666667.\n",
      "[I 2025-10-13 09:25:29,244] Trial 96 finished with value: 0.9800000000000001 and parameters: {'classifier': 'SVM', 'c': 1.3986772848214466}. Best is trial 36 with value: 0.9866666666666667.\n",
      "[I 2025-10-13 09:25:29,260] Trial 97 finished with value: 0.9866666666666667 and parameters: {'classifier': 'SVM', 'c': 3.230716129236919}. Best is trial 36 with value: 0.9866666666666667.\n",
      "[I 2025-10-13 09:25:29,281] Trial 98 finished with value: 0.9800000000000001 and parameters: {'classifier': 'SVM', 'c': 5.673493316890735}. Best is trial 36 with value: 0.9866666666666667.\n",
      "[I 2025-10-13 09:25:29,296] Trial 99 finished with value: 0.9733333333333334 and parameters: {'classifier': 'SVM', 'c': 15.461254511785418}. Best is trial 36 with value: 0.9866666666666667.\n"
     ]
    },
    {
     "name": "stdout",
     "output_type": "stream",
     "text": [
      "FrozenTrial(number=36, state=TrialState.COMPLETE, values=[0.9866666666666667], datetime_start=datetime.datetime(2025, 10, 13, 9, 25, 27, 492430), datetime_complete=datetime.datetime(2025, 10, 13, 9, 25, 27, 507429), params={'classifier': 'SVM', 'c': 1.7339690144845599}, user_attrs={}, system_attrs={}, intermediate_values={}, distributions={'classifier': CategoricalDistribution(choices=('SVM', 'RandomForest')), 'c': FloatDistribution(high=1000.0, log=True, low=0.001, step=None)}, trial_id=36, value=None)\n"
     ]
    }
   ],
   "execution_count": 18
  },
  {
   "metadata": {
    "ExecuteTime": {
     "end_time": "2025-10-13T03:55:30.371177Z",
     "start_time": "2025-10-13T03:55:30.357861Z"
    }
   },
   "cell_type": "code",
   "source": "study.best_params",
   "id": "7429ee9692796c9c",
   "outputs": [
    {
     "data": {
      "text/plain": [
       "{'classifier': 'SVM', 'c': 1.7339690144845599}"
      ]
     },
     "execution_count": 19,
     "metadata": {},
     "output_type": "execute_result"
    }
   ],
   "execution_count": 19
  },
  {
   "metadata": {
    "ExecuteTime": {
     "end_time": "2025-10-13T03:55:31.015949Z",
     "start_time": "2025-10-13T03:55:30.985870Z"
    }
   },
   "cell_type": "code",
   "source": "study.best_value",
   "id": "287e1ae300912806",
   "outputs": [
    {
     "data": {
      "text/plain": [
       "0.9866666666666667"
      ]
     },
     "execution_count": 20,
     "metadata": {},
     "output_type": "execute_result"
    }
   ],
   "execution_count": 20
  },
  {
   "metadata": {
    "ExecuteTime": {
     "end_time": "2025-10-13T03:55:31.831143Z",
     "start_time": "2025-10-13T03:55:31.815510Z"
    }
   },
   "cell_type": "code",
   "source": "study.best_trial",
   "id": "9d67b2d5e2bfcdca",
   "outputs": [
    {
     "data": {
      "text/plain": [
       "FrozenTrial(number=36, state=TrialState.COMPLETE, values=[0.9866666666666667], datetime_start=datetime.datetime(2025, 10, 13, 9, 25, 27, 492430), datetime_complete=datetime.datetime(2025, 10, 13, 9, 25, 27, 507429), params={'classifier': 'SVM', 'c': 1.7339690144845599}, user_attrs={}, system_attrs={}, intermediate_values={}, distributions={'classifier': CategoricalDistribution(choices=('SVM', 'RandomForest')), 'c': FloatDistribution(high=1000.0, log=True, low=0.001, step=None)}, trial_id=36, value=None)"
      ]
     },
     "execution_count": 21,
     "metadata": {},
     "output_type": "execute_result"
    }
   ],
   "execution_count": 21
  },
  {
   "metadata": {
    "ExecuteTime": {
     "end_time": "2025-10-13T03:55:32.522769Z",
     "start_time": "2025-10-13T03:55:32.482414Z"
    }
   },
   "cell_type": "code",
   "source": [
    "from optuna.visualization import plot_optimization_history\n",
    "\n",
    "# study = optuna.create_study(direction=\"minimize\")\n",
    "# study.optimize(objective, n_trials=50)\n",
    "\n",
    "fig = plot_optimization_history(study)\n",
    "fig.show()"
   ],
   "id": "c05e52836eb93178",
   "outputs": [
    {
     "data": {
      "application/vnd.plotly.v1+json": {
       "data": [
        {
         "mode": "markers",
         "name": "Objective Value",
         "x": [
          0,
          1,
          2,
          3,
          4,
          5,
          6,
          7,
          8,
          9,
          10,
          11,
          12,
          13,
          14,
          15,
          16,
          17,
          18,
          19,
          20,
          21,
          22,
          23,
          24,
          25,
          26,
          27,
          28,
          29,
          30,
          31,
          32,
          33,
          34,
          35,
          36,
          37,
          38,
          39,
          40,
          41,
          42,
          43,
          44,
          45,
          46,
          47,
          48,
          49,
          50,
          51,
          52,
          53,
          54,
          55,
          56,
          57,
          58,
          59,
          60,
          61,
          62,
          63,
          64,
          65,
          66,
          67,
          68,
          69,
          70,
          71,
          72,
          73,
          74,
          75,
          76,
          77,
          78,
          79,
          80,
          81,
          82,
          83,
          84,
          85,
          86,
          87,
          88,
          89,
          90,
          91,
          92,
          93,
          94,
          95,
          96,
          97,
          98,
          99
         ],
         "y": [
          0.96,
          0.9333333333333333,
          0.9666666666666668,
          0.96,
          0.96,
          0.96,
          0.9533333333333334,
          0.9466666666666665,
          0.9333333333333333,
          0.9666666666666668,
          0.96,
          0.9666666666666668,
          0.96,
          0.96,
          0.9666666666666668,
          0.9666666666666668,
          0.9666666666666668,
          0.96,
          0.9533333333333334,
          0.96,
          0.96,
          0.9666666666666668,
          0.96,
          0.96,
          0.96,
          0.96,
          0.9800000000000001,
          0.9800000000000001,
          0.9800000000000001,
          0.9800000000000001,
          0.9800000000000001,
          0.9800000000000001,
          0.9800000000000001,
          0.9800000000000001,
          0.9666666666666666,
          0.9800000000000001,
          0.9866666666666667,
          0.9800000000000001,
          0.9666666666666666,
          0.9866666666666667,
          0.9333333333333333,
          0.9800000000000001,
          0.9666666666666668,
          0.9800000000000001,
          0.96,
          0.9733333333333334,
          0.9666666666666668,
          0.9666666666666666,
          0.96,
          0.9866666666666667,
          0.9733333333333334,
          0.9800000000000001,
          0.9866666666666667,
          0.9866666666666667,
          0.9800000000000001,
          0.9400000000000001,
          0.9800000000000001,
          0.9733333333333334,
          0.9800000000000001,
          0.9733333333333334,
          0.96,
          0.9866666666666667,
          0.9866666666666667,
          0.9866666666666667,
          0.9800000000000001,
          0.9800000000000001,
          0.9800000000000001,
          0.9866666666666667,
          0.96,
          0.9800000000000001,
          0.9533333333333334,
          0.9800000000000001,
          0.9866666666666667,
          0.9800000000000001,
          0.9800000000000001,
          0.9800000000000001,
          0.9733333333333334,
          0.9733333333333334,
          0.9800000000000001,
          0.9800000000000001,
          0.9800000000000001,
          0.9800000000000001,
          0.9866666666666667,
          0.9800000000000001,
          0.9800000000000001,
          0.9800000000000001,
          0.9333333333333333,
          0.9866666666666667,
          0.9800000000000001,
          0.9666666666666668,
          0.9800000000000001,
          0.9866666666666667,
          0.9800000000000001,
          0.9800000000000001,
          0.9666666666666668,
          0.9800000000000001,
          0.9800000000000001,
          0.9866666666666667,
          0.9800000000000001,
          0.9733333333333334
         ],
         "type": "scatter"
        },
        {
         "mode": "lines",
         "name": "Best Value",
         "x": [
          0,
          1,
          2,
          3,
          4,
          5,
          6,
          7,
          8,
          9,
          10,
          11,
          12,
          13,
          14,
          15,
          16,
          17,
          18,
          19,
          20,
          21,
          22,
          23,
          24,
          25,
          26,
          27,
          28,
          29,
          30,
          31,
          32,
          33,
          34,
          35,
          36,
          37,
          38,
          39,
          40,
          41,
          42,
          43,
          44,
          45,
          46,
          47,
          48,
          49,
          50,
          51,
          52,
          53,
          54,
          55,
          56,
          57,
          58,
          59,
          60,
          61,
          62,
          63,
          64,
          65,
          66,
          67,
          68,
          69,
          70,
          71,
          72,
          73,
          74,
          75,
          76,
          77,
          78,
          79,
          80,
          81,
          82,
          83,
          84,
          85,
          86,
          87,
          88,
          89,
          90,
          91,
          92,
          93,
          94,
          95,
          96,
          97,
          98,
          99
         ],
         "y": [
          0.96,
          0.96,
          0.9666666666666668,
          0.9666666666666668,
          0.9666666666666668,
          0.9666666666666668,
          0.9666666666666668,
          0.9666666666666668,
          0.9666666666666668,
          0.9666666666666668,
          0.9666666666666668,
          0.9666666666666668,
          0.9666666666666668,
          0.9666666666666668,
          0.9666666666666668,
          0.9666666666666668,
          0.9666666666666668,
          0.9666666666666668,
          0.9666666666666668,
          0.9666666666666668,
          0.9666666666666668,
          0.9666666666666668,
          0.9666666666666668,
          0.9666666666666668,
          0.9666666666666668,
          0.9666666666666668,
          0.9800000000000001,
          0.9800000000000001,
          0.9800000000000001,
          0.9800000000000001,
          0.9800000000000001,
          0.9800000000000001,
          0.9800000000000001,
          0.9800000000000001,
          0.9800000000000001,
          0.9800000000000001,
          0.9866666666666667,
          0.9866666666666667,
          0.9866666666666667,
          0.9866666666666667,
          0.9866666666666667,
          0.9866666666666667,
          0.9866666666666667,
          0.9866666666666667,
          0.9866666666666667,
          0.9866666666666667,
          0.9866666666666667,
          0.9866666666666667,
          0.9866666666666667,
          0.9866666666666667,
          0.9866666666666667,
          0.9866666666666667,
          0.9866666666666667,
          0.9866666666666667,
          0.9866666666666667,
          0.9866666666666667,
          0.9866666666666667,
          0.9866666666666667,
          0.9866666666666667,
          0.9866666666666667,
          0.9866666666666667,
          0.9866666666666667,
          0.9866666666666667,
          0.9866666666666667,
          0.9866666666666667,
          0.9866666666666667,
          0.9866666666666667,
          0.9866666666666667,
          0.9866666666666667,
          0.9866666666666667,
          0.9866666666666667,
          0.9866666666666667,
          0.9866666666666667,
          0.9866666666666667,
          0.9866666666666667,
          0.9866666666666667,
          0.9866666666666667,
          0.9866666666666667,
          0.9866666666666667,
          0.9866666666666667,
          0.9866666666666667,
          0.9866666666666667,
          0.9866666666666667,
          0.9866666666666667,
          0.9866666666666667,
          0.9866666666666667,
          0.9866666666666667,
          0.9866666666666667,
          0.9866666666666667,
          0.9866666666666667,
          0.9866666666666667,
          0.9866666666666667,
          0.9866666666666667,
          0.9866666666666667,
          0.9866666666666667,
          0.9866666666666667,
          0.9866666666666667,
          0.9866666666666667,
          0.9866666666666667,
          0.9866666666666667
         ],
         "type": "scatter"
        },
        {
         "marker": {
          "color": "#cccccc"
         },
         "mode": "markers",
         "name": "Infeasible Trial",
         "showlegend": false,
         "x": [],
         "y": [],
         "type": "scatter"
        }
       ],
       "layout": {
        "title": {
         "text": "Optimization History Plot"
        },
        "xaxis": {
         "title": {
          "text": "Trial"
         }
        },
        "yaxis": {
         "title": {
          "text": "Objective Value"
         }
        },
        "template": {
         "data": {
          "histogram2dcontour": [
           {
            "type": "histogram2dcontour",
            "colorbar": {
             "outlinewidth": 0,
             "ticks": ""
            },
            "colorscale": [
             [
              0.0,
              "#0d0887"
             ],
             [
              0.1111111111111111,
              "#46039f"
             ],
             [
              0.2222222222222222,
              "#7201a8"
             ],
             [
              0.3333333333333333,
              "#9c179e"
             ],
             [
              0.4444444444444444,
              "#bd3786"
             ],
             [
              0.5555555555555556,
              "#d8576b"
             ],
             [
              0.6666666666666666,
              "#ed7953"
             ],
             [
              0.7777777777777778,
              "#fb9f3a"
             ],
             [
              0.8888888888888888,
              "#fdca26"
             ],
             [
              1.0,
              "#f0f921"
             ]
            ]
           }
          ],
          "choropleth": [
           {
            "type": "choropleth",
            "colorbar": {
             "outlinewidth": 0,
             "ticks": ""
            }
           }
          ],
          "histogram2d": [
           {
            "type": "histogram2d",
            "colorbar": {
             "outlinewidth": 0,
             "ticks": ""
            },
            "colorscale": [
             [
              0.0,
              "#0d0887"
             ],
             [
              0.1111111111111111,
              "#46039f"
             ],
             [
              0.2222222222222222,
              "#7201a8"
             ],
             [
              0.3333333333333333,
              "#9c179e"
             ],
             [
              0.4444444444444444,
              "#bd3786"
             ],
             [
              0.5555555555555556,
              "#d8576b"
             ],
             [
              0.6666666666666666,
              "#ed7953"
             ],
             [
              0.7777777777777778,
              "#fb9f3a"
             ],
             [
              0.8888888888888888,
              "#fdca26"
             ],
             [
              1.0,
              "#f0f921"
             ]
            ]
           }
          ],
          "heatmap": [
           {
            "type": "heatmap",
            "colorbar": {
             "outlinewidth": 0,
             "ticks": ""
            },
            "colorscale": [
             [
              0.0,
              "#0d0887"
             ],
             [
              0.1111111111111111,
              "#46039f"
             ],
             [
              0.2222222222222222,
              "#7201a8"
             ],
             [
              0.3333333333333333,
              "#9c179e"
             ],
             [
              0.4444444444444444,
              "#bd3786"
             ],
             [
              0.5555555555555556,
              "#d8576b"
             ],
             [
              0.6666666666666666,
              "#ed7953"
             ],
             [
              0.7777777777777778,
              "#fb9f3a"
             ],
             [
              0.8888888888888888,
              "#fdca26"
             ],
             [
              1.0,
              "#f0f921"
             ]
            ]
           }
          ],
          "contourcarpet": [
           {
            "type": "contourcarpet",
            "colorbar": {
             "outlinewidth": 0,
             "ticks": ""
            }
           }
          ],
          "contour": [
           {
            "type": "contour",
            "colorbar": {
             "outlinewidth": 0,
             "ticks": ""
            },
            "colorscale": [
             [
              0.0,
              "#0d0887"
             ],
             [
              0.1111111111111111,
              "#46039f"
             ],
             [
              0.2222222222222222,
              "#7201a8"
             ],
             [
              0.3333333333333333,
              "#9c179e"
             ],
             [
              0.4444444444444444,
              "#bd3786"
             ],
             [
              0.5555555555555556,
              "#d8576b"
             ],
             [
              0.6666666666666666,
              "#ed7953"
             ],
             [
              0.7777777777777778,
              "#fb9f3a"
             ],
             [
              0.8888888888888888,
              "#fdca26"
             ],
             [
              1.0,
              "#f0f921"
             ]
            ]
           }
          ],
          "surface": [
           {
            "type": "surface",
            "colorbar": {
             "outlinewidth": 0,
             "ticks": ""
            },
            "colorscale": [
             [
              0.0,
              "#0d0887"
             ],
             [
              0.1111111111111111,
              "#46039f"
             ],
             [
              0.2222222222222222,
              "#7201a8"
             ],
             [
              0.3333333333333333,
              "#9c179e"
             ],
             [
              0.4444444444444444,
              "#bd3786"
             ],
             [
              0.5555555555555556,
              "#d8576b"
             ],
             [
              0.6666666666666666,
              "#ed7953"
             ],
             [
              0.7777777777777778,
              "#fb9f3a"
             ],
             [
              0.8888888888888888,
              "#fdca26"
             ],
             [
              1.0,
              "#f0f921"
             ]
            ]
           }
          ],
          "mesh3d": [
           {
            "type": "mesh3d",
            "colorbar": {
             "outlinewidth": 0,
             "ticks": ""
            }
           }
          ],
          "scatter": [
           {
            "fillpattern": {
             "fillmode": "overlay",
             "size": 10,
             "solidity": 0.2
            },
            "type": "scatter"
           }
          ],
          "parcoords": [
           {
            "type": "parcoords",
            "line": {
             "colorbar": {
              "outlinewidth": 0,
              "ticks": ""
             }
            }
           }
          ],
          "scatterpolargl": [
           {
            "type": "scatterpolargl",
            "marker": {
             "colorbar": {
              "outlinewidth": 0,
              "ticks": ""
             }
            }
           }
          ],
          "bar": [
           {
            "error_x": {
             "color": "#2a3f5f"
            },
            "error_y": {
             "color": "#2a3f5f"
            },
            "marker": {
             "line": {
              "color": "#E5ECF6",
              "width": 0.5
             },
             "pattern": {
              "fillmode": "overlay",
              "size": 10,
              "solidity": 0.2
             }
            },
            "type": "bar"
           }
          ],
          "scattergeo": [
           {
            "type": "scattergeo",
            "marker": {
             "colorbar": {
              "outlinewidth": 0,
              "ticks": ""
             }
            }
           }
          ],
          "scatterpolar": [
           {
            "type": "scatterpolar",
            "marker": {
             "colorbar": {
              "outlinewidth": 0,
              "ticks": ""
             }
            }
           }
          ],
          "histogram": [
           {
            "marker": {
             "pattern": {
              "fillmode": "overlay",
              "size": 10,
              "solidity": 0.2
             }
            },
            "type": "histogram"
           }
          ],
          "scattergl": [
           {
            "type": "scattergl",
            "marker": {
             "colorbar": {
              "outlinewidth": 0,
              "ticks": ""
             }
            }
           }
          ],
          "scatter3d": [
           {
            "type": "scatter3d",
            "line": {
             "colorbar": {
              "outlinewidth": 0,
              "ticks": ""
             }
            },
            "marker": {
             "colorbar": {
              "outlinewidth": 0,
              "ticks": ""
             }
            }
           }
          ],
          "scattermap": [
           {
            "type": "scattermap",
            "marker": {
             "colorbar": {
              "outlinewidth": 0,
              "ticks": ""
             }
            }
           }
          ],
          "scattermapbox": [
           {
            "type": "scattermapbox",
            "marker": {
             "colorbar": {
              "outlinewidth": 0,
              "ticks": ""
             }
            }
           }
          ],
          "scatterternary": [
           {
            "type": "scatterternary",
            "marker": {
             "colorbar": {
              "outlinewidth": 0,
              "ticks": ""
             }
            }
           }
          ],
          "scattercarpet": [
           {
            "type": "scattercarpet",
            "marker": {
             "colorbar": {
              "outlinewidth": 0,
              "ticks": ""
             }
            }
           }
          ],
          "carpet": [
           {
            "aaxis": {
             "endlinecolor": "#2a3f5f",
             "gridcolor": "white",
             "linecolor": "white",
             "minorgridcolor": "white",
             "startlinecolor": "#2a3f5f"
            },
            "baxis": {
             "endlinecolor": "#2a3f5f",
             "gridcolor": "white",
             "linecolor": "white",
             "minorgridcolor": "white",
             "startlinecolor": "#2a3f5f"
            },
            "type": "carpet"
           }
          ],
          "table": [
           {
            "cells": {
             "fill": {
              "color": "#EBF0F8"
             },
             "line": {
              "color": "white"
             }
            },
            "header": {
             "fill": {
              "color": "#C8D4E3"
             },
             "line": {
              "color": "white"
             }
            },
            "type": "table"
           }
          ],
          "barpolar": [
           {
            "marker": {
             "line": {
              "color": "#E5ECF6",
              "width": 0.5
             },
             "pattern": {
              "fillmode": "overlay",
              "size": 10,
              "solidity": 0.2
             }
            },
            "type": "barpolar"
           }
          ],
          "pie": [
           {
            "automargin": true,
            "type": "pie"
           }
          ]
         },
         "layout": {
          "autotypenumbers": "strict",
          "colorway": [
           "#636efa",
           "#EF553B",
           "#00cc96",
           "#ab63fa",
           "#FFA15A",
           "#19d3f3",
           "#FF6692",
           "#B6E880",
           "#FF97FF",
           "#FECB52"
          ],
          "font": {
           "color": "#2a3f5f"
          },
          "hovermode": "closest",
          "hoverlabel": {
           "align": "left"
          },
          "paper_bgcolor": "white",
          "plot_bgcolor": "#E5ECF6",
          "polar": {
           "bgcolor": "#E5ECF6",
           "angularaxis": {
            "gridcolor": "white",
            "linecolor": "white",
            "ticks": ""
           },
           "radialaxis": {
            "gridcolor": "white",
            "linecolor": "white",
            "ticks": ""
           }
          },
          "ternary": {
           "bgcolor": "#E5ECF6",
           "aaxis": {
            "gridcolor": "white",
            "linecolor": "white",
            "ticks": ""
           },
           "baxis": {
            "gridcolor": "white",
            "linecolor": "white",
            "ticks": ""
           },
           "caxis": {
            "gridcolor": "white",
            "linecolor": "white",
            "ticks": ""
           }
          },
          "coloraxis": {
           "colorbar": {
            "outlinewidth": 0,
            "ticks": ""
           }
          },
          "colorscale": {
           "sequential": [
            [
             0.0,
             "#0d0887"
            ],
            [
             0.1111111111111111,
             "#46039f"
            ],
            [
             0.2222222222222222,
             "#7201a8"
            ],
            [
             0.3333333333333333,
             "#9c179e"
            ],
            [
             0.4444444444444444,
             "#bd3786"
            ],
            [
             0.5555555555555556,
             "#d8576b"
            ],
            [
             0.6666666666666666,
             "#ed7953"
            ],
            [
             0.7777777777777778,
             "#fb9f3a"
            ],
            [
             0.8888888888888888,
             "#fdca26"
            ],
            [
             1.0,
             "#f0f921"
            ]
           ],
           "sequentialminus": [
            [
             0.0,
             "#0d0887"
            ],
            [
             0.1111111111111111,
             "#46039f"
            ],
            [
             0.2222222222222222,
             "#7201a8"
            ],
            [
             0.3333333333333333,
             "#9c179e"
            ],
            [
             0.4444444444444444,
             "#bd3786"
            ],
            [
             0.5555555555555556,
             "#d8576b"
            ],
            [
             0.6666666666666666,
             "#ed7953"
            ],
            [
             0.7777777777777778,
             "#fb9f3a"
            ],
            [
             0.8888888888888888,
             "#fdca26"
            ],
            [
             1.0,
             "#f0f921"
            ]
           ],
           "diverging": [
            [
             0,
             "#8e0152"
            ],
            [
             0.1,
             "#c51b7d"
            ],
            [
             0.2,
             "#de77ae"
            ],
            [
             0.3,
             "#f1b6da"
            ],
            [
             0.4,
             "#fde0ef"
            ],
            [
             0.5,
             "#f7f7f7"
            ],
            [
             0.6,
             "#e6f5d0"
            ],
            [
             0.7,
             "#b8e186"
            ],
            [
             0.8,
             "#7fbc41"
            ],
            [
             0.9,
             "#4d9221"
            ],
            [
             1,
             "#276419"
            ]
           ]
          },
          "xaxis": {
           "gridcolor": "white",
           "linecolor": "white",
           "ticks": "",
           "title": {
            "standoff": 15
           },
           "zerolinecolor": "white",
           "automargin": true,
           "zerolinewidth": 2
          },
          "yaxis": {
           "gridcolor": "white",
           "linecolor": "white",
           "ticks": "",
           "title": {
            "standoff": 15
           },
           "zerolinecolor": "white",
           "automargin": true,
           "zerolinewidth": 2
          },
          "scene": {
           "xaxis": {
            "backgroundcolor": "#E5ECF6",
            "gridcolor": "white",
            "linecolor": "white",
            "showbackground": true,
            "ticks": "",
            "zerolinecolor": "white",
            "gridwidth": 2
           },
           "yaxis": {
            "backgroundcolor": "#E5ECF6",
            "gridcolor": "white",
            "linecolor": "white",
            "showbackground": true,
            "ticks": "",
            "zerolinecolor": "white",
            "gridwidth": 2
           },
           "zaxis": {
            "backgroundcolor": "#E5ECF6",
            "gridcolor": "white",
            "linecolor": "white",
            "showbackground": true,
            "ticks": "",
            "zerolinecolor": "white",
            "gridwidth": 2
           }
          },
          "shapedefaults": {
           "line": {
            "color": "#2a3f5f"
           }
          },
          "annotationdefaults": {
           "arrowcolor": "#2a3f5f",
           "arrowhead": 0,
           "arrowwidth": 1
          },
          "geo": {
           "bgcolor": "white",
           "landcolor": "#E5ECF6",
           "subunitcolor": "white",
           "showland": true,
           "showlakes": true,
           "lakecolor": "white"
          },
          "title": {
           "x": 0.05
          },
          "mapbox": {
           "style": "light"
          }
         }
        }
       },
       "config": {
        "plotlyServerURL": "https://plot.ly"
       }
      }
     },
     "metadata": {},
     "output_type": "display_data",
     "jetTransient": {
      "display_id": null
     }
    }
   ],
   "execution_count": 22
  },
  {
   "metadata": {},
   "cell_type": "code",
   "outputs": [],
   "execution_count": null,
   "source": "",
   "id": "ca342348dac84cb0"
  }
 ],
 "metadata": {
  "kernelspec": {
   "display_name": "Python 3",
   "language": "python",
   "name": "python3"
  },
  "language_info": {
   "codemirror_mode": {
    "name": "ipython",
    "version": 2
   },
   "file_extension": ".py",
   "mimetype": "text/x-python",
   "name": "python",
   "nbconvert_exporter": "python",
   "pygments_lexer": "ipython2",
   "version": "2.7.6"
  }
 },
 "nbformat": 4,
 "nbformat_minor": 5
}
